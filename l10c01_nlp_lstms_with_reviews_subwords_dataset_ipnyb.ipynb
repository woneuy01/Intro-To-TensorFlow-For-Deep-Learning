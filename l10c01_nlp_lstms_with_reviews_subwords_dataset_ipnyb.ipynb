{
  "nbformat": 4,
  "nbformat_minor": 0,
  "metadata": {
    "accelerator": "GPU",
    "colab": {
      "name": "l10c01_nlp_lstms_with_reviews_subwords_dataset.ipnyb",
      "provenance": [],
      "toc_visible": true,
      "include_colab_link": true
    },
    "kernelspec": {
      "display_name": "Python 3",
      "name": "python3"
    }
  },
  "cells": [
    {
      "cell_type": "markdown",
      "metadata": {
        "id": "view-in-github",
        "colab_type": "text"
      },
      "source": [
        "<a href=\"https://colab.research.google.com/github/woneuy01/Intro-To-TensorFlow-For-Deep-Learning/blob/master/l10c01_nlp_lstms_with_reviews_subwords_dataset_ipnyb.ipynb\" target=\"_parent\"><img src=\"https://colab.research.google.com/assets/colab-badge.svg\" alt=\"Open In Colab\"/></a>"
      ]
    },
    {
      "cell_type": "markdown",
      "metadata": {
        "colab_type": "text",
        "id": "punL79CN7Ox6"
      },
      "source": [
        "##### Copyright 2020 The TensorFlow Authors."
      ]
    },
    {
      "cell_type": "code",
      "metadata": {
        "cellView": "form",
        "colab_type": "code",
        "id": "_ckMIh7O7s6D",
        "colab": {}
      },
      "source": [
        "#@title Licensed under the Apache License, Version 2.0 (the \"License\");\n",
        "# you may not use this file except in compliance with the License.\n",
        "# You may obtain a copy of the License at\n",
        "#\n",
        "# https://www.apache.org/licenses/LICENSE-2.0\n",
        "#\n",
        "# Unless required by applicable law or agreed to in writing, software\n",
        "# distributed under the License is distributed on an \"AS IS\" BASIS,\n",
        "# WITHOUT WARRANTIES OR CONDITIONS OF ANY KIND, either express or implied.\n",
        "# See the License for the specific language governing permissions and\n",
        "# limitations under the License."
      ],
      "execution_count": 0,
      "outputs": []
    },
    {
      "cell_type": "markdown",
      "metadata": {
        "colab_type": "text",
        "id": "hAclqSm3OOml"
      },
      "source": [
        "# Using LSTMs with the subwords dataset\n",
        "\n",
        "\n",
        "\n",
        "\n",
        "\n",
        "\n",
        "\n",
        "\n"
      ]
    },
    {
      "cell_type": "markdown",
      "metadata": {
        "colab_type": "text",
        "id": "S5Uhzt6vVIB2"
      },
      "source": [
        "<table class=\"tfo-notebook-buttons\" align=\"left\">\n",
        "  <td>\n",
        "    <a target=\"_blank\" href=\"https://colab.research.google.com/github/tensorflow/examples/blob/master/courses/udacity_intro_to_tensorflow_for_deep_learning/l10c01_nlp_lstms_with_reviews_subwords_dataset.ipynb\"><img src=\"https://www.tensorflow.org/images/colab_logo_32px.png\" />Run in Google Colab</a>\n",
        "  </td>\n",
        "  <td>\n",
        "    <a target=\"_blank\" href=\"https://github.com/tensorflow/examples/blob/master/courses/udacity_intro_to_tensorflow_for_deep_learning/l10c01_nlp_lstms_with_reviews_subwords_dataset.ipynb\"><img src=\"https://www.tensorflow.org/images/GitHub-Mark-32px.png\" />View source on GitHub</a>\n",
        "  </td>\n",
        "</table>"
      ]
    },
    {
      "cell_type": "markdown",
      "metadata": {
        "colab_type": "text",
        "id": "KTVx8__oGR9J"
      },
      "source": [
        "In this colab, you'll compare the results of using a model with an Embedding layer and then adding bidirectional LSTM layers.\n",
        "\n",
        "You'll work with the dataset of subwords for the combined Yelp and Amazon reviews.\n",
        "\n",
        "You'll use your models to predict the sentiment of new reviews."
      ]
    },
    {
      "cell_type": "code",
      "metadata": {
        "colab_type": "code",
        "id": "L62G7LTwNzoD",
        "colab": {}
      },
      "source": [
        "import tensorflow as tf\n",
        "\n",
        "from tensorflow.keras.preprocessing.sequence import pad_sequences"
      ],
      "execution_count": 0,
      "outputs": []
    },
    {
      "cell_type": "markdown",
      "metadata": {
        "colab_type": "text",
        "id": "hLcl0QHvDjTV"
      },
      "source": [
        "# Get the dataset\n",
        "\n",
        "Start by getting the dataset containing Amazon and Yelp reviews, with their related sentiment (1 for positive, 0 for negative). This dataset was originally extracted from [here](https://www.kaggle.com/marklvl/sentiment-labelled-sentences-data-set).\n"
      ]
    },
    {
      "cell_type": "code",
      "metadata": {
        "colab_type": "code",
        "id": "nCOtiRJZbxCH",
        "colab": {
          "base_uri": "https://localhost:8080/",
          "height": 322
        },
        "outputId": "7c3bbed6-0084-4d70-8982-e07778fffd65"
      },
      "source": [
        "!wget --no-check-certificate \\\n",
        "    https://drive.google.com/uc?id=13ySLC_ue6Umt9RJYSeM2t-V0kCv-4C-P -O /tmp/sentiment.csv"
      ],
      "execution_count": 3,
      "outputs": [
        {
          "output_type": "stream",
          "text": [
            "--2020-04-20 03:31:20--  https://drive.google.com/uc?id=13ySLC_ue6Umt9RJYSeM2t-V0kCv-4C-P\n",
            "Resolving drive.google.com (drive.google.com)... 74.125.203.113, 74.125.203.100, 74.125.203.102, ...\n",
            "Connecting to drive.google.com (drive.google.com)|74.125.203.113|:443... connected.\n",
            "HTTP request sent, awaiting response... 302 Moved Temporarily\n",
            "Location: https://doc-08-ak-docs.googleusercontent.com/docs/securesc/ha0ro937gcuc7l7deffksulhg5h7mbp1/7226gi2hfqp6i6s6toe7ut2a90dg4fva/1587353475000/11118900490791463723/*/13ySLC_ue6Umt9RJYSeM2t-V0kCv-4C-P [following]\n",
            "Warning: wildcards not supported in HTTP.\n",
            "--2020-04-20 03:31:21--  https://doc-08-ak-docs.googleusercontent.com/docs/securesc/ha0ro937gcuc7l7deffksulhg5h7mbp1/7226gi2hfqp6i6s6toe7ut2a90dg4fva/1587353475000/11118900490791463723/*/13ySLC_ue6Umt9RJYSeM2t-V0kCv-4C-P\n",
            "Resolving doc-08-ak-docs.googleusercontent.com (doc-08-ak-docs.googleusercontent.com)... 74.125.23.132, 2404:6800:4008:c02::84\n",
            "Connecting to doc-08-ak-docs.googleusercontent.com (doc-08-ak-docs.googleusercontent.com)|74.125.23.132|:443... connected.\n",
            "HTTP request sent, awaiting response... 200 OK\n",
            "Length: 127831 (125K) [text/csv]\n",
            "Saving to: ‘/tmp/sentiment.csv’\n",
            "\n",
            "/tmp/sentiment.csv  100%[===================>] 124.83K  --.-KB/s    in 0.001s  \n",
            "\n",
            "2020-04-20 03:31:21 (97.9 MB/s) - ‘/tmp/sentiment.csv’ saved [127831/127831]\n",
            "\n"
          ],
          "name": "stdout"
        }
      ]
    },
    {
      "cell_type": "code",
      "metadata": {
        "colab_type": "code",
        "id": "XuqER_KMD-xS",
        "colab": {}
      },
      "source": [
        "import pandas as pd\n",
        "\n",
        "dataset = pd.read_csv('/tmp/sentiment.csv')\n",
        "\n",
        "# Extract out sentences and labels\n",
        "sentences = dataset['text'].tolist()\n",
        "labels = dataset['sentiment'].tolist()"
      ],
      "execution_count": 0,
      "outputs": []
    },
    {
      "cell_type": "code",
      "metadata": {
        "colab_type": "code",
        "id": "Tbsx1T2CXPNO",
        "colab": {
          "base_uri": "https://localhost:8080/",
          "height": 151
        },
        "outputId": "b8b8b5ce-bd0d-4b14-fe76-800221f0b735"
      },
      "source": [
        "# Print some example sentences and labels\n",
        "for x in range(2):\n",
        "  print(sentences[x])\n",
        "  print(labels[x])\n",
        "  print(\"\\n\")"
      ],
      "execution_count": 5,
      "outputs": [
        {
          "output_type": "stream",
          "text": [
            "So there is no way for me to plug it in here in the US unless I go by a converter.\n",
            "0\n",
            "\n",
            "\n",
            "Good case Excellent value.\n",
            "1\n",
            "\n",
            "\n"
          ],
          "name": "stdout"
        }
      ]
    },
    {
      "cell_type": "markdown",
      "metadata": {
        "colab_type": "text",
        "id": "33AthPiALFZK"
      },
      "source": [
        "#Create a subwords dataset\n",
        "\n",
        "We will use the Amazon and Yelp reviews dataset with tensorflow_datasets's SubwordTextEncoder functionality. \n",
        "\n",
        "SubwordTextEncoder.build_from_corpus() will create a tokenizer for us. You could also use this functionality to get subwords from a much larger corpus of text as well, but we'll just use our existing dataset here.\n",
        "\n",
        "We'll create a subword vocab_size of only the 1,000 most common subwords, as well as cutting off each subword to be at most 5 characters.\n",
        "\n",
        "Check out the related documentation for the the subword text encoder [here](https://www.tensorflow.org/datasets/api_docs/python/tfds/features/text/SubwordTextEncoder#build_from_corpus)."
      ]
    },
    {
      "cell_type": "code",
      "metadata": {
        "colab_type": "code",
        "id": "6NaicNCcLYyf",
        "colab": {
          "base_uri": "https://localhost:8080/",
          "height": 34
        },
        "outputId": "5fa02498-15bd-4604-bd0a-23473421ce8d"
      },
      "source": [
        "import tensorflow_datasets as tfds\n",
        "\n",
        "vocab_size = 1000\n",
        "tokenizer = tfds.features.text.SubwordTextEncoder.build_from_corpus(sentences, vocab_size, max_subword_length=5)\n",
        "\n",
        "# How big is the vocab size?\n",
        "print(\"Vocab size is \", tokenizer.vocab_size)"
      ],
      "execution_count": 6,
      "outputs": [
        {
          "output_type": "stream",
          "text": [
            "Vocab size is  999\n"
          ],
          "name": "stdout"
        }
      ]
    },
    {
      "cell_type": "code",
      "metadata": {
        "colab_type": "code",
        "id": "xvRVoeIVLevh",
        "colab": {
          "base_uri": "https://localhost:8080/",
          "height": 50
        },
        "outputId": "8cb8ad62-dada-4cbc-df27-8413d2f2c94e"
      },
      "source": [
        "# Check that the tokenizer works appropriately\n",
        "num = 5\n",
        "print(sentences[num])\n",
        "encoded = tokenizer.encode(sentences[num])\n",
        "print(encoded)"
      ],
      "execution_count": 7,
      "outputs": [
        {
          "output_type": "stream",
          "text": [
            "I have to jiggle the plug to get it to line up right to get decent volume.\n",
            "[4, 31, 6, 849, 162, 450, 12, 1, 600, 438, 775, 6, 175, 14, 6, 55, 213, 159, 474, 775, 6, 175, 614, 380, 295, 148, 72, 789]\n"
          ],
          "name": "stdout"
        }
      ]
    },
    {
      "cell_type": "code",
      "metadata": {
        "colab_type": "code",
        "id": "G_vacTCifklV",
        "colab": {
          "base_uri": "https://localhost:8080/",
          "height": 487
        },
        "outputId": "c0f9d122-e9a0-411c-8acd-f1a6aa632c1b"
      },
      "source": [
        "# Separately print out each subword, decoded\n",
        "for i in encoded:\n",
        "  print(tokenizer.decode([i]))"
      ],
      "execution_count": 8,
      "outputs": [
        {
          "output_type": "stream",
          "text": [
            "I \n",
            "have \n",
            "to \n",
            "j\n",
            "ig\n",
            "gl\n",
            "e \n",
            "the \n",
            "pl\n",
            "ug\n",
            " \n",
            "to \n",
            "get \n",
            "it \n",
            "to \n",
            "li\n",
            "ne \n",
            "up \n",
            "right\n",
            " \n",
            "to \n",
            "get \n",
            "dec\n",
            "ent \n",
            "vo\n",
            "lu\n",
            "me\n",
            ".\n"
          ],
          "name": "stdout"
        }
      ]
    },
    {
      "cell_type": "markdown",
      "metadata": {
        "colab_type": "text",
        "id": "cT528cptLupl"
      },
      "source": [
        "## Replace sentence data with encoded subwords\n",
        "\n",
        "Now, we'll create the sequences to be used for training by actually encoding each of the individual sentences. This is equivalent to `text_to_sequences` with the `Tokenizer` we used in earlier exercises."
      ]
    },
    {
      "cell_type": "code",
      "metadata": {
        "colab_type": "code",
        "id": "lkseMhxjL09F",
        "colab": {}
      },
      "source": [
        "for i, sentence in enumerate(sentences):\n",
        "  sentences[i] = tokenizer.encode(sentence)"
      ],
      "execution_count": 0,
      "outputs": []
    },
    {
      "cell_type": "code",
      "metadata": {
        "colab_type": "code",
        "id": "y21yRuzmL43U",
        "colab": {
          "base_uri": "https://localhost:8080/",
          "height": 34
        },
        "outputId": "07199d3f-06ba-4d3a-99a7-28248b4fbbec"
      },
      "source": [
        "# Check the sentences are appropriately replaced\n",
        "print(sentences[5])"
      ],
      "execution_count": 10,
      "outputs": [
        {
          "output_type": "stream",
          "text": [
            "[4, 31, 6, 849, 162, 450, 12, 1, 600, 438, 775, 6, 175, 14, 6, 55, 213, 159, 474, 775, 6, 175, 614, 380, 295, 148, 72, 789]\n"
          ],
          "name": "stdout"
        }
      ]
    },
    {
      "cell_type": "markdown",
      "metadata": {
        "colab_type": "text",
        "id": "8HrcPHESMBMs"
      },
      "source": [
        "## Final pre-processing\n",
        "\n",
        "Before training, we still need to pad the sequences, as well as split into training and test sets."
      ]
    },
    {
      "cell_type": "code",
      "metadata": {
        "colab_type": "code",
        "id": "50-hTsogLSL-",
        "colab": {}
      },
      "source": [
        "import numpy as np\n",
        "\n",
        "max_length = 50\n",
        "trunc_type='post'\n",
        "padding_type='post'\n",
        "\n",
        "# Pad all sequences\n",
        "sequences_padded = pad_sequences(sentences, maxlen=max_length, \n",
        "                                 padding=padding_type, truncating=trunc_type)\n",
        "\n",
        "# Separate out the sentences and labels into training and test sets\n",
        "training_size = int(len(sentences) * 0.8)\n",
        "\n",
        "training_sequences = sequences_padded[0:training_size]\n",
        "testing_sequences = sequences_padded[training_size:]\n",
        "training_labels = labels[0:training_size]\n",
        "testing_labels = labels[training_size:]\n",
        "\n",
        "# Make labels into numpy arrays for use with the network later\n",
        "training_labels_final = np.array(training_labels)\n",
        "testing_labels_final = np.array(testing_labels)"
      ],
      "execution_count": 0,
      "outputs": []
    },
    {
      "cell_type": "markdown",
      "metadata": {
        "colab_type": "text",
        "id": "PahZm7YEQ8EI"
      },
      "source": [
        "# Create the model using an Embedding"
      ]
    },
    {
      "cell_type": "code",
      "metadata": {
        "colab_type": "code",
        "id": "c_nyQeI0RCCv",
        "colab": {
          "base_uri": "https://localhost:8080/",
          "height": 286
        },
        "outputId": "b3c1aea2-ea3e-411e-fcfa-7a0985c22b23"
      },
      "source": [
        "embedding_dim = 16\n",
        "\n",
        "model = tf.keras.Sequential([\n",
        "    tf.keras.layers.Embedding(vocab_size, embedding_dim, input_length=max_length),\n",
        "    tf.keras.layers.GlobalAveragePooling1D(), \n",
        "    tf.keras.layers.Dense(6, activation='relu'),\n",
        "    tf.keras.layers.Dense(1, activation='sigmoid')\n",
        "])\n",
        "\n",
        "model.summary()"
      ],
      "execution_count": 12,
      "outputs": [
        {
          "output_type": "stream",
          "text": [
            "Model: \"sequential\"\n",
            "_________________________________________________________________\n",
            "Layer (type)                 Output Shape              Param #   \n",
            "=================================================================\n",
            "embedding (Embedding)        (None, 50, 16)            16000     \n",
            "_________________________________________________________________\n",
            "global_average_pooling1d (Gl (None, 16)                0         \n",
            "_________________________________________________________________\n",
            "dense (Dense)                (None, 6)                 102       \n",
            "_________________________________________________________________\n",
            "dense_1 (Dense)              (None, 1)                 7         \n",
            "=================================================================\n",
            "Total params: 16,109\n",
            "Trainable params: 16,109\n",
            "Non-trainable params: 0\n",
            "_________________________________________________________________\n"
          ],
          "name": "stdout"
        }
      ]
    },
    {
      "cell_type": "markdown",
      "metadata": {
        "colab_type": "text",
        "id": "3WRXrx8BRO2L"
      },
      "source": [
        "# Train the model"
      ]
    },
    {
      "cell_type": "code",
      "metadata": {
        "colab_type": "code",
        "id": "oBKyVYvxRQ_9",
        "colab": {
          "base_uri": "https://localhost:8080/",
          "height": 1000
        },
        "outputId": "4cd093c0-2445-43c2-b1d1-94b8180eb3b4"
      },
      "source": [
        "num_epochs = 30\n",
        "model.compile(loss='binary_crossentropy',optimizer='adam',metrics=['accuracy'])\n",
        "history = model.fit(training_sequences, training_labels_final, epochs=num_epochs, validation_data=(testing_sequences, testing_labels_final))\n"
      ],
      "execution_count": 13,
      "outputs": [
        {
          "output_type": "stream",
          "text": [
            "Epoch 1/30\n",
            "50/50 [==============================] - 0s 8ms/step - loss: 0.6918 - accuracy: 0.5217 - val_loss: 0.7004 - val_accuracy: 0.4110\n",
            "Epoch 2/30\n",
            "50/50 [==============================] - 0s 5ms/step - loss: 0.6884 - accuracy: 0.5223 - val_loss: 0.6998 - val_accuracy: 0.4110\n",
            "Epoch 3/30\n",
            "50/50 [==============================] - 0s 5ms/step - loss: 0.6844 - accuracy: 0.5311 - val_loss: 0.7005 - val_accuracy: 0.4236\n",
            "Epoch 4/30\n",
            "50/50 [==============================] - 0s 5ms/step - loss: 0.6787 - accuracy: 0.5587 - val_loss: 0.7001 - val_accuracy: 0.4461\n",
            "Epoch 5/30\n",
            "50/50 [==============================] - 0s 7ms/step - loss: 0.6683 - accuracy: 0.5888 - val_loss: 0.6936 - val_accuracy: 0.4787\n",
            "Epoch 6/30\n",
            "50/50 [==============================] - 0s 5ms/step - loss: 0.6512 - accuracy: 0.6328 - val_loss: 0.6756 - val_accuracy: 0.5288\n",
            "Epoch 7/30\n",
            "50/50 [==============================] - 0s 5ms/step - loss: 0.6257 - accuracy: 0.6905 - val_loss: 0.6594 - val_accuracy: 0.5764\n",
            "Epoch 8/30\n",
            "50/50 [==============================] - 0s 5ms/step - loss: 0.5934 - accuracy: 0.7238 - val_loss: 0.6295 - val_accuracy: 0.6817\n",
            "Epoch 9/30\n",
            "50/50 [==============================] - 0s 5ms/step - loss: 0.5559 - accuracy: 0.7916 - val_loss: 0.6265 - val_accuracy: 0.6341\n",
            "Epoch 10/30\n",
            "50/50 [==============================] - 0s 5ms/step - loss: 0.5199 - accuracy: 0.8167 - val_loss: 0.5799 - val_accuracy: 0.7419\n",
            "Epoch 11/30\n",
            "50/50 [==============================] - 0s 5ms/step - loss: 0.4799 - accuracy: 0.8406 - val_loss: 0.5749 - val_accuracy: 0.7218\n",
            "Epoch 12/30\n",
            "50/50 [==============================] - 0s 5ms/step - loss: 0.4460 - accuracy: 0.8550 - val_loss: 0.5411 - val_accuracy: 0.7243\n",
            "Epoch 13/30\n",
            "50/50 [==============================] - 0s 5ms/step - loss: 0.4130 - accuracy: 0.8650 - val_loss: 0.5429 - val_accuracy: 0.7318\n",
            "Epoch 14/30\n",
            "50/50 [==============================] - 0s 5ms/step - loss: 0.3843 - accuracy: 0.8701 - val_loss: 0.5428 - val_accuracy: 0.7343\n",
            "Epoch 15/30\n",
            "50/50 [==============================] - 0s 6ms/step - loss: 0.3621 - accuracy: 0.8757 - val_loss: 0.5308 - val_accuracy: 0.7419\n",
            "Epoch 16/30\n",
            "50/50 [==============================] - 0s 5ms/step - loss: 0.3374 - accuracy: 0.8889 - val_loss: 0.5243 - val_accuracy: 0.7469\n",
            "Epoch 17/30\n",
            "50/50 [==============================] - 0s 5ms/step - loss: 0.3168 - accuracy: 0.8964 - val_loss: 0.5341 - val_accuracy: 0.7343\n",
            "Epoch 18/30\n",
            "50/50 [==============================] - 0s 5ms/step - loss: 0.2998 - accuracy: 0.9002 - val_loss: 0.5116 - val_accuracy: 0.7469\n",
            "Epoch 19/30\n",
            "50/50 [==============================] - 0s 5ms/step - loss: 0.2828 - accuracy: 0.9077 - val_loss: 0.5078 - val_accuracy: 0.7519\n",
            "Epoch 20/30\n",
            "50/50 [==============================] - 0s 5ms/step - loss: 0.2692 - accuracy: 0.9115 - val_loss: 0.5298 - val_accuracy: 0.7519\n",
            "Epoch 21/30\n",
            "50/50 [==============================] - 0s 5ms/step - loss: 0.2606 - accuracy: 0.9083 - val_loss: 0.5296 - val_accuracy: 0.7519\n",
            "Epoch 22/30\n",
            "50/50 [==============================] - 0s 5ms/step - loss: 0.2460 - accuracy: 0.9259 - val_loss: 0.5075 - val_accuracy: 0.7594\n",
            "Epoch 23/30\n",
            "50/50 [==============================] - 0s 5ms/step - loss: 0.2344 - accuracy: 0.9266 - val_loss: 0.5329 - val_accuracy: 0.7544\n",
            "Epoch 24/30\n",
            "50/50 [==============================] - 0s 5ms/step - loss: 0.2267 - accuracy: 0.9278 - val_loss: 0.5158 - val_accuracy: 0.7569\n",
            "Epoch 25/30\n",
            "50/50 [==============================] - 0s 5ms/step - loss: 0.2168 - accuracy: 0.9316 - val_loss: 0.5627 - val_accuracy: 0.7419\n",
            "Epoch 26/30\n",
            "50/50 [==============================] - 0s 5ms/step - loss: 0.2078 - accuracy: 0.9328 - val_loss: 0.5287 - val_accuracy: 0.7569\n",
            "Epoch 27/30\n",
            "50/50 [==============================] - 0s 5ms/step - loss: 0.2007 - accuracy: 0.9353 - val_loss: 0.5531 - val_accuracy: 0.7644\n",
            "Epoch 28/30\n",
            "50/50 [==============================] - 0s 5ms/step - loss: 0.1940 - accuracy: 0.9441 - val_loss: 0.5603 - val_accuracy: 0.7619\n",
            "Epoch 29/30\n",
            "50/50 [==============================] - 0s 5ms/step - loss: 0.1882 - accuracy: 0.9385 - val_loss: 0.5439 - val_accuracy: 0.7569\n",
            "Epoch 30/30\n",
            "50/50 [==============================] - 0s 6ms/step - loss: 0.1818 - accuracy: 0.9429 - val_loss: 0.6198 - val_accuracy: 0.7393\n"
          ],
          "name": "stdout"
        }
      ]
    },
    {
      "cell_type": "markdown",
      "metadata": {
        "colab_type": "text",
        "id": "HhLPbUl2AZ0y"
      },
      "source": [
        "# Plot the accuracy and loss"
      ]
    },
    {
      "cell_type": "code",
      "metadata": {
        "colab_type": "code",
        "id": "jzBM1PpJAYfD",
        "colab": {
          "base_uri": "https://localhost:8080/",
          "height": 541
        },
        "outputId": "054cb2cf-e1fd-4024-e1c3-78f01a872b1a"
      },
      "source": [
        "import matplotlib.pyplot as plt\n",
        "\n",
        "\n",
        "def plot_graphs(history, string):\n",
        "  plt.plot(history.history[string])\n",
        "  plt.plot(history.history['val_'+string])\n",
        "  plt.xlabel(\"Epochs\")\n",
        "  plt.ylabel(string)\n",
        "  plt.legend([string, 'val_'+string])\n",
        "  plt.show()\n",
        "  \n",
        "plot_graphs(history, \"accuracy\")\n",
        "plot_graphs(history, \"loss\")"
      ],
      "execution_count": 14,
      "outputs": [
        {
          "output_type": "display_data",
          "data": {
            "image/png": "[encoded data removed]",
            "text/plain": [
              "<Figure size 432x288 with 1 Axes>"
            ]
          },
          "metadata": {
            "tags": [],
            "needs_background": "light"
          }
        },
        {
          "output_type": "display_data",
          "data": {
            "image/png": "[encoded data removed]",
            "text/plain": [
              "<Figure size 432x288 with 1 Axes>"
            ]
          },
          "metadata": {
            "tags": [],
            "needs_background": "light"
          }
        }
      ]
    },
    {
      "cell_type": "markdown",
      "metadata": {
        "colab_type": "text",
        "id": "Fwr5inBiWffb"
      },
      "source": [
        "# Define a function to predict the sentiment of reviews\n",
        "\n",
        "We'll be creating models with some differences and will use each model to predict the sentiment of some new reviews.\n",
        "\n",
        "To save time, create a function that will take in a model and some new reviews, and print out the sentiment of each reviews.\n",
        "\n",
        "The higher the sentiment value is to 1, the more positive the review is."
      ]
    },
    {
      "cell_type": "code",
      "metadata": {
        "colab_type": "code",
        "id": "aPNOYiiaha2y",
        "colab": {}
      },
      "source": [
        "# Define a function to take a series of reviews\n",
        "# and predict whether each one is a positive or negative review\n",
        "\n",
        "# max_length = 100 # previously defined\n",
        "\n",
        "def predict_review(model, new_sentences, maxlen=max_length, show_padded_sequence=True ):\n",
        "  # Keep the original sentences so that we can keep using them later\n",
        "  # Create an array to hold the encoded sequences\n",
        "  new_sequences = []\n",
        "\n",
        "  # Convert the new reviews to sequences\n",
        "  for i, frvw in enumerate(new_sentences):\n",
        "    new_sequences.append(tokenizer.encode(frvw))\n",
        "\n",
        "  trunc_type='post' \n",
        "  padding_type='post'\n",
        "\n",
        "  # Pad all sequences for the new reviews\n",
        "  new_reviews_padded = pad_sequences(new_sequences, maxlen=max_length, \n",
        "                                 padding=padding_type, truncating=trunc_type)             \n",
        "\n",
        "  classes = model.predict(new_reviews_padded)\n",
        "\n",
        "  # The closer the class is to 1, the more positive the review is\n",
        "  for x in range(len(new_sentences)):\n",
        "    \n",
        "    # We can see the padded sequence if desired\n",
        "    # Print the sequence\n",
        "    if (show_padded_sequence):\n",
        "      print(new_reviews_padded[x])\n",
        "    # Print the review as text\n",
        "    print(new_sentences[x])\n",
        "    # Print its predicted class\n",
        "    print(classes[x])\n",
        "    print(\"\\n\")"
      ],
      "execution_count": 0,
      "outputs": []
    },
    {
      "cell_type": "code",
      "metadata": {
        "colab_type": "code",
        "id": "Qg-maex27KPW",
        "colab": {
          "base_uri": "https://localhost:8080/",
          "height": 840
        },
        "outputId": "162feab8-4928-4b10-c547-995d8732f97f"
      },
      "source": [
        "# Use the model to predict some reviews   \n",
        "fake_reviews = [\"I love this phone\", \n",
        "                \"Everything was cold\",\n",
        "                \"Everything was hot exactly as I wanted\", \n",
        "                \"Everything was green\", \n",
        "                \"the host seated us immediately\",\n",
        "                \"they gave us free chocolate cake\", \n",
        "                \"we couldn't hear each other talk because of the shouting in the kitchen\"\n",
        "              ]\n",
        "\n",
        "predict_review(model, fake_reviews)\n"
      ],
      "execution_count": 16,
      "outputs": [
        {
          "output_type": "stream",
          "text": [
            "[  4 281  16  25   0   0   0   0   0   0   0   0   0   0   0   0   0   0\n",
            "   0   0   0   0   0   0   0   0   0   0   0   0   0   0   0   0   0   0\n",
            "   0   0   0   0   0   0   0   0   0   0   0   0   0   0]\n",
            "I love this phone\n",
            "[0.9564378]\n",
            "\n",
            "\n",
            "[812 227 864 100 775   9 525 843   0   0   0   0   0   0   0   0   0   0\n",
            "   0   0   0   0   0   0   0   0   0   0   0   0   0   0   0   0   0   0\n",
            "   0   0   0   0   0   0   0   0   0   0   0   0   0   0]\n",
            "Everything was cold\n",
            "[0.2019357]\n",
            "\n",
            "\n",
            "[812 227 864 100 775   9 109   8 333 731  24  61   4 171  59  77   0   0\n",
            "   0   0   0   0   0   0   0   0   0   0   0   0   0   0   0   0   0   0\n",
            "   0   0   0   0   0   0   0   0   0   0   0   0   0   0]\n",
            "Everything was hot exactly as I wanted\n",
            "[0.4291761]\n",
            "\n",
            "\n",
            "[812 227 864 100 775   9 157 359 853   0   0   0   0   0   0   0   0   0\n",
            "   0   0   0   0   0   0   0   0   0   0   0   0   0   0   0   0   0   0\n",
            "   0   0   0   0   0   0   0   0   0   0   0   0   0   0]\n",
            "Everything was green\n",
            "[0.1539171]\n",
            "\n",
            "\n",
            "[  1 109 228 540 237 635 241 423 340  89 298   0   0   0   0   0   0   0\n",
            "   0   0   0   0   0   0   0   0   0   0   0   0   0   0   0   0   0   0\n",
            "   0   0   0   0   0   0   0   0   0   0   0   0   0   0]\n",
            "the host seated us immediately\n",
            "[0.6498911]\n",
            "\n",
            "\n",
            "[154 242  47 635 341  12 569 547 147 319 775 125  85   0   0   0   0   0\n",
            "   0   0   0   0   0   0   0   0   0   0   0   0   0   0   0   0   0   0\n",
            "   0   0   0   0   0   0   0   0   0   0   0   0   0   0]\n",
            "they gave us free chocolate cake\n",
            "[0.84932214]\n",
            "\n",
            "\n",
            "[158 190 853 782   8 607 775 210 232 146 775 470  67 305 101  15   1 328\n",
            " 296  26  19   1 661 641 195   0   0   0   0   0   0   0   0   0   0   0\n",
            "   0   0   0   0   0   0   0   0   0   0   0   0   0   0]\n",
            "we couldn't hear each other talk because of the shouting in the kitchen\n",
            "[0.0521116]\n",
            "\n",
            "\n"
          ],
          "name": "stdout"
        }
      ]
    },
    {
      "cell_type": "markdown",
      "metadata": {
        "colab_type": "text",
        "id": "ycJKbMq3K4iy"
      },
      "source": [
        "# Define a function to train and show the results of models with different layers\n",
        "\n",
        "In the rest of this colab, we will define models, and then see the results. \n",
        "\n",
        "Define a function that will take the model, compile it, train it, graph the accuracy and loss, and then predict some results."
      ]
    },
    {
      "cell_type": "code",
      "metadata": {
        "colab_type": "code",
        "id": "PevUcINXK3gn",
        "colab": {}
      },
      "source": [
        "def fit_model_now (model, sentences) :\n",
        "  model.compile(loss='binary_crossentropy',optimizer='adam',metrics=['accuracy'])\n",
        "  model.summary()\n",
        "  history = model.fit(training_sequences, training_labels_final, epochs=num_epochs, \n",
        "                      validation_data=(testing_sequences, testing_labels_final))\n",
        "  return history\n",
        "\n",
        "def plot_results (history):\n",
        "  plot_graphs(history, \"accuracy\")\n",
        "  plot_graphs(history, \"loss\")\n",
        "\n",
        "def fit_model_and_show_results (model, sentences):\n",
        "  history = fit_model_now(model, sentences)\n",
        "  plot_results(history)\n",
        "  predict_review(model, sentences)"
      ],
      "execution_count": 0,
      "outputs": []
    },
    {
      "cell_type": "markdown",
      "metadata": {
        "colab_type": "text",
        "id": "U13JBiJUG1oq"
      },
      "source": [
        "# Add a bidirectional LSTM\n",
        "\n",
        "Create a new model that uses a bidirectional LSTM.\n",
        "\n",
        "Then use the function we have already defined to compile the model, train it, graph the accuracy and loss, then predict some results."
      ]
    },
    {
      "cell_type": "code",
      "metadata": {
        "colab_type": "code",
        "id": "scTUsFPAG4zP",
        "colab": {
          "base_uri": "https://localhost:8080/",
          "height": 1000
        },
        "outputId": "13957d91-3252-491b-f0ed-9cfdd2f5c61b"
      },
      "source": [
        "# Define the model\n",
        "model_bidi_lstm = tf.keras.Sequential([\n",
        "    tf.keras.layers.Embedding(vocab_size, embedding_dim, input_length=max_length),\n",
        "    tf.keras.layers.Bidirectional(tf.keras.layers.LSTM(embedding_dim)), \n",
        "    tf.keras.layers.Dense(6, activation='relu'), \n",
        "    tf.keras.layers.Dense(1, activation='sigmoid')\n",
        "])\n",
        "\n",
        "# Compile and train the model and then show the predictions for our extra sentences\n",
        "fit_model_and_show_results(model_bidi_lstm, fake_reviews)\n"
      ],
      "execution_count": 18,
      "outputs": [
        {
          "output_type": "stream",
          "text": [
            "Model: \"sequential_1\"\n",
            "_________________________________________________________________\n",
            "Layer (type)                 Output Shape              Param #   \n",
            "=================================================================\n",
            "embedding_1 (Embedding)      (None, 50, 16)            16000     \n",
            "_________________________________________________________________\n",
            "bidirectional (Bidirectional (None, 32)                4224      \n",
            "_________________________________________________________________\n",
            "dense_2 (Dense)              (None, 6)                 198       \n",
            "_________________________________________________________________\n",
            "dense_3 (Dense)              (None, 1)                 7         \n",
            "=================================================================\n",
            "Total params: 20,429\n",
            "Trainable params: 20,429\n",
            "Non-trainable params: 0\n",
            "_________________________________________________________________\n",
            "Epoch 1/30\n",
            "50/50 [==============================] - 1s 27ms/step - loss: 0.6905 - accuracy: 0.5229 - val_loss: 0.6973 - val_accuracy: 0.4160\n",
            "Epoch 2/30\n",
            "50/50 [==============================] - 1s 13ms/step - loss: 0.6470 - accuracy: 0.6372 - val_loss: 0.6118 - val_accuracy: 0.6917\n",
            "Epoch 3/30\n",
            "50/50 [==============================] - 1s 12ms/step - loss: 0.4611 - accuracy: 0.8098 - val_loss: 0.5244 - val_accuracy: 0.7469\n",
            "Epoch 4/30\n",
            "50/50 [==============================] - 1s 12ms/step - loss: 0.3285 - accuracy: 0.8688 - val_loss: 0.5124 - val_accuracy: 0.7569\n",
            "Epoch 5/30\n",
            "50/50 [==============================] - 1s 15ms/step - loss: 0.2549 - accuracy: 0.9071 - val_loss: 0.5330 - val_accuracy: 0.7619\n",
            "Epoch 6/30\n",
            "50/50 [==============================] - 1s 12ms/step - loss: 0.2126 - accuracy: 0.9259 - val_loss: 0.6766 - val_accuracy: 0.7494\n",
            "Epoch 7/30\n",
            "50/50 [==============================] - 1s 11ms/step - loss: 0.1689 - accuracy: 0.9492 - val_loss: 0.6994 - val_accuracy: 0.7494\n",
            "Epoch 8/30\n",
            "50/50 [==============================] - 1s 12ms/step - loss: 0.1458 - accuracy: 0.9586 - val_loss: 0.8533 - val_accuracy: 0.7519\n",
            "Epoch 9/30\n",
            "50/50 [==============================] - 1s 12ms/step - loss: 0.1420 - accuracy: 0.9592 - val_loss: 0.9389 - val_accuracy: 0.7419\n",
            "Epoch 10/30\n",
            "50/50 [==============================] - 1s 11ms/step - loss: 0.1448 - accuracy: 0.9561 - val_loss: 0.7569 - val_accuracy: 0.7444\n",
            "Epoch 11/30\n",
            "50/50 [==============================] - 1s 11ms/step - loss: 0.1221 - accuracy: 0.9667 - val_loss: 0.9203 - val_accuracy: 0.7419\n",
            "Epoch 12/30\n",
            "50/50 [==============================] - 1s 11ms/step - loss: 0.1029 - accuracy: 0.9718 - val_loss: 0.8363 - val_accuracy: 0.7444\n",
            "Epoch 13/30\n",
            "50/50 [==============================] - 1s 12ms/step - loss: 0.0901 - accuracy: 0.9793 - val_loss: 0.8439 - val_accuracy: 0.7594\n",
            "Epoch 14/30\n",
            "50/50 [==============================] - 1s 11ms/step - loss: 0.0894 - accuracy: 0.9768 - val_loss: 1.0852 - val_accuracy: 0.7444\n",
            "Epoch 15/30\n",
            "50/50 [==============================] - 1s 11ms/step - loss: 0.0736 - accuracy: 0.9837 - val_loss: 0.9893 - val_accuracy: 0.7368\n",
            "Epoch 16/30\n",
            "50/50 [==============================] - 1s 12ms/step - loss: 0.0696 - accuracy: 0.9849 - val_loss: 1.0928 - val_accuracy: 0.7318\n",
            "Epoch 17/30\n",
            "50/50 [==============================] - 1s 11ms/step - loss: 0.0641 - accuracy: 0.9862 - val_loss: 1.1031 - val_accuracy: 0.7293\n",
            "Epoch 18/30\n",
            "50/50 [==============================] - 1s 12ms/step - loss: 0.0748 - accuracy: 0.9824 - val_loss: 1.2355 - val_accuracy: 0.7368\n",
            "Epoch 19/30\n",
            "50/50 [==============================] - 1s 12ms/step - loss: 0.0694 - accuracy: 0.9868 - val_loss: 1.1272 - val_accuracy: 0.7393\n",
            "Epoch 20/30\n",
            "50/50 [==============================] - 1s 12ms/step - loss: 0.0524 - accuracy: 0.9918 - val_loss: 1.1510 - val_accuracy: 0.7368\n",
            "Epoch 21/30\n",
            "50/50 [==============================] - 1s 12ms/step - loss: 0.0470 - accuracy: 0.9925 - val_loss: 1.2097 - val_accuracy: 0.7393\n",
            "Epoch 22/30\n",
            "50/50 [==============================] - 1s 12ms/step - loss: 0.0442 - accuracy: 0.9925 - val_loss: 1.2356 - val_accuracy: 0.7419\n",
            "Epoch 23/30\n",
            "50/50 [==============================] - 1s 11ms/step - loss: 0.0426 - accuracy: 0.9931 - val_loss: 1.2495 - val_accuracy: 0.7368\n",
            "Epoch 24/30\n",
            "50/50 [==============================] - 1s 11ms/step - loss: 0.0409 - accuracy: 0.9931 - val_loss: 1.2942 - val_accuracy: 0.7419\n",
            "Epoch 25/30\n",
            "50/50 [==============================] - 1s 12ms/step - loss: 0.0406 - accuracy: 0.9937 - val_loss: 1.3083 - val_accuracy: 0.7444\n",
            "Epoch 26/30\n",
            "50/50 [==============================] - 1s 12ms/step - loss: 0.0393 - accuracy: 0.9937 - val_loss: 1.3329 - val_accuracy: 0.7494\n",
            "Epoch 27/30\n",
            "50/50 [==============================] - 1s 12ms/step - loss: 0.0390 - accuracy: 0.9937 - val_loss: 1.3209 - val_accuracy: 0.7494\n",
            "Epoch 28/30\n",
            "50/50 [==============================] - 1s 11ms/step - loss: 0.0372 - accuracy: 0.9937 - val_loss: 1.4014 - val_accuracy: 0.7469\n",
            "Epoch 29/30\n",
            "50/50 [==============================] - 1s 11ms/step - loss: 0.0363 - accuracy: 0.9937 - val_loss: 1.4194 - val_accuracy: 0.7469\n",
            "Epoch 30/30\n",
            "50/50 [==============================] - 1s 11ms/step - loss: 0.0931 - accuracy: 0.9699 - val_loss: 1.6501 - val_accuracy: 0.7268\n"
          ],
          "name": "stdout"
        },
        {
          "output_type": "display_data",
          "data": {
            "image/png": "[encoded data removed]",
            "text/plain": [
              "<Figure size 432x288 with 1 Axes>"
            ]
          },
          "metadata": {
            "tags": [],
            "needs_background": "light"
          }
        },
        {
          "output_type": "display_data",
          "data": {
            "image/png": "[encoded data removed]",
            "text/plain": [
              "<Figure size 432x288 with 1 Axes>"
            ]
          },
          "metadata": {
            "tags": [],
            "needs_background": "light"
          }
        },
        {
          "output_type": "stream",
          "text": [
            "[  4 281  16  25   0   0   0   0   0   0   0   0   0   0   0   0   0   0\n",
            "   0   0   0   0   0   0   0   0   0   0   0   0   0   0   0   0   0   0\n",
            "   0   0   0   0   0   0   0   0   0   0   0   0   0   0]\n",
            "I love this phone\n",
            "[0.99569595]\n",
            "\n",
            "\n",
            "[812 227 864 100 775   9 525 843   0   0   0   0   0   0   0   0   0   0\n",
            "   0   0   0   0   0   0   0   0   0   0   0   0   0   0   0   0   0   0\n",
            "   0   0   0   0   0   0   0   0   0   0   0   0   0   0]\n",
            "Everything was cold\n",
            "[0.02465271]\n",
            "\n",
            "\n",
            "[812 227 864 100 775   9 109   8 333 731  24  61   4 171  59  77   0   0\n",
            "   0   0   0   0   0   0   0   0   0   0   0   0   0   0   0   0   0   0\n",
            "   0   0   0   0   0   0   0   0   0   0   0   0   0   0]\n",
            "Everything was hot exactly as I wanted\n",
            "[0.01915423]\n",
            "\n",
            "\n",
            "[812 227 864 100 775   9 157 359 853   0   0   0   0   0   0   0   0   0\n",
            "   0   0   0   0   0   0   0   0   0   0   0   0   0   0   0   0   0   0\n",
            "   0   0   0   0   0   0   0   0   0   0   0   0   0   0]\n",
            "Everything was green\n",
            "[0.027582]\n",
            "\n",
            "\n",
            "[  1 109 228 540 237 635 241 423 340  89 298   0   0   0   0   0   0   0\n",
            "   0   0   0   0   0   0   0   0   0   0   0   0   0   0   0   0   0   0\n",
            "   0   0   0   0   0   0   0   0   0   0   0   0   0   0]\n",
            "the host seated us immediately\n",
            "[0.99624383]\n",
            "\n",
            "\n",
            "[154 242  47 635 341  12 569 547 147 319 775 125  85   0   0   0   0   0\n",
            "   0   0   0   0   0   0   0   0   0   0   0   0   0   0   0   0   0   0\n",
            "   0   0   0   0   0   0   0   0   0   0   0   0   0   0]\n",
            "they gave us free chocolate cake\n",
            "[0.9920455]\n",
            "\n",
            "\n",
            "[158 190 853 782   8 607 775 210 232 146 775 470  67 305 101  15   1 328\n",
            " 296  26  19   1 661 641 195   0   0   0   0   0   0   0   0   0   0   0\n",
            "   0   0   0   0   0   0   0   0   0   0   0   0   0   0]\n",
            "we couldn't hear each other talk because of the shouting in the kitchen\n",
            "[0.01868318]\n",
            "\n",
            "\n"
          ],
          "name": "stdout"
        }
      ]
    },
    {
      "cell_type": "markdown",
      "metadata": {
        "colab_type": "text",
        "id": "QsxKPbCnPJTj"
      },
      "source": [
        "# Use multiple bidirectional layers\n",
        "\n",
        "Now let's see if we get any improvements from adding another Bidirectional LSTM layer to the model.\n",
        "\n",
        "Notice that the first Bidirectionl LSTM layer returns a sequence."
      ]
    },
    {
      "cell_type": "code",
      "metadata": {
        "colab_type": "code",
        "id": "3N6Zul47PMED",
        "colab": {
          "base_uri": "https://localhost:8080/",
          "height": 1000
        },
        "outputId": "9aee7293-9d83-4bda-d1c0-d28329cb8ffe"
      },
      "source": [
        "model_multiple_bidi_lstm = tf.keras.Sequential([\n",
        "    tf.keras.layers.Embedding(vocab_size, embedding_dim, input_length=max_length),\n",
        "    tf.keras.layers.Bidirectional(tf.keras.layers.LSTM(embedding_dim, \n",
        "                                                       return_sequences=True)), \n",
        "    tf.keras.layers.Bidirectional(tf.keras.layers.LSTM(embedding_dim)),\n",
        "    tf.keras.layers.Dense(6, activation='relu'),\n",
        "    tf.keras.layers.Dense(1, activation='sigmoid')\n",
        "])\n",
        "\n",
        "fit_model_and_show_results(model_multiple_bidi_lstm, fake_reviews)"
      ],
      "execution_count": 19,
      "outputs": [
        {
          "output_type": "stream",
          "text": [
            "Model: \"sequential_2\"\n",
            "_________________________________________________________________\n",
            "Layer (type)                 Output Shape              Param #   \n",
            "=================================================================\n",
            "embedding_2 (Embedding)      (None, 50, 16)            16000     \n",
            "_________________________________________________________________\n",
            "bidirectional_1 (Bidirection (None, 50, 32)            4224      \n",
            "_________________________________________________________________\n",
            "bidirectional_2 (Bidirection (None, 32)                6272      \n",
            "_________________________________________________________________\n",
            "dense_4 (Dense)              (None, 6)                 198       \n",
            "_________________________________________________________________\n",
            "dense_5 (Dense)              (None, 1)                 7         \n",
            "=================================================================\n",
            "Total params: 26,701\n",
            "Trainable params: 26,701\n",
            "Non-trainable params: 0\n",
            "_________________________________________________________________\n",
            "Epoch 1/30\n",
            "50/50 [==============================] - 2s 46ms/step - loss: 0.6913 - accuracy: 0.5154 - val_loss: 0.6992 - val_accuracy: 0.4110\n",
            "Epoch 2/30\n",
            "50/50 [==============================] - 1s 20ms/step - loss: 0.6016 - accuracy: 0.6880 - val_loss: 0.4978 - val_accuracy: 0.7694\n",
            "Epoch 3/30\n",
            "50/50 [==============================] - 1s 18ms/step - loss: 0.4026 - accuracy: 0.8280 - val_loss: 0.5928 - val_accuracy: 0.7218\n",
            "Epoch 4/30\n",
            "50/50 [==============================] - 1s 18ms/step - loss: 0.3003 - accuracy: 0.8832 - val_loss: 0.5739 - val_accuracy: 0.7494\n",
            "Epoch 5/30\n",
            "50/50 [==============================] - 1s 18ms/step - loss: 0.2464 - accuracy: 0.9159 - val_loss: 0.5867 - val_accuracy: 0.7419\n",
            "Epoch 6/30\n",
            "50/50 [==============================] - 1s 19ms/step - loss: 0.2035 - accuracy: 0.9360 - val_loss: 0.6960 - val_accuracy: 0.7293\n",
            "Epoch 7/30\n",
            "50/50 [==============================] - 1s 20ms/step - loss: 0.1724 - accuracy: 0.9448 - val_loss: 0.7388 - val_accuracy: 0.7368\n",
            "Epoch 8/30\n",
            "50/50 [==============================] - 1s 20ms/step - loss: 0.1530 - accuracy: 0.9535 - val_loss: 0.8652 - val_accuracy: 0.7268\n",
            "Epoch 9/30\n",
            "50/50 [==============================] - 1s 18ms/step - loss: 0.1366 - accuracy: 0.9630 - val_loss: 0.7577 - val_accuracy: 0.7318\n",
            "Epoch 10/30\n",
            "50/50 [==============================] - 1s 19ms/step - loss: 0.1205 - accuracy: 0.9680 - val_loss: 0.9297 - val_accuracy: 0.7218\n",
            "Epoch 11/30\n",
            "50/50 [==============================] - 1s 18ms/step - loss: 0.1079 - accuracy: 0.9724 - val_loss: 0.9685 - val_accuracy: 0.7268\n",
            "Epoch 12/30\n",
            "50/50 [==============================] - 1s 18ms/step - loss: 0.1242 - accuracy: 0.9642 - val_loss: 1.0205 - val_accuracy: 0.7118\n",
            "Epoch 13/30\n",
            "50/50 [==============================] - 1s 18ms/step - loss: 0.1171 - accuracy: 0.9667 - val_loss: 0.8477 - val_accuracy: 0.7343\n",
            "Epoch 14/30\n",
            "50/50 [==============================] - 1s 18ms/step - loss: 0.0952 - accuracy: 0.9774 - val_loss: 0.9599 - val_accuracy: 0.7243\n",
            "Epoch 15/30\n",
            "50/50 [==============================] - 1s 19ms/step - loss: 0.0861 - accuracy: 0.9793 - val_loss: 0.9456 - val_accuracy: 0.7444\n",
            "Epoch 16/30\n",
            "50/50 [==============================] - 1s 18ms/step - loss: 0.0948 - accuracy: 0.9755 - val_loss: 0.9510 - val_accuracy: 0.7444\n",
            "Epoch 17/30\n",
            "50/50 [==============================] - 1s 18ms/step - loss: 0.0862 - accuracy: 0.9787 - val_loss: 1.0278 - val_accuracy: 0.7343\n",
            "Epoch 18/30\n",
            "50/50 [==============================] - 1s 18ms/step - loss: 0.0909 - accuracy: 0.9799 - val_loss: 1.2973 - val_accuracy: 0.6992\n",
            "Epoch 19/30\n",
            "50/50 [==============================] - 1s 19ms/step - loss: 0.0970 - accuracy: 0.9774 - val_loss: 0.9927 - val_accuracy: 0.7268\n",
            "Epoch 20/30\n",
            "50/50 [==============================] - 1s 18ms/step - loss: 0.0816 - accuracy: 0.9824 - val_loss: 0.9926 - val_accuracy: 0.7343\n",
            "Epoch 21/30\n",
            "50/50 [==============================] - 1s 19ms/step - loss: 0.0771 - accuracy: 0.9824 - val_loss: 0.9356 - val_accuracy: 0.7519\n",
            "Epoch 22/30\n",
            "50/50 [==============================] - 1s 18ms/step - loss: 0.0671 - accuracy: 0.9862 - val_loss: 0.9868 - val_accuracy: 0.7444\n",
            "Epoch 23/30\n",
            "50/50 [==============================] - 1s 20ms/step - loss: 0.0652 - accuracy: 0.9862 - val_loss: 1.1037 - val_accuracy: 0.7318\n",
            "Epoch 24/30\n",
            "50/50 [==============================] - 1s 19ms/step - loss: 0.0663 - accuracy: 0.9849 - val_loss: 1.0289 - val_accuracy: 0.7419\n",
            "Epoch 25/30\n",
            "50/50 [==============================] - 1s 19ms/step - loss: 0.0637 - accuracy: 0.9862 - val_loss: 1.1269 - val_accuracy: 0.7318\n",
            "Epoch 26/30\n",
            "50/50 [==============================] - 1s 18ms/step - loss: 0.0608 - accuracy: 0.9868 - val_loss: 1.0996 - val_accuracy: 0.7469\n",
            "Epoch 27/30\n",
            "50/50 [==============================] - 1s 18ms/step - loss: 0.0604 - accuracy: 0.9868 - val_loss: 1.1203 - val_accuracy: 0.7393\n",
            "Epoch 28/30\n",
            "50/50 [==============================] - 1s 18ms/step - loss: 0.0588 - accuracy: 0.9868 - val_loss: 1.2217 - val_accuracy: 0.7419\n",
            "Epoch 29/30\n",
            "50/50 [==============================] - 1s 18ms/step - loss: 0.0588 - accuracy: 0.9868 - val_loss: 1.1579 - val_accuracy: 0.7419\n",
            "Epoch 30/30\n",
            "50/50 [==============================] - 1s 18ms/step - loss: 0.0553 - accuracy: 0.9874 - val_loss: 1.3454 - val_accuracy: 0.7268\n"
          ],
          "name": "stdout"
        },
        {
          "output_type": "display_data",
          "data": {
            "image/png": "[encoded data removed]",
            "text/plain": [
              "<Figure size 432x288 with 1 Axes>"
            ]
          },
          "metadata": {
            "tags": [],
            "needs_background": "light"
          }
        },
        {
          "output_type": "display_data",
          "data": {
            "image/png": "[encoded data removed]",
            "text/plain": [
              "<Figure size 432x288 with 1 Axes>"
            ]
          },
          "metadata": {
            "tags": [],
            "needs_background": "light"
          }
        },
        {
          "output_type": "stream",
          "text": [
            "[  4 281  16  25   0   0   0   0   0   0   0   0   0   0   0   0   0   0\n",
            "   0   0   0   0   0   0   0   0   0   0   0   0   0   0   0   0   0   0\n",
            "   0   0   0   0   0   0   0   0   0   0   0   0   0   0]\n",
            "I love this phone\n",
            "[0.9988708]\n",
            "\n",
            "\n",
            "[812 227 864 100 775   9 525 843   0   0   0   0   0   0   0   0   0   0\n",
            "   0   0   0   0   0   0   0   0   0   0   0   0   0   0   0   0   0   0\n",
            "   0   0   0   0   0   0   0   0   0   0   0   0   0   0]\n",
            "Everything was cold\n",
            "[0.00656578]\n",
            "\n",
            "\n",
            "[812 227 864 100 775   9 109   8 333 731  24  61   4 171  59  77   0   0\n",
            "   0   0   0   0   0   0   0   0   0   0   0   0   0   0   0   0   0   0\n",
            "   0   0   0   0   0   0   0   0   0   0   0   0   0   0]\n",
            "Everything was hot exactly as I wanted\n",
            "[0.00361884]\n",
            "\n",
            "\n",
            "[812 227 864 100 775   9 157 359 853   0   0   0   0   0   0   0   0   0\n",
            "   0   0   0   0   0   0   0   0   0   0   0   0   0   0   0   0   0   0\n",
            "   0   0   0   0   0   0   0   0   0   0   0   0   0   0]\n",
            "Everything was green\n",
            "[0.00584137]\n",
            "\n",
            "\n",
            "[  1 109 228 540 237 635 241 423 340  89 298   0   0   0   0   0   0   0\n",
            "   0   0   0   0   0   0   0   0   0   0   0   0   0   0   0   0   0   0\n",
            "   0   0   0   0   0   0   0   0   0   0   0   0   0   0]\n",
            "the host seated us immediately\n",
            "[0.005945]\n",
            "\n",
            "\n",
            "[154 242  47 635 341  12 569 547 147 319 775 125  85   0   0   0   0   0\n",
            "   0   0   0   0   0   0   0   0   0   0   0   0   0   0   0   0   0   0\n",
            "   0   0   0   0   0   0   0   0   0   0   0   0   0   0]\n",
            "they gave us free chocolate cake\n",
            "[0.99701214]\n",
            "\n",
            "\n",
            "[158 190 853 782   8 607 775 210 232 146 775 470  67 305 101  15   1 328\n",
            " 296  26  19   1 661 641 195   0   0   0   0   0   0   0   0   0   0   0\n",
            "   0   0   0   0   0   0   0   0   0   0   0   0   0   0]\n",
            "we couldn't hear each other talk because of the shouting in the kitchen\n",
            "[0.00739612]\n",
            "\n",
            "\n"
          ],
          "name": "stdout"
        }
      ]
    },
    {
      "cell_type": "markdown",
      "metadata": {
        "colab_type": "text",
        "id": "ABVYYPwba8Hx"
      },
      "source": [
        "# Compare predictions for all the models\n",
        "\n",
        "It can be hard to see which model gives a better prediction for different reviews when you examine each model separately. So for comparison purposes, here we define some more reviews and print out the predictions that each of the three models gives for each review:\n",
        "\n",
        "*   Embeddings and a Global Average Pooling layer\n",
        "*   Embeddings and a Bidirectional LSTM layer\n",
        "*   Embeddings and two Bidirectional LSTM layers\n",
        "\n",
        "The results are not always what you might expect. The input dataset is fairly small, it has less than 2000 reviews. Some of the reviews are fairly short, and some of the short ones are fairly repetitive which reduces their impact on improving the  model, such as these two reviews:\n",
        "\n",
        "*   Bad Quality.\n",
        "*   Low Quality.\n",
        "\n",
        "Feel free to add more reviews of your own, or change the reviews. The results will depend on the combination of words in the reviews, and how well they match to reviews in the training set. \n",
        "\n",
        "How do the different models handle things like \"wasn't good\" which contains a positive word (good) but is a poor review?\n",
        "\n",
        "\n",
        "\n",
        "\n",
        "\n",
        "\n",
        "\n"
      ]
    },
    {
      "cell_type": "code",
      "metadata": {
        "colab_type": "code",
        "id": "6XebrXt0jtOy",
        "colab": {}
      },
      "source": [
        "my_reviews =[\"lovely\", \"dreadful\", \"stay away\",\n",
        "             \"everything was hot exactly as I wanted\",\n",
        "             \"everything was not exactly as I wanted\",\n",
        "             \"they gave us free chocolate cake\",\n",
        "             \"I've never eaten anything so spicy in my life, my throat burned for hours\",\n",
        "             \"for a phone that is as expensive as this one I expect it to be much easier to use than this thing is\",\n",
        "             \"we left there very full for a low price so I'd say you just can't go wrong at this place\",\n",
        "             \"that place does not have quality meals and it isn't a good place to go for dinner\",\n",
        "             ]"
      ],
      "execution_count": 0,
      "outputs": []
    },
    {
      "cell_type": "code",
      "metadata": {
        "colab_type": "code",
        "id": "tRWGjkJLkY2y",
        "colab": {
          "base_uri": "https://localhost:8080/",
          "height": 739
        },
        "outputId": "1b3b5073-cf3d-4b6e-c094-d676c9b98e20"
      },
      "source": [
        "print(\"===================================\\n\",\"Embeddings only:\\n\", \"===================================\",)\n",
        "predict_review(model, my_reviews, show_padded_sequence=False)"
      ],
      "execution_count": 21,
      "outputs": [
        {
          "output_type": "stream",
          "text": [
            "===================================\n",
            " Embeddings only:\n",
            " ===================================\n",
            "lovely\n",
            "[0.9604474]\n",
            "\n",
            "\n",
            "dreadful\n",
            "[0.46825883]\n",
            "\n",
            "\n",
            "stay away\n",
            "[0.79038817]\n",
            "\n",
            "\n",
            "everything was hot exactly as I wanted\n",
            "[0.8324662]\n",
            "\n",
            "\n",
            "everything was not exactly as I wanted\n",
            "[0.5697468]\n",
            "\n",
            "\n",
            "they gave us free chocolate cake\n",
            "[0.84932214]\n",
            "\n",
            "\n",
            "I've never eaten anything so spicy in my life, my throat burned for hours\n",
            "[0.06817517]\n",
            "\n",
            "\n",
            "for a phone that is as expensive as this one I expect it to be much easier to use than this thing is\n",
            "[0.3996815]\n",
            "\n",
            "\n",
            "we left there very full for a low price so I'd say you just can't go wrong at this place\n",
            "[0.81304985]\n",
            "\n",
            "\n",
            "that place does not have quality meals and it isn't a good place to go for dinner\n",
            "[0.88080317]\n",
            "\n",
            "\n"
          ],
          "name": "stdout"
        }
      ]
    },
    {
      "cell_type": "code",
      "metadata": {
        "colab_type": "code",
        "id": "G2FJR3IVBt30",
        "colab": {
          "base_uri": "https://localhost:8080/",
          "height": 739
        },
        "outputId": "1e7a9f02-62bf-43bb-ed98-1394dc305647"
      },
      "source": [
        "print(\"===================================\\n\", \"With a single bidirectional LSTM:\\n\", \"===================================\")\n",
        "predict_review(model_bidi_lstm, my_reviews, show_padded_sequence=False)"
      ],
      "execution_count": 22,
      "outputs": [
        {
          "output_type": "stream",
          "text": [
            "===================================\n",
            " With a single bidirectional LSTM:\n",
            " ===================================\n",
            "lovely\n",
            "[0.9995882]\n",
            "\n",
            "\n",
            "dreadful\n",
            "[0.01518845]\n",
            "\n",
            "\n",
            "stay away\n",
            "[0.16194102]\n",
            "\n",
            "\n",
            "everything was hot exactly as I wanted\n",
            "[0.03103646]\n",
            "\n",
            "\n",
            "everything was not exactly as I wanted\n",
            "[0.01705464]\n",
            "\n",
            "\n",
            "they gave us free chocolate cake\n",
            "[0.9920455]\n",
            "\n",
            "\n",
            "I've never eaten anything so spicy in my life, my throat burned for hours\n",
            "[0.8111874]\n",
            "\n",
            "\n",
            "for a phone that is as expensive as this one I expect it to be much easier to use than this thing is\n",
            "[0.03130618]\n",
            "\n",
            "\n",
            "we left there very full for a low price so I'd say you just can't go wrong at this place\n",
            "[0.23906595]\n",
            "\n",
            "\n",
            "that place does not have quality meals and it isn't a good place to go for dinner\n",
            "[0.962057]\n",
            "\n",
            "\n"
          ],
          "name": "stdout"
        }
      ]
    },
    {
      "cell_type": "code",
      "metadata": {
        "colab_type": "code",
        "id": "81v1r3Y2BwvC",
        "colab": {
          "base_uri": "https://localhost:8080/",
          "height": 739
        },
        "outputId": "42401fcd-5577-4fa9-b551-c8d36bfb674c"
      },
      "source": [
        "print(\"===================================\\n\",\"With two bidirectional LSTMs:\\n\", \"===================================\")\n",
        "predict_review(model_multiple_bidi_lstm, my_reviews, show_padded_sequence=False)"
      ],
      "execution_count": 23,
      "outputs": [
        {
          "output_type": "stream",
          "text": [
            "===================================\n",
            " With two bidirectional LSTMs:\n",
            " ===================================\n",
            "lovely\n",
            "[0.9988738]\n",
            "\n",
            "\n",
            "dreadful\n",
            "[0.00433815]\n",
            "\n",
            "\n",
            "stay away\n",
            "[0.01596694]\n",
            "\n",
            "\n",
            "everything was hot exactly as I wanted\n",
            "[0.9979467]\n",
            "\n",
            "\n",
            "everything was not exactly as I wanted\n",
            "[0.00432006]\n",
            "\n",
            "\n",
            "they gave us free chocolate cake\n",
            "[0.99701214]\n",
            "\n",
            "\n",
            "I've never eaten anything so spicy in my life, my throat burned for hours\n",
            "[0.00272199]\n",
            "\n",
            "\n",
            "for a phone that is as expensive as this one I expect it to be much easier to use than this thing is\n",
            "[0.01976359]\n",
            "\n",
            "\n",
            "we left there very full for a low price so I'd say you just can't go wrong at this place\n",
            "[0.00403189]\n",
            "\n",
            "\n",
            "that place does not have quality meals and it isn't a good place to go for dinner\n",
            "[0.0031371]\n",
            "\n",
            "\n"
          ],
          "name": "stdout"
        }
      ]
    }
  ]
}