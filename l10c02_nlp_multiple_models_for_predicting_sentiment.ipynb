{
  "nbformat": 4,
  "nbformat_minor": 0,
  "metadata": {
    "accelerator": "GPU",
    "colab": {
      "name": "l10c02_nlp_multiple_models_for_predicting_sentiment",
      "provenance": [],
      "toc_visible": true,
      "include_colab_link": true
    },
    "kernelspec": {
      "display_name": "Python 3",
      "name": "python3"
    },
    "widgets": {
      "application/vnd.jupyter.widget-state+json": {
        "d09f777a44d14e898173f775c5659465": {
          "model_module": "@jupyter-widgets/controls",
          "model_name": "HBoxModel",
          "state": {
            "_view_name": "HBoxView",
            "_dom_classes": [],
            "_model_name": "HBoxModel",
            "_view_module": "@jupyter-widgets/controls",
            "_model_module_version": "1.5.0",
            "_view_count": null,
            "_view_module_version": "1.5.0",
            "box_style": "",
            "layout": "IPY_MODEL_8ddc82f1313447cbb29710d57e1dde72",
            "_model_module": "@jupyter-widgets/controls",
            "children": [
              "IPY_MODEL_52e9d163ba3f467bafb3c29fbf087768",
              "IPY_MODEL_b0d2908ef0da4011bf88d3afdbc3c5be"
            ]
          }
        },
        "8ddc82f1313447cbb29710d57e1dde72": {
          "model_module": "@jupyter-widgets/base",
          "model_name": "LayoutModel",
          "state": {
            "_view_name": "LayoutView",
            "grid_template_rows": null,
            "right": null,
            "justify_content": null,
            "_view_module": "@jupyter-widgets/base",
            "overflow": null,
            "_model_module_version": "1.2.0",
            "_view_count": null,
            "flex_flow": null,
            "width": null,
            "min_width": null,
            "border": null,
            "align_items": null,
            "bottom": null,
            "_model_module": "@jupyter-widgets/base",
            "top": null,
            "grid_column": null,
            "overflow_y": null,
            "overflow_x": null,
            "grid_auto_flow": null,
            "grid_area": null,
            "grid_template_columns": null,
            "flex": null,
            "_model_name": "LayoutModel",
            "justify_items": null,
            "grid_row": null,
            "max_height": null,
            "align_content": null,
            "visibility": null,
            "align_self": null,
            "height": null,
            "min_height": null,
            "padding": null,
            "grid_auto_rows": null,
            "grid_gap": null,
            "max_width": null,
            "order": null,
            "_view_module_version": "1.2.0",
            "grid_template_areas": null,
            "object_position": null,
            "object_fit": null,
            "grid_auto_columns": null,
            "margin": null,
            "display": null,
            "left": null
          }
        },
        "52e9d163ba3f467bafb3c29fbf087768": {
          "model_module": "@jupyter-widgets/controls",
          "model_name": "IntProgressModel",
          "state": {
            "_view_name": "ProgressView",
            "style": "IPY_MODEL_0d9d166c9f084cfd94f9ef5d92eddb0c",
            "_dom_classes": [],
            "description": "Dl Completed...: 100%",
            "_model_name": "IntProgressModel",
            "bar_style": "success",
            "max": 1,
            "_view_module": "@jupyter-widgets/controls",
            "_model_module_version": "1.5.0",
            "value": 1,
            "_view_count": null,
            "_view_module_version": "1.5.0",
            "orientation": "horizontal",
            "min": 0,
            "description_tooltip": null,
            "_model_module": "@jupyter-widgets/controls",
            "layout": "IPY_MODEL_61594a24f935437499fbd8c8b822b2cb"
          }
        },
        "b0d2908ef0da4011bf88d3afdbc3c5be": {
          "model_module": "@jupyter-widgets/controls",
          "model_name": "HTMLModel",
          "state": {
            "_view_name": "HTMLView",
            "style": "IPY_MODEL_31ef0ca619184c89ae4c1428295be4f9",
            "_dom_classes": [],
            "description": "",
            "_model_name": "HTMLModel",
            "placeholder": "​",
            "_view_module": "@jupyter-widgets/controls",
            "_model_module_version": "1.5.0",
            "value": " 1/1 [00:01&lt;00:00,  1.03s/ url]",
            "_view_count": null,
            "_view_module_version": "1.5.0",
            "description_tooltip": null,
            "_model_module": "@jupyter-widgets/controls",
            "layout": "IPY_MODEL_69b611119886421282de23f9e27246ec"
          }
        },
        "0d9d166c9f084cfd94f9ef5d92eddb0c": {
          "model_module": "@jupyter-widgets/controls",
          "model_name": "ProgressStyleModel",
          "state": {
            "_view_name": "StyleView",
            "_model_name": "ProgressStyleModel",
            "description_width": "initial",
            "_view_module": "@jupyter-widgets/base",
            "_model_module_version": "1.5.0",
            "_view_count": null,
            "_view_module_version": "1.2.0",
            "bar_color": null,
            "_model_module": "@jupyter-widgets/controls"
          }
        },
        "61594a24f935437499fbd8c8b822b2cb": {
          "model_module": "@jupyter-widgets/base",
          "model_name": "LayoutModel",
          "state": {
            "_view_name": "LayoutView",
            "grid_template_rows": null,
            "right": null,
            "justify_content": null,
            "_view_module": "@jupyter-widgets/base",
            "overflow": null,
            "_model_module_version": "1.2.0",
            "_view_count": null,
            "flex_flow": null,
            "width": null,
            "min_width": null,
            "border": null,
            "align_items": null,
            "bottom": null,
            "_model_module": "@jupyter-widgets/base",
            "top": null,
            "grid_column": null,
            "overflow_y": null,
            "overflow_x": null,
            "grid_auto_flow": null,
            "grid_area": null,
            "grid_template_columns": null,
            "flex": null,
            "_model_name": "LayoutModel",
            "justify_items": null,
            "grid_row": null,
            "max_height": null,
            "align_content": null,
            "visibility": null,
            "align_self": null,
            "height": null,
            "min_height": null,
            "padding": null,
            "grid_auto_rows": null,
            "grid_gap": null,
            "max_width": null,
            "order": null,
            "_view_module_version": "1.2.0",
            "grid_template_areas": null,
            "object_position": null,
            "object_fit": null,
            "grid_auto_columns": null,
            "margin": null,
            "display": null,
            "left": null
          }
        },
        "31ef0ca619184c89ae4c1428295be4f9": {
          "model_module": "@jupyter-widgets/controls",
          "model_name": "DescriptionStyleModel",
          "state": {
            "_view_name": "StyleView",
            "_model_name": "DescriptionStyleModel",
            "description_width": "",
            "_view_module": "@jupyter-widgets/base",
            "_model_module_version": "1.5.0",
            "_view_count": null,
            "_view_module_version": "1.2.0",
            "_model_module": "@jupyter-widgets/controls"
          }
        },
        "69b611119886421282de23f9e27246ec": {
          "model_module": "@jupyter-widgets/base",
          "model_name": "LayoutModel",
          "state": {
            "_view_name": "LayoutView",
            "grid_template_rows": null,
            "right": null,
            "justify_content": null,
            "_view_module": "@jupyter-widgets/base",
            "overflow": null,
            "_model_module_version": "1.2.0",
            "_view_count": null,
            "flex_flow": null,
            "width": null,
            "min_width": null,
            "border": null,
            "align_items": null,
            "bottom": null,
            "_model_module": "@jupyter-widgets/base",
            "top": null,
            "grid_column": null,
            "overflow_y": null,
            "overflow_x": null,
            "grid_auto_flow": null,
            "grid_area": null,
            "grid_template_columns": null,
            "flex": null,
            "_model_name": "LayoutModel",
            "justify_items": null,
            "grid_row": null,
            "max_height": null,
            "align_content": null,
            "visibility": null,
            "align_self": null,
            "height": null,
            "min_height": null,
            "padding": null,
            "grid_auto_rows": null,
            "grid_gap": null,
            "max_width": null,
            "order": null,
            "_view_module_version": "1.2.0",
            "grid_template_areas": null,
            "object_position": null,
            "object_fit": null,
            "grid_auto_columns": null,
            "margin": null,
            "display": null,
            "left": null
          }
        },
        "540847ab8be1401e8865158b5d7d335b": {
          "model_module": "@jupyter-widgets/controls",
          "model_name": "HBoxModel",
          "state": {
            "_view_name": "HBoxView",
            "_dom_classes": [],
            "_model_name": "HBoxModel",
            "_view_module": "@jupyter-widgets/controls",
            "_model_module_version": "1.5.0",
            "_view_count": null,
            "_view_module_version": "1.5.0",
            "box_style": "",
            "layout": "IPY_MODEL_98719e500dac4859b311405433ac6fea",
            "_model_module": "@jupyter-widgets/controls",
            "children": [
              "IPY_MODEL_a518904d4f2e4b9196664f20b66fddca",
              "IPY_MODEL_dfc29b73f46344299646ac46a58b2de5"
            ]
          }
        },
        "98719e500dac4859b311405433ac6fea": {
          "model_module": "@jupyter-widgets/base",
          "model_name": "LayoutModel",
          "state": {
            "_view_name": "LayoutView",
            "grid_template_rows": null,
            "right": null,
            "justify_content": null,
            "_view_module": "@jupyter-widgets/base",
            "overflow": null,
            "_model_module_version": "1.2.0",
            "_view_count": null,
            "flex_flow": null,
            "width": null,
            "min_width": null,
            "border": null,
            "align_items": null,
            "bottom": null,
            "_model_module": "@jupyter-widgets/base",
            "top": null,
            "grid_column": null,
            "overflow_y": null,
            "overflow_x": null,
            "grid_auto_flow": null,
            "grid_area": null,
            "grid_template_columns": null,
            "flex": null,
            "_model_name": "LayoutModel",
            "justify_items": null,
            "grid_row": null,
            "max_height": null,
            "align_content": null,
            "visibility": null,
            "align_self": null,
            "height": null,
            "min_height": null,
            "padding": null,
            "grid_auto_rows": null,
            "grid_gap": null,
            "max_width": null,
            "order": null,
            "_view_module_version": "1.2.0",
            "grid_template_areas": null,
            "object_position": null,
            "object_fit": null,
            "grid_auto_columns": null,
            "margin": null,
            "display": null,
            "left": null
          }
        },
        "a518904d4f2e4b9196664f20b66fddca": {
          "model_module": "@jupyter-widgets/controls",
          "model_name": "IntProgressModel",
          "state": {
            "_view_name": "ProgressView",
            "style": "IPY_MODEL_4d6434f995194957b850fcc88cfffa2d",
            "_dom_classes": [],
            "description": "Dl Size...: 100%",
            "_model_name": "IntProgressModel",
            "bar_style": "success",
            "max": 1,
            "_view_module": "@jupyter-widgets/controls",
            "_model_module_version": "1.5.0",
            "value": 1,
            "_view_count": null,
            "_view_module_version": "1.5.0",
            "orientation": "horizontal",
            "min": 0,
            "description_tooltip": null,
            "_model_module": "@jupyter-widgets/controls",
            "layout": "IPY_MODEL_83a898092fb541b8b49bb802b5d453ef"
          }
        },
        "dfc29b73f46344299646ac46a58b2de5": {
          "model_module": "@jupyter-widgets/controls",
          "model_name": "HTMLModel",
          "state": {
            "_view_name": "HTMLView",
            "style": "IPY_MODEL_d469cf4d3a714f34a28321cfb8e0f123",
            "_dom_classes": [],
            "description": "",
            "_model_name": "HTMLModel",
            "placeholder": "​",
            "_view_module": "@jupyter-widgets/controls",
            "_model_module_version": "1.5.0",
            "value": " 7/7 [00:01&lt;00:00,  6.97 MiB/s]",
            "_view_count": null,
            "_view_module_version": "1.5.0",
            "description_tooltip": null,
            "_model_module": "@jupyter-widgets/controls",
            "layout": "IPY_MODEL_0f913f044179476499a34e742ba5fbaa"
          }
        },
        "4d6434f995194957b850fcc88cfffa2d": {
          "model_module": "@jupyter-widgets/controls",
          "model_name": "ProgressStyleModel",
          "state": {
            "_view_name": "StyleView",
            "_model_name": "ProgressStyleModel",
            "description_width": "initial",
            "_view_module": "@jupyter-widgets/base",
            "_model_module_version": "1.5.0",
            "_view_count": null,
            "_view_module_version": "1.2.0",
            "bar_color": null,
            "_model_module": "@jupyter-widgets/controls"
          }
        },
        "83a898092fb541b8b49bb802b5d453ef": {
          "model_module": "@jupyter-widgets/base",
          "model_name": "LayoutModel",
          "state": {
            "_view_name": "LayoutView",
            "grid_template_rows": null,
            "right": null,
            "justify_content": null,
            "_view_module": "@jupyter-widgets/base",
            "overflow": null,
            "_model_module_version": "1.2.0",
            "_view_count": null,
            "flex_flow": null,
            "width": null,
            "min_width": null,
            "border": null,
            "align_items": null,
            "bottom": null,
            "_model_module": "@jupyter-widgets/base",
            "top": null,
            "grid_column": null,
            "overflow_y": null,
            "overflow_x": null,
            "grid_auto_flow": null,
            "grid_area": null,
            "grid_template_columns": null,
            "flex": null,
            "_model_name": "LayoutModel",
            "justify_items": null,
            "grid_row": null,
            "max_height": null,
            "align_content": null,
            "visibility": null,
            "align_self": null,
            "height": null,
            "min_height": null,
            "padding": null,
            "grid_auto_rows": null,
            "grid_gap": null,
            "max_width": null,
            "order": null,
            "_view_module_version": "1.2.0",
            "grid_template_areas": null,
            "object_position": null,
            "object_fit": null,
            "grid_auto_columns": null,
            "margin": null,
            "display": null,
            "left": null
          }
        },
        "d469cf4d3a714f34a28321cfb8e0f123": {
          "model_module": "@jupyter-widgets/controls",
          "model_name": "DescriptionStyleModel",
          "state": {
            "_view_name": "StyleView",
            "_model_name": "DescriptionStyleModel",
            "description_width": "",
            "_view_module": "@jupyter-widgets/base",
            "_model_module_version": "1.5.0",
            "_view_count": null,
            "_view_module_version": "1.2.0",
            "_model_module": "@jupyter-widgets/controls"
          }
        },
        "0f913f044179476499a34e742ba5fbaa": {
          "model_module": "@jupyter-widgets/base",
          "model_name": "LayoutModel",
          "state": {
            "_view_name": "LayoutView",
            "grid_template_rows": null,
            "right": null,
            "justify_content": null,
            "_view_module": "@jupyter-widgets/base",
            "overflow": null,
            "_model_module_version": "1.2.0",
            "_view_count": null,
            "flex_flow": null,
            "width": null,
            "min_width": null,
            "border": null,
            "align_items": null,
            "bottom": null,
            "_model_module": "@jupyter-widgets/base",
            "top": null,
            "grid_column": null,
            "overflow_y": null,
            "overflow_x": null,
            "grid_auto_flow": null,
            "grid_area": null,
            "grid_template_columns": null,
            "flex": null,
            "_model_name": "LayoutModel",
            "justify_items": null,
            "grid_row": null,
            "max_height": null,
            "align_content": null,
            "visibility": null,
            "align_self": null,
            "height": null,
            "min_height": null,
            "padding": null,
            "grid_auto_rows": null,
            "grid_gap": null,
            "max_width": null,
            "order": null,
            "_view_module_version": "1.2.0",
            "grid_template_areas": null,
            "object_position": null,
            "object_fit": null,
            "grid_auto_columns": null,
            "margin": null,
            "display": null,
            "left": null
          }
        },
        "65a6f907d70f41c6a9acdc6732ca078c": {
          "model_module": "@jupyter-widgets/controls",
          "model_name": "HBoxModel",
          "state": {
            "_view_name": "HBoxView",
            "_dom_classes": [],
            "_model_name": "HBoxModel",
            "_view_module": "@jupyter-widgets/controls",
            "_model_module_version": "1.5.0",
            "_view_count": null,
            "_view_module_version": "1.5.0",
            "box_style": "",
            "layout": "IPY_MODEL_5d9b0b7b67f540f6aea8dfe11a092b76",
            "_model_module": "@jupyter-widgets/controls",
            "children": [
              "IPY_MODEL_75b53570939544c39cfb148bff8fa0f3",
              "IPY_MODEL_a35d6f997d4b4a3b826f571c78c73c51"
            ]
          }
        },
        "5d9b0b7b67f540f6aea8dfe11a092b76": {
          "model_module": "@jupyter-widgets/base",
          "model_name": "LayoutModel",
          "state": {
            "_view_name": "LayoutView",
            "grid_template_rows": null,
            "right": null,
            "justify_content": null,
            "_view_module": "@jupyter-widgets/base",
            "overflow": null,
            "_model_module_version": "1.2.0",
            "_view_count": null,
            "flex_flow": null,
            "width": null,
            "min_width": null,
            "border": null,
            "align_items": null,
            "bottom": null,
            "_model_module": "@jupyter-widgets/base",
            "top": null,
            "grid_column": null,
            "overflow_y": null,
            "overflow_x": null,
            "grid_auto_flow": null,
            "grid_area": null,
            "grid_template_columns": null,
            "flex": null,
            "_model_name": "LayoutModel",
            "justify_items": null,
            "grid_row": null,
            "max_height": null,
            "align_content": null,
            "visibility": null,
            "align_self": null,
            "height": null,
            "min_height": null,
            "padding": null,
            "grid_auto_rows": null,
            "grid_gap": null,
            "max_width": null,
            "order": null,
            "_view_module_version": "1.2.0",
            "grid_template_areas": null,
            "object_position": null,
            "object_fit": null,
            "grid_auto_columns": null,
            "margin": null,
            "display": null,
            "left": null
          }
        },
        "75b53570939544c39cfb148bff8fa0f3": {
          "model_module": "@jupyter-widgets/controls",
          "model_name": "IntProgressModel",
          "state": {
            "_view_name": "ProgressView",
            "style": "IPY_MODEL_3d8def3de14b452a9051a6d947fb0d4a",
            "_dom_classes": [],
            "description": "Extraction completed...: 100%",
            "_model_name": "IntProgressModel",
            "bar_style": "success",
            "max": 1,
            "_view_module": "@jupyter-widgets/controls",
            "_model_module_version": "1.5.0",
            "value": 1,
            "_view_count": null,
            "_view_module_version": "1.5.0",
            "orientation": "horizontal",
            "min": 0,
            "description_tooltip": null,
            "_model_module": "@jupyter-widgets/controls",
            "layout": "IPY_MODEL_4a06aa3446114ab9aad2e208be36a21d"
          }
        },
        "a35d6f997d4b4a3b826f571c78c73c51": {
          "model_module": "@jupyter-widgets/controls",
          "model_name": "HTMLModel",
          "state": {
            "_view_name": "HTMLView",
            "style": "IPY_MODEL_854d67d2edeb4754ab82f9dd63fd22a5",
            "_dom_classes": [],
            "description": "",
            "_model_name": "HTMLModel",
            "placeholder": "​",
            "_view_module": "@jupyter-widgets/controls",
            "_model_module_version": "1.5.0",
            "value": " 1/1 [00:00&lt;00:00,  1.03 file/s]",
            "_view_count": null,
            "_view_module_version": "1.5.0",
            "description_tooltip": null,
            "_model_module": "@jupyter-widgets/controls",
            "layout": "IPY_MODEL_83f7b286383e41c489d33543f25c56b7"
          }
        },
        "3d8def3de14b452a9051a6d947fb0d4a": {
          "model_module": "@jupyter-widgets/controls",
          "model_name": "ProgressStyleModel",
          "state": {
            "_view_name": "StyleView",
            "_model_name": "ProgressStyleModel",
            "description_width": "initial",
            "_view_module": "@jupyter-widgets/base",
            "_model_module_version": "1.5.0",
            "_view_count": null,
            "_view_module_version": "1.2.0",
            "bar_color": null,
            "_model_module": "@jupyter-widgets/controls"
          }
        },
        "4a06aa3446114ab9aad2e208be36a21d": {
          "model_module": "@jupyter-widgets/base",
          "model_name": "LayoutModel",
          "state": {
            "_view_name": "LayoutView",
            "grid_template_rows": null,
            "right": null,
            "justify_content": null,
            "_view_module": "@jupyter-widgets/base",
            "overflow": null,
            "_model_module_version": "1.2.0",
            "_view_count": null,
            "flex_flow": null,
            "width": null,
            "min_width": null,
            "border": null,
            "align_items": null,
            "bottom": null,
            "_model_module": "@jupyter-widgets/base",
            "top": null,
            "grid_column": null,
            "overflow_y": null,
            "overflow_x": null,
            "grid_auto_flow": null,
            "grid_area": null,
            "grid_template_columns": null,
            "flex": null,
            "_model_name": "LayoutModel",
            "justify_items": null,
            "grid_row": null,
            "max_height": null,
            "align_content": null,
            "visibility": null,
            "align_self": null,
            "height": null,
            "min_height": null,
            "padding": null,
            "grid_auto_rows": null,
            "grid_gap": null,
            "max_width": null,
            "order": null,
            "_view_module_version": "1.2.0",
            "grid_template_areas": null,
            "object_position": null,
            "object_fit": null,
            "grid_auto_columns": null,
            "margin": null,
            "display": null,
            "left": null
          }
        },
        "854d67d2edeb4754ab82f9dd63fd22a5": {
          "model_module": "@jupyter-widgets/controls",
          "model_name": "DescriptionStyleModel",
          "state": {
            "_view_name": "StyleView",
            "_model_name": "DescriptionStyleModel",
            "description_width": "",
            "_view_module": "@jupyter-widgets/base",
            "_model_module_version": "1.5.0",
            "_view_count": null,
            "_view_module_version": "1.2.0",
            "_model_module": "@jupyter-widgets/controls"
          }
        },
        "83f7b286383e41c489d33543f25c56b7": {
          "model_module": "@jupyter-widgets/base",
          "model_name": "LayoutModel",
          "state": {
            "_view_name": "LayoutView",
            "grid_template_rows": null,
            "right": null,
            "justify_content": null,
            "_view_module": "@jupyter-widgets/base",
            "overflow": null,
            "_model_module_version": "1.2.0",
            "_view_count": null,
            "flex_flow": null,
            "width": null,
            "min_width": null,
            "border": null,
            "align_items": null,
            "bottom": null,
            "_model_module": "@jupyter-widgets/base",
            "top": null,
            "grid_column": null,
            "overflow_y": null,
            "overflow_x": null,
            "grid_auto_flow": null,
            "grid_area": null,
            "grid_template_columns": null,
            "flex": null,
            "_model_name": "LayoutModel",
            "justify_items": null,
            "grid_row": null,
            "max_height": null,
            "align_content": null,
            "visibility": null,
            "align_self": null,
            "height": null,
            "min_height": null,
            "padding": null,
            "grid_auto_rows": null,
            "grid_gap": null,
            "max_width": null,
            "order": null,
            "_view_module_version": "1.2.0",
            "grid_template_areas": null,
            "object_position": null,
            "object_fit": null,
            "grid_auto_columns": null,
            "margin": null,
            "display": null,
            "left": null
          }
        },
        "ba139b48720743fca8e21e2dc00487c5": {
          "model_module": "@jupyter-widgets/controls",
          "model_name": "HBoxModel",
          "state": {
            "_view_name": "HBoxView",
            "_dom_classes": [],
            "_model_name": "HBoxModel",
            "_view_module": "@jupyter-widgets/controls",
            "_model_module_version": "1.5.0",
            "_view_count": null,
            "_view_module_version": "1.5.0",
            "box_style": "",
            "layout": "IPY_MODEL_192b2c34904648d8be1a6ae1e42a2cff",
            "_model_module": "@jupyter-widgets/controls",
            "children": [
              "IPY_MODEL_ec456491831c44789b09a00a4b5c2289",
              "IPY_MODEL_ef232d7877a64486ae8bb052383a62d6"
            ]
          }
        },
        "192b2c34904648d8be1a6ae1e42a2cff": {
          "model_module": "@jupyter-widgets/base",
          "model_name": "LayoutModel",
          "state": {
            "_view_name": "LayoutView",
            "grid_template_rows": null,
            "right": null,
            "justify_content": null,
            "_view_module": "@jupyter-widgets/base",
            "overflow": null,
            "_model_module_version": "1.2.0",
            "_view_count": null,
            "flex_flow": null,
            "width": null,
            "min_width": null,
            "border": null,
            "align_items": null,
            "bottom": null,
            "_model_module": "@jupyter-widgets/base",
            "top": null,
            "grid_column": null,
            "overflow_y": null,
            "overflow_x": null,
            "grid_auto_flow": null,
            "grid_area": null,
            "grid_template_columns": null,
            "flex": null,
            "_model_name": "LayoutModel",
            "justify_items": null,
            "grid_row": null,
            "max_height": null,
            "align_content": null,
            "visibility": null,
            "align_self": null,
            "height": null,
            "min_height": null,
            "padding": null,
            "grid_auto_rows": null,
            "grid_gap": null,
            "max_width": null,
            "order": null,
            "_view_module_version": "1.2.0",
            "grid_template_areas": null,
            "object_position": null,
            "object_fit": null,
            "grid_auto_columns": null,
            "margin": null,
            "display": null,
            "left": null
          }
        },
        "ec456491831c44789b09a00a4b5c2289": {
          "model_module": "@jupyter-widgets/controls",
          "model_name": "IntProgressModel",
          "state": {
            "_view_name": "ProgressView",
            "style": "IPY_MODEL_92cbc10a81a744df9753723b4b524be2",
            "_dom_classes": [],
            "description": "",
            "_model_name": "IntProgressModel",
            "bar_style": "info",
            "max": 1,
            "_view_module": "@jupyter-widgets/controls",
            "_model_module_version": "1.5.0",
            "value": 1,
            "_view_count": null,
            "_view_module_version": "1.5.0",
            "orientation": "horizontal",
            "min": 0,
            "description_tooltip": null,
            "_model_module": "@jupyter-widgets/controls",
            "layout": "IPY_MODEL_1f29b7ca5c42437cb9c9c3a6887225ac"
          }
        },
        "ef232d7877a64486ae8bb052383a62d6": {
          "model_module": "@jupyter-widgets/controls",
          "model_name": "HTMLModel",
          "state": {
            "_view_name": "HTMLView",
            "style": "IPY_MODEL_80ec832a4385494ab256159f64329ca7",
            "_dom_classes": [],
            "description": "",
            "_model_name": "HTMLModel",
            "placeholder": "​",
            "_view_module": "@jupyter-widgets/controls",
            "_model_module_version": "1.5.0",
            "value": " 67349/0 [00:20&lt;00:00, 3343.59 examples/s]",
            "_view_count": null,
            "_view_module_version": "1.5.0",
            "description_tooltip": null,
            "_model_module": "@jupyter-widgets/controls",
            "layout": "IPY_MODEL_77c73116b40649ed95c72866cb7d08fa"
          }
        },
        "92cbc10a81a744df9753723b4b524be2": {
          "model_module": "@jupyter-widgets/controls",
          "model_name": "ProgressStyleModel",
          "state": {
            "_view_name": "StyleView",
            "_model_name": "ProgressStyleModel",
            "description_width": "initial",
            "_view_module": "@jupyter-widgets/base",
            "_model_module_version": "1.5.0",
            "_view_count": null,
            "_view_module_version": "1.2.0",
            "bar_color": null,
            "_model_module": "@jupyter-widgets/controls"
          }
        },
        "1f29b7ca5c42437cb9c9c3a6887225ac": {
          "model_module": "@jupyter-widgets/base",
          "model_name": "LayoutModel",
          "state": {
            "_view_name": "LayoutView",
            "grid_template_rows": null,
            "right": null,
            "justify_content": null,
            "_view_module": "@jupyter-widgets/base",
            "overflow": null,
            "_model_module_version": "1.2.0",
            "_view_count": null,
            "flex_flow": null,
            "width": null,
            "min_width": null,
            "border": null,
            "align_items": null,
            "bottom": null,
            "_model_module": "@jupyter-widgets/base",
            "top": null,
            "grid_column": null,
            "overflow_y": null,
            "overflow_x": null,
            "grid_auto_flow": null,
            "grid_area": null,
            "grid_template_columns": null,
            "flex": null,
            "_model_name": "LayoutModel",
            "justify_items": null,
            "grid_row": null,
            "max_height": null,
            "align_content": null,
            "visibility": null,
            "align_self": null,
            "height": null,
            "min_height": null,
            "padding": null,
            "grid_auto_rows": null,
            "grid_gap": null,
            "max_width": null,
            "order": null,
            "_view_module_version": "1.2.0",
            "grid_template_areas": null,
            "object_position": null,
            "object_fit": null,
            "grid_auto_columns": null,
            "margin": null,
            "display": null,
            "left": null
          }
        },
        "80ec832a4385494ab256159f64329ca7": {
          "model_module": "@jupyter-widgets/controls",
          "model_name": "DescriptionStyleModel",
          "state": {
            "_view_name": "StyleView",
            "_model_name": "DescriptionStyleModel",
            "description_width": "",
            "_view_module": "@jupyter-widgets/base",
            "_model_module_version": "1.5.0",
            "_view_count": null,
            "_view_module_version": "1.2.0",
            "_model_module": "@jupyter-widgets/controls"
          }
        },
        "77c73116b40649ed95c72866cb7d08fa": {
          "model_module": "@jupyter-widgets/base",
          "model_name": "LayoutModel",
          "state": {
            "_view_name": "LayoutView",
            "grid_template_rows": null,
            "right": null,
            "justify_content": null,
            "_view_module": "@jupyter-widgets/base",
            "overflow": null,
            "_model_module_version": "1.2.0",
            "_view_count": null,
            "flex_flow": null,
            "width": null,
            "min_width": null,
            "border": null,
            "align_items": null,
            "bottom": null,
            "_model_module": "@jupyter-widgets/base",
            "top": null,
            "grid_column": null,
            "overflow_y": null,
            "overflow_x": null,
            "grid_auto_flow": null,
            "grid_area": null,
            "grid_template_columns": null,
            "flex": null,
            "_model_name": "LayoutModel",
            "justify_items": null,
            "grid_row": null,
            "max_height": null,
            "align_content": null,
            "visibility": null,
            "align_self": null,
            "height": null,
            "min_height": null,
            "padding": null,
            "grid_auto_rows": null,
            "grid_gap": null,
            "max_width": null,
            "order": null,
            "_view_module_version": "1.2.0",
            "grid_template_areas": null,
            "object_position": null,
            "object_fit": null,
            "grid_auto_columns": null,
            "margin": null,
            "display": null,
            "left": null
          }
        },
        "ae4150a5d2af4f33b49d4db588b8bf83": {
          "model_module": "@jupyter-widgets/controls",
          "model_name": "HBoxModel",
          "state": {
            "_view_name": "HBoxView",
            "_dom_classes": [],
            "_model_name": "HBoxModel",
            "_view_module": "@jupyter-widgets/controls",
            "_model_module_version": "1.5.0",
            "_view_count": null,
            "_view_module_version": "1.5.0",
            "box_style": "",
            "layout": "IPY_MODEL_3fbce1a261564e0781673f4a147472f7",
            "_model_module": "@jupyter-widgets/controls",
            "children": [
              "IPY_MODEL_f512d64dc0714621bd3044d9855b0ee7",
              "IPY_MODEL_71dafea10c69459dadf168ebc2e6f727"
            ]
          }
        },
        "3fbce1a261564e0781673f4a147472f7": {
          "model_module": "@jupyter-widgets/base",
          "model_name": "LayoutModel",
          "state": {
            "_view_name": "LayoutView",
            "grid_template_rows": null,
            "right": null,
            "justify_content": null,
            "_view_module": "@jupyter-widgets/base",
            "overflow": null,
            "_model_module_version": "1.2.0",
            "_view_count": null,
            "flex_flow": null,
            "width": null,
            "min_width": null,
            "border": null,
            "align_items": null,
            "bottom": null,
            "_model_module": "@jupyter-widgets/base",
            "top": null,
            "grid_column": null,
            "overflow_y": null,
            "overflow_x": null,
            "grid_auto_flow": null,
            "grid_area": null,
            "grid_template_columns": null,
            "flex": null,
            "_model_name": "LayoutModel",
            "justify_items": null,
            "grid_row": null,
            "max_height": null,
            "align_content": null,
            "visibility": null,
            "align_self": null,
            "height": null,
            "min_height": null,
            "padding": null,
            "grid_auto_rows": null,
            "grid_gap": null,
            "max_width": null,
            "order": null,
            "_view_module_version": "1.2.0",
            "grid_template_areas": null,
            "object_position": null,
            "object_fit": null,
            "grid_auto_columns": null,
            "margin": null,
            "display": null,
            "left": null
          }
        },
        "f512d64dc0714621bd3044d9855b0ee7": {
          "model_module": "@jupyter-widgets/controls",
          "model_name": "IntProgressModel",
          "state": {
            "_view_name": "ProgressView",
            "style": "IPY_MODEL_6274b1aaafef46bf8cf177ce099894c2",
            "_dom_classes": [],
            "description": " 80%",
            "_model_name": "IntProgressModel",
            "bar_style": "danger",
            "max": 67349,
            "_view_module": "@jupyter-widgets/controls",
            "_model_module_version": "1.5.0",
            "value": 53676,
            "_view_count": null,
            "_view_module_version": "1.5.0",
            "orientation": "horizontal",
            "min": 0,
            "description_tooltip": null,
            "_model_module": "@jupyter-widgets/controls",
            "layout": "IPY_MODEL_ea1c54cb6dbb4c20a461f93848a268ff"
          }
        },
        "71dafea10c69459dadf168ebc2e6f727": {
          "model_module": "@jupyter-widgets/controls",
          "model_name": "HTMLModel",
          "state": {
            "_view_name": "HTMLView",
            "style": "IPY_MODEL_c2ea5e6436f648d5a600f630954c652a",
            "_dom_classes": [],
            "description": "",
            "_model_name": "HTMLModel",
            "placeholder": "​",
            "_view_module": "@jupyter-widgets/controls",
            "_model_module_version": "1.5.0",
            "value": " 53676/67349 [00:00&lt;21:13, 10.73 examples/s]",
            "_view_count": null,
            "_view_module_version": "1.5.0",
            "description_tooltip": null,
            "_model_module": "@jupyter-widgets/controls",
            "layout": "IPY_MODEL_ffff2302091745279ffa03db7c113543"
          }
        },
        "6274b1aaafef46bf8cf177ce099894c2": {
          "model_module": "@jupyter-widgets/controls",
          "model_name": "ProgressStyleModel",
          "state": {
            "_view_name": "StyleView",
            "_model_name": "ProgressStyleModel",
            "description_width": "initial",
            "_view_module": "@jupyter-widgets/base",
            "_model_module_version": "1.5.0",
            "_view_count": null,
            "_view_module_version": "1.2.0",
            "bar_color": null,
            "_model_module": "@jupyter-widgets/controls"
          }
        },
        "ea1c54cb6dbb4c20a461f93848a268ff": {
          "model_module": "@jupyter-widgets/base",
          "model_name": "LayoutModel",
          "state": {
            "_view_name": "LayoutView",
            "grid_template_rows": null,
            "right": null,
            "justify_content": null,
            "_view_module": "@jupyter-widgets/base",
            "overflow": null,
            "_model_module_version": "1.2.0",
            "_view_count": null,
            "flex_flow": null,
            "width": null,
            "min_width": null,
            "border": null,
            "align_items": null,
            "bottom": null,
            "_model_module": "@jupyter-widgets/base",
            "top": null,
            "grid_column": null,
            "overflow_y": null,
            "overflow_x": null,
            "grid_auto_flow": null,
            "grid_area": null,
            "grid_template_columns": null,
            "flex": null,
            "_model_name": "LayoutModel",
            "justify_items": null,
            "grid_row": null,
            "max_height": null,
            "align_content": null,
            "visibility": null,
            "align_self": null,
            "height": null,
            "min_height": null,
            "padding": null,
            "grid_auto_rows": null,
            "grid_gap": null,
            "max_width": null,
            "order": null,
            "_view_module_version": "1.2.0",
            "grid_template_areas": null,
            "object_position": null,
            "object_fit": null,
            "grid_auto_columns": null,
            "margin": null,
            "display": null,
            "left": null
          }
        },
        "c2ea5e6436f648d5a600f630954c652a": {
          "model_module": "@jupyter-widgets/controls",
          "model_name": "DescriptionStyleModel",
          "state": {
            "_view_name": "StyleView",
            "_model_name": "DescriptionStyleModel",
            "description_width": "",
            "_view_module": "@jupyter-widgets/base",
            "_model_module_version": "1.5.0",
            "_view_count": null,
            "_view_module_version": "1.2.0",
            "_model_module": "@jupyter-widgets/controls"
          }
        },
        "ffff2302091745279ffa03db7c113543": {
          "model_module": "@jupyter-widgets/base",
          "model_name": "LayoutModel",
          "state": {
            "_view_name": "LayoutView",
            "grid_template_rows": null,
            "right": null,
            "justify_content": null,
            "_view_module": "@jupyter-widgets/base",
            "overflow": null,
            "_model_module_version": "1.2.0",
            "_view_count": null,
            "flex_flow": null,
            "width": null,
            "min_width": null,
            "border": null,
            "align_items": null,
            "bottom": null,
            "_model_module": "@jupyter-widgets/base",
            "top": null,
            "grid_column": null,
            "overflow_y": null,
            "overflow_x": null,
            "grid_auto_flow": null,
            "grid_area": null,
            "grid_template_columns": null,
            "flex": null,
            "_model_name": "LayoutModel",
            "justify_items": null,
            "grid_row": null,
            "max_height": null,
            "align_content": null,
            "visibility": null,
            "align_self": null,
            "height": null,
            "min_height": null,
            "padding": null,
            "grid_auto_rows": null,
            "grid_gap": null,
            "max_width": null,
            "order": null,
            "_view_module_version": "1.2.0",
            "grid_template_areas": null,
            "object_position": null,
            "object_fit": null,
            "grid_auto_columns": null,
            "margin": null,
            "display": null,
            "left": null
          }
        },
        "75829d5556724d4f9f8cd64595e62c7d": {
          "model_module": "@jupyter-widgets/controls",
          "model_name": "HBoxModel",
          "state": {
            "_view_name": "HBoxView",
            "_dom_classes": [],
            "_model_name": "HBoxModel",
            "_view_module": "@jupyter-widgets/controls",
            "_model_module_version": "1.5.0",
            "_view_count": null,
            "_view_module_version": "1.5.0",
            "box_style": "",
            "layout": "IPY_MODEL_6c88da821bb64aba816927d10361cfa6",
            "_model_module": "@jupyter-widgets/controls",
            "children": [
              "IPY_MODEL_bcd557d2e5cb469f92f5bc3c1ff81a00",
              "IPY_MODEL_9539b5f1892b4a0b88c049df9f5c2db5"
            ]
          }
        },
        "6c88da821bb64aba816927d10361cfa6": {
          "model_module": "@jupyter-widgets/base",
          "model_name": "LayoutModel",
          "state": {
            "_view_name": "LayoutView",
            "grid_template_rows": null,
            "right": null,
            "justify_content": null,
            "_view_module": "@jupyter-widgets/base",
            "overflow": null,
            "_model_module_version": "1.2.0",
            "_view_count": null,
            "flex_flow": null,
            "width": null,
            "min_width": null,
            "border": null,
            "align_items": null,
            "bottom": null,
            "_model_module": "@jupyter-widgets/base",
            "top": null,
            "grid_column": null,
            "overflow_y": null,
            "overflow_x": null,
            "grid_auto_flow": null,
            "grid_area": null,
            "grid_template_columns": null,
            "flex": null,
            "_model_name": "LayoutModel",
            "justify_items": null,
            "grid_row": null,
            "max_height": null,
            "align_content": null,
            "visibility": null,
            "align_self": null,
            "height": null,
            "min_height": null,
            "padding": null,
            "grid_auto_rows": null,
            "grid_gap": null,
            "max_width": null,
            "order": null,
            "_view_module_version": "1.2.0",
            "grid_template_areas": null,
            "object_position": null,
            "object_fit": null,
            "grid_auto_columns": null,
            "margin": null,
            "display": null,
            "left": null
          }
        },
        "bcd557d2e5cb469f92f5bc3c1ff81a00": {
          "model_module": "@jupyter-widgets/controls",
          "model_name": "IntProgressModel",
          "state": {
            "_view_name": "ProgressView",
            "style": "IPY_MODEL_1c4ac322988c4be9a314fb0a9ee3025a",
            "_dom_classes": [],
            "description": "",
            "_model_name": "IntProgressModel",
            "bar_style": "info",
            "max": 1,
            "_view_module": "@jupyter-widgets/controls",
            "_model_module_version": "1.5.0",
            "value": 1,
            "_view_count": null,
            "_view_module_version": "1.5.0",
            "orientation": "horizontal",
            "min": 0,
            "description_tooltip": null,
            "_model_module": "@jupyter-widgets/controls",
            "layout": "IPY_MODEL_99408ccce149443cbe905095520cb9a8"
          }
        },
        "9539b5f1892b4a0b88c049df9f5c2db5": {
          "model_module": "@jupyter-widgets/controls",
          "model_name": "HTMLModel",
          "state": {
            "_view_name": "HTMLView",
            "style": "IPY_MODEL_6304c66507164d1698a3c4c9011b2877",
            "_dom_classes": [],
            "description": "",
            "_model_name": "HTMLModel",
            "placeholder": "​",
            "_view_module": "@jupyter-widgets/controls",
            "_model_module_version": "1.5.0",
            "value": " 872/0 [00:00&lt;00:00, 2426.77 examples/s]",
            "_view_count": null,
            "_view_module_version": "1.5.0",
            "description_tooltip": null,
            "_model_module": "@jupyter-widgets/controls",
            "layout": "IPY_MODEL_ff578902417544a08cc01a60a7a9e54d"
          }
        },
        "1c4ac322988c4be9a314fb0a9ee3025a": {
          "model_module": "@jupyter-widgets/controls",
          "model_name": "ProgressStyleModel",
          "state": {
            "_view_name": "StyleView",
            "_model_name": "ProgressStyleModel",
            "description_width": "initial",
            "_view_module": "@jupyter-widgets/base",
            "_model_module_version": "1.5.0",
            "_view_count": null,
            "_view_module_version": "1.2.0",
            "bar_color": null,
            "_model_module": "@jupyter-widgets/controls"
          }
        },
        "99408ccce149443cbe905095520cb9a8": {
          "model_module": "@jupyter-widgets/base",
          "model_name": "LayoutModel",
          "state": {
            "_view_name": "LayoutView",
            "grid_template_rows": null,
            "right": null,
            "justify_content": null,
            "_view_module": "@jupyter-widgets/base",
            "overflow": null,
            "_model_module_version": "1.2.0",
            "_view_count": null,
            "flex_flow": null,
            "width": null,
            "min_width": null,
            "border": null,
            "align_items": null,
            "bottom": null,
            "_model_module": "@jupyter-widgets/base",
            "top": null,
            "grid_column": null,
            "overflow_y": null,
            "overflow_x": null,
            "grid_auto_flow": null,
            "grid_area": null,
            "grid_template_columns": null,
            "flex": null,
            "_model_name": "LayoutModel",
            "justify_items": null,
            "grid_row": null,
            "max_height": null,
            "align_content": null,
            "visibility": null,
            "align_self": null,
            "height": null,
            "min_height": null,
            "padding": null,
            "grid_auto_rows": null,
            "grid_gap": null,
            "max_width": null,
            "order": null,
            "_view_module_version": "1.2.0",
            "grid_template_areas": null,
            "object_position": null,
            "object_fit": null,
            "grid_auto_columns": null,
            "margin": null,
            "display": null,
            "left": null
          }
        },
        "6304c66507164d1698a3c4c9011b2877": {
          "model_module": "@jupyter-widgets/controls",
          "model_name": "DescriptionStyleModel",
          "state": {
            "_view_name": "StyleView",
            "_model_name": "DescriptionStyleModel",
            "description_width": "",
            "_view_module": "@jupyter-widgets/base",
            "_model_module_version": "1.5.0",
            "_view_count": null,
            "_view_module_version": "1.2.0",
            "_model_module": "@jupyter-widgets/controls"
          }
        },
        "ff578902417544a08cc01a60a7a9e54d": {
          "model_module": "@jupyter-widgets/base",
          "model_name": "LayoutModel",
          "state": {
            "_view_name": "LayoutView",
            "grid_template_rows": null,
            "right": null,
            "justify_content": null,
            "_view_module": "@jupyter-widgets/base",
            "overflow": null,
            "_model_module_version": "1.2.0",
            "_view_count": null,
            "flex_flow": null,
            "width": null,
            "min_width": null,
            "border": null,
            "align_items": null,
            "bottom": null,
            "_model_module": "@jupyter-widgets/base",
            "top": null,
            "grid_column": null,
            "overflow_y": null,
            "overflow_x": null,
            "grid_auto_flow": null,
            "grid_area": null,
            "grid_template_columns": null,
            "flex": null,
            "_model_name": "LayoutModel",
            "justify_items": null,
            "grid_row": null,
            "max_height": null,
            "align_content": null,
            "visibility": null,
            "align_self": null,
            "height": null,
            "min_height": null,
            "padding": null,
            "grid_auto_rows": null,
            "grid_gap": null,
            "max_width": null,
            "order": null,
            "_view_module_version": "1.2.0",
            "grid_template_areas": null,
            "object_position": null,
            "object_fit": null,
            "grid_auto_columns": null,
            "margin": null,
            "display": null,
            "left": null
          }
        },
        "66a1909fe427402085a5e5446d7f65ca": {
          "model_module": "@jupyter-widgets/controls",
          "model_name": "HBoxModel",
          "state": {
            "_view_name": "HBoxView",
            "_dom_classes": [],
            "_model_name": "HBoxModel",
            "_view_module": "@jupyter-widgets/controls",
            "_model_module_version": "1.5.0",
            "_view_count": null,
            "_view_module_version": "1.5.0",
            "box_style": "",
            "layout": "IPY_MODEL_48739420c16342eeb9a248fcef46e04f",
            "_model_module": "@jupyter-widgets/controls",
            "children": [
              "IPY_MODEL_31559c8a9f564cb4bcfd548ae840bf97",
              "IPY_MODEL_835f76401f764898af2624d5399ac8b1"
            ]
          }
        },
        "48739420c16342eeb9a248fcef46e04f": {
          "model_module": "@jupyter-widgets/base",
          "model_name": "LayoutModel",
          "state": {
            "_view_name": "LayoutView",
            "grid_template_rows": null,
            "right": null,
            "justify_content": null,
            "_view_module": "@jupyter-widgets/base",
            "overflow": null,
            "_model_module_version": "1.2.0",
            "_view_count": null,
            "flex_flow": null,
            "width": null,
            "min_width": null,
            "border": null,
            "align_items": null,
            "bottom": null,
            "_model_module": "@jupyter-widgets/base",
            "top": null,
            "grid_column": null,
            "overflow_y": null,
            "overflow_x": null,
            "grid_auto_flow": null,
            "grid_area": null,
            "grid_template_columns": null,
            "flex": null,
            "_model_name": "LayoutModel",
            "justify_items": null,
            "grid_row": null,
            "max_height": null,
            "align_content": null,
            "visibility": null,
            "align_self": null,
            "height": null,
            "min_height": null,
            "padding": null,
            "grid_auto_rows": null,
            "grid_gap": null,
            "max_width": null,
            "order": null,
            "_view_module_version": "1.2.0",
            "grid_template_areas": null,
            "object_position": null,
            "object_fit": null,
            "grid_auto_columns": null,
            "margin": null,
            "display": null,
            "left": null
          }
        },
        "31559c8a9f564cb4bcfd548ae840bf97": {
          "model_module": "@jupyter-widgets/controls",
          "model_name": "IntProgressModel",
          "state": {
            "_view_name": "ProgressView",
            "style": "IPY_MODEL_2bfef598dc7b455b9b1382c10cfaf8a3",
            "_dom_classes": [],
            "description": "  0%",
            "_model_name": "IntProgressModel",
            "bar_style": "danger",
            "max": 872,
            "_view_module": "@jupyter-widgets/controls",
            "_model_module_version": "1.5.0",
            "value": 0,
            "_view_count": null,
            "_view_module_version": "1.5.0",
            "orientation": "horizontal",
            "min": 0,
            "description_tooltip": null,
            "_model_module": "@jupyter-widgets/controls",
            "layout": "IPY_MODEL_537149780ccd483aa21abea8a53f4509"
          }
        },
        "835f76401f764898af2624d5399ac8b1": {
          "model_module": "@jupyter-widgets/controls",
          "model_name": "HTMLModel",
          "state": {
            "_view_name": "HTMLView",
            "style": "IPY_MODEL_3a5a53b9da3b45ada1753119363fd32b",
            "_dom_classes": [],
            "description": "",
            "_model_name": "HTMLModel",
            "placeholder": "​",
            "_view_module": "@jupyter-widgets/controls",
            "_model_module_version": "1.5.0",
            "value": " 0/872 [00:00&lt;?, ? examples/s]",
            "_view_count": null,
            "_view_module_version": "1.5.0",
            "description_tooltip": null,
            "_model_module": "@jupyter-widgets/controls",
            "layout": "IPY_MODEL_191bda6b08c74efda60a4186c6ce9a49"
          }
        },
        "2bfef598dc7b455b9b1382c10cfaf8a3": {
          "model_module": "@jupyter-widgets/controls",
          "model_name": "ProgressStyleModel",
          "state": {
            "_view_name": "StyleView",
            "_model_name": "ProgressStyleModel",
            "description_width": "initial",
            "_view_module": "@jupyter-widgets/base",
            "_model_module_version": "1.5.0",
            "_view_count": null,
            "_view_module_version": "1.2.0",
            "bar_color": null,
            "_model_module": "@jupyter-widgets/controls"
          }
        },
        "537149780ccd483aa21abea8a53f4509": {
          "model_module": "@jupyter-widgets/base",
          "model_name": "LayoutModel",
          "state": {
            "_view_name": "LayoutView",
            "grid_template_rows": null,
            "right": null,
            "justify_content": null,
            "_view_module": "@jupyter-widgets/base",
            "overflow": null,
            "_model_module_version": "1.2.0",
            "_view_count": null,
            "flex_flow": null,
            "width": null,
            "min_width": null,
            "border": null,
            "align_items": null,
            "bottom": null,
            "_model_module": "@jupyter-widgets/base",
            "top": null,
            "grid_column": null,
            "overflow_y": null,
            "overflow_x": null,
            "grid_auto_flow": null,
            "grid_area": null,
            "grid_template_columns": null,
            "flex": null,
            "_model_name": "LayoutModel",
            "justify_items": null,
            "grid_row": null,
            "max_height": null,
            "align_content": null,
            "visibility": null,
            "align_self": null,
            "height": null,
            "min_height": null,
            "padding": null,
            "grid_auto_rows": null,
            "grid_gap": null,
            "max_width": null,
            "order": null,
            "_view_module_version": "1.2.0",
            "grid_template_areas": null,
            "object_position": null,
            "object_fit": null,
            "grid_auto_columns": null,
            "margin": null,
            "display": null,
            "left": null
          }
        },
        "3a5a53b9da3b45ada1753119363fd32b": {
          "model_module": "@jupyter-widgets/controls",
          "model_name": "DescriptionStyleModel",
          "state": {
            "_view_name": "StyleView",
            "_model_name": "DescriptionStyleModel",
            "description_width": "",
            "_view_module": "@jupyter-widgets/base",
            "_model_module_version": "1.5.0",
            "_view_count": null,
            "_view_module_version": "1.2.0",
            "_model_module": "@jupyter-widgets/controls"
          }
        },
        "191bda6b08c74efda60a4186c6ce9a49": {
          "model_module": "@jupyter-widgets/base",
          "model_name": "LayoutModel",
          "state": {
            "_view_name": "LayoutView",
            "grid_template_rows": null,
            "right": null,
            "justify_content": null,
            "_view_module": "@jupyter-widgets/base",
            "overflow": null,
            "_model_module_version": "1.2.0",
            "_view_count": null,
            "flex_flow": null,
            "width": null,
            "min_width": null,
            "border": null,
            "align_items": null,
            "bottom": null,
            "_model_module": "@jupyter-widgets/base",
            "top": null,
            "grid_column": null,
            "overflow_y": null,
            "overflow_x": null,
            "grid_auto_flow": null,
            "grid_area": null,
            "grid_template_columns": null,
            "flex": null,
            "_model_name": "LayoutModel",
            "justify_items": null,
            "grid_row": null,
            "max_height": null,
            "align_content": null,
            "visibility": null,
            "align_self": null,
            "height": null,
            "min_height": null,
            "padding": null,
            "grid_auto_rows": null,
            "grid_gap": null,
            "max_width": null,
            "order": null,
            "_view_module_version": "1.2.0",
            "grid_template_areas": null,
            "object_position": null,
            "object_fit": null,
            "grid_auto_columns": null,
            "margin": null,
            "display": null,
            "left": null
          }
        },
        "66ab3925afdb43ce848936500c769591": {
          "model_module": "@jupyter-widgets/controls",
          "model_name": "HBoxModel",
          "state": {
            "_view_name": "HBoxView",
            "_dom_classes": [],
            "_model_name": "HBoxModel",
            "_view_module": "@jupyter-widgets/controls",
            "_model_module_version": "1.5.0",
            "_view_count": null,
            "_view_module_version": "1.5.0",
            "box_style": "",
            "layout": "IPY_MODEL_2453acc2fbed431fa00a98dfbc203511",
            "_model_module": "@jupyter-widgets/controls",
            "children": [
              "IPY_MODEL_8b3c5376b5a7477eb0ff3e046b11e58e",
              "IPY_MODEL_a930a0c761174b1a94c6f675f68b58f5"
            ]
          }
        },
        "2453acc2fbed431fa00a98dfbc203511": {
          "model_module": "@jupyter-widgets/base",
          "model_name": "LayoutModel",
          "state": {
            "_view_name": "LayoutView",
            "grid_template_rows": null,
            "right": null,
            "justify_content": null,
            "_view_module": "@jupyter-widgets/base",
            "overflow": null,
            "_model_module_version": "1.2.0",
            "_view_count": null,
            "flex_flow": null,
            "width": null,
            "min_width": null,
            "border": null,
            "align_items": null,
            "bottom": null,
            "_model_module": "@jupyter-widgets/base",
            "top": null,
            "grid_column": null,
            "overflow_y": null,
            "overflow_x": null,
            "grid_auto_flow": null,
            "grid_area": null,
            "grid_template_columns": null,
            "flex": null,
            "_model_name": "LayoutModel",
            "justify_items": null,
            "grid_row": null,
            "max_height": null,
            "align_content": null,
            "visibility": null,
            "align_self": null,
            "height": null,
            "min_height": null,
            "padding": null,
            "grid_auto_rows": null,
            "grid_gap": null,
            "max_width": null,
            "order": null,
            "_view_module_version": "1.2.0",
            "grid_template_areas": null,
            "object_position": null,
            "object_fit": null,
            "grid_auto_columns": null,
            "margin": null,
            "display": null,
            "left": null
          }
        },
        "8b3c5376b5a7477eb0ff3e046b11e58e": {
          "model_module": "@jupyter-widgets/controls",
          "model_name": "IntProgressModel",
          "state": {
            "_view_name": "ProgressView",
            "style": "IPY_MODEL_beff9e27239244a1a461c9caca0460b1",
            "_dom_classes": [],
            "description": "",
            "_model_name": "IntProgressModel",
            "bar_style": "info",
            "max": 1,
            "_view_module": "@jupyter-widgets/controls",
            "_model_module_version": "1.5.0",
            "value": 1,
            "_view_count": null,
            "_view_module_version": "1.5.0",
            "orientation": "horizontal",
            "min": 0,
            "description_tooltip": null,
            "_model_module": "@jupyter-widgets/controls",
            "layout": "IPY_MODEL_ff600f95bde64bbbb745029f82289f3b"
          }
        },
        "a930a0c761174b1a94c6f675f68b58f5": {
          "model_module": "@jupyter-widgets/controls",
          "model_name": "HTMLModel",
          "state": {
            "_view_name": "HTMLView",
            "style": "IPY_MODEL_ef0c9bad9f5a4b79a0f58e1b8035d94f",
            "_dom_classes": [],
            "description": "",
            "_model_name": "HTMLModel",
            "placeholder": "​",
            "_view_module": "@jupyter-widgets/controls",
            "_model_module_version": "1.5.0",
            "value": " 1821/0 [00:00&lt;00:00, 2899.16 examples/s]",
            "_view_count": null,
            "_view_module_version": "1.5.0",
            "description_tooltip": null,
            "_model_module": "@jupyter-widgets/controls",
            "layout": "IPY_MODEL_9a7325f96c924a5388a97ac56d803157"
          }
        },
        "beff9e27239244a1a461c9caca0460b1": {
          "model_module": "@jupyter-widgets/controls",
          "model_name": "ProgressStyleModel",
          "state": {
            "_view_name": "StyleView",
            "_model_name": "ProgressStyleModel",
            "description_width": "initial",
            "_view_module": "@jupyter-widgets/base",
            "_model_module_version": "1.5.0",
            "_view_count": null,
            "_view_module_version": "1.2.0",
            "bar_color": null,
            "_model_module": "@jupyter-widgets/controls"
          }
        },
        "ff600f95bde64bbbb745029f82289f3b": {
          "model_module": "@jupyter-widgets/base",
          "model_name": "LayoutModel",
          "state": {
            "_view_name": "LayoutView",
            "grid_template_rows": null,
            "right": null,
            "justify_content": null,
            "_view_module": "@jupyter-widgets/base",
            "overflow": null,
            "_model_module_version": "1.2.0",
            "_view_count": null,
            "flex_flow": null,
            "width": null,
            "min_width": null,
            "border": null,
            "align_items": null,
            "bottom": null,
            "_model_module": "@jupyter-widgets/base",
            "top": null,
            "grid_column": null,
            "overflow_y": null,
            "overflow_x": null,
            "grid_auto_flow": null,
            "grid_area": null,
            "grid_template_columns": null,
            "flex": null,
            "_model_name": "LayoutModel",
            "justify_items": null,
            "grid_row": null,
            "max_height": null,
            "align_content": null,
            "visibility": null,
            "align_self": null,
            "height": null,
            "min_height": null,
            "padding": null,
            "grid_auto_rows": null,
            "grid_gap": null,
            "max_width": null,
            "order": null,
            "_view_module_version": "1.2.0",
            "grid_template_areas": null,
            "object_position": null,
            "object_fit": null,
            "grid_auto_columns": null,
            "margin": null,
            "display": null,
            "left": null
          }
        },
        "ef0c9bad9f5a4b79a0f58e1b8035d94f": {
          "model_module": "@jupyter-widgets/controls",
          "model_name": "DescriptionStyleModel",
          "state": {
            "_view_name": "StyleView",
            "_model_name": "DescriptionStyleModel",
            "description_width": "",
            "_view_module": "@jupyter-widgets/base",
            "_model_module_version": "1.5.0",
            "_view_count": null,
            "_view_module_version": "1.2.0",
            "_model_module": "@jupyter-widgets/controls"
          }
        },
        "9a7325f96c924a5388a97ac56d803157": {
          "model_module": "@jupyter-widgets/base",
          "model_name": "LayoutModel",
          "state": {
            "_view_name": "LayoutView",
            "grid_template_rows": null,
            "right": null,
            "justify_content": null,
            "_view_module": "@jupyter-widgets/base",
            "overflow": null,
            "_model_module_version": "1.2.0",
            "_view_count": null,
            "flex_flow": null,
            "width": null,
            "min_width": null,
            "border": null,
            "align_items": null,
            "bottom": null,
            "_model_module": "@jupyter-widgets/base",
            "top": null,
            "grid_column": null,
            "overflow_y": null,
            "overflow_x": null,
            "grid_auto_flow": null,
            "grid_area": null,
            "grid_template_columns": null,
            "flex": null,
            "_model_name": "LayoutModel",
            "justify_items": null,
            "grid_row": null,
            "max_height": null,
            "align_content": null,
            "visibility": null,
            "align_self": null,
            "height": null,
            "min_height": null,
            "padding": null,
            "grid_auto_rows": null,
            "grid_gap": null,
            "max_width": null,
            "order": null,
            "_view_module_version": "1.2.0",
            "grid_template_areas": null,
            "object_position": null,
            "object_fit": null,
            "grid_auto_columns": null,
            "margin": null,
            "display": null,
            "left": null
          }
        },
        "a11adce26ef249729158506b400b75d8": {
          "model_module": "@jupyter-widgets/controls",
          "model_name": "HBoxModel",
          "state": {
            "_view_name": "HBoxView",
            "_dom_classes": [],
            "_model_name": "HBoxModel",
            "_view_module": "@jupyter-widgets/controls",
            "_model_module_version": "1.5.0",
            "_view_count": null,
            "_view_module_version": "1.5.0",
            "box_style": "",
            "layout": "IPY_MODEL_61ff521fcde94bf5a1c72c6088760577",
            "_model_module": "@jupyter-widgets/controls",
            "children": [
              "IPY_MODEL_1b80f7c9a72a43c882bd09f018ec61b1",
              "IPY_MODEL_23c303fa33c747b3b00993d7d8d92966"
            ]
          }
        },
        "61ff521fcde94bf5a1c72c6088760577": {
          "model_module": "@jupyter-widgets/base",
          "model_name": "LayoutModel",
          "state": {
            "_view_name": "LayoutView",
            "grid_template_rows": null,
            "right": null,
            "justify_content": null,
            "_view_module": "@jupyter-widgets/base",
            "overflow": null,
            "_model_module_version": "1.2.0",
            "_view_count": null,
            "flex_flow": null,
            "width": null,
            "min_width": null,
            "border": null,
            "align_items": null,
            "bottom": null,
            "_model_module": "@jupyter-widgets/base",
            "top": null,
            "grid_column": null,
            "overflow_y": null,
            "overflow_x": null,
            "grid_auto_flow": null,
            "grid_area": null,
            "grid_template_columns": null,
            "flex": null,
            "_model_name": "LayoutModel",
            "justify_items": null,
            "grid_row": null,
            "max_height": null,
            "align_content": null,
            "visibility": null,
            "align_self": null,
            "height": null,
            "min_height": null,
            "padding": null,
            "grid_auto_rows": null,
            "grid_gap": null,
            "max_width": null,
            "order": null,
            "_view_module_version": "1.2.0",
            "grid_template_areas": null,
            "object_position": null,
            "object_fit": null,
            "grid_auto_columns": null,
            "margin": null,
            "display": null,
            "left": null
          }
        },
        "1b80f7c9a72a43c882bd09f018ec61b1": {
          "model_module": "@jupyter-widgets/controls",
          "model_name": "IntProgressModel",
          "state": {
            "_view_name": "ProgressView",
            "style": "IPY_MODEL_aac1a608145b44aea01a8fff6fcd355e",
            "_dom_classes": [],
            "description": "  0%",
            "_model_name": "IntProgressModel",
            "bar_style": "danger",
            "max": 1821,
            "_view_module": "@jupyter-widgets/controls",
            "_model_module_version": "1.5.0",
            "value": 0,
            "_view_count": null,
            "_view_module_version": "1.5.0",
            "orientation": "horizontal",
            "min": 0,
            "description_tooltip": null,
            "_model_module": "@jupyter-widgets/controls",
            "layout": "IPY_MODEL_5d8aaf8172704ebe84c82070a32a5dcb"
          }
        },
        "23c303fa33c747b3b00993d7d8d92966": {
          "model_module": "@jupyter-widgets/controls",
          "model_name": "HTMLModel",
          "state": {
            "_view_name": "HTMLView",
            "style": "IPY_MODEL_07a35c0093b94b1ca4eb806dba841c09",
            "_dom_classes": [],
            "description": "",
            "_model_name": "HTMLModel",
            "placeholder": "​",
            "_view_module": "@jupyter-widgets/controls",
            "_model_module_version": "1.5.0",
            "value": " 0/1821 [00:06&lt;?, ? examples/s]",
            "_view_count": null,
            "_view_module_version": "1.5.0",
            "description_tooltip": null,
            "_model_module": "@jupyter-widgets/controls",
            "layout": "IPY_MODEL_1b9cdfc271504d21b5ff8fce568a061d"
          }
        },
        "aac1a608145b44aea01a8fff6fcd355e": {
          "model_module": "@jupyter-widgets/controls",
          "model_name": "ProgressStyleModel",
          "state": {
            "_view_name": "StyleView",
            "_model_name": "ProgressStyleModel",
            "description_width": "initial",
            "_view_module": "@jupyter-widgets/base",
            "_model_module_version": "1.5.0",
            "_view_count": null,
            "_view_module_version": "1.2.0",
            "bar_color": null,
            "_model_module": "@jupyter-widgets/controls"
          }
        },
        "5d8aaf8172704ebe84c82070a32a5dcb": {
          "model_module": "@jupyter-widgets/base",
          "model_name": "LayoutModel",
          "state": {
            "_view_name": "LayoutView",
            "grid_template_rows": null,
            "right": null,
            "justify_content": null,
            "_view_module": "@jupyter-widgets/base",
            "overflow": null,
            "_model_module_version": "1.2.0",
            "_view_count": null,
            "flex_flow": null,
            "width": null,
            "min_width": null,
            "border": null,
            "align_items": null,
            "bottom": null,
            "_model_module": "@jupyter-widgets/base",
            "top": null,
            "grid_column": null,
            "overflow_y": null,
            "overflow_x": null,
            "grid_auto_flow": null,
            "grid_area": null,
            "grid_template_columns": null,
            "flex": null,
            "_model_name": "LayoutModel",
            "justify_items": null,
            "grid_row": null,
            "max_height": null,
            "align_content": null,
            "visibility": null,
            "align_self": null,
            "height": null,
            "min_height": null,
            "padding": null,
            "grid_auto_rows": null,
            "grid_gap": null,
            "max_width": null,
            "order": null,
            "_view_module_version": "1.2.0",
            "grid_template_areas": null,
            "object_position": null,
            "object_fit": null,
            "grid_auto_columns": null,
            "margin": null,
            "display": null,
            "left": null
          }
        },
        "07a35c0093b94b1ca4eb806dba841c09": {
          "model_module": "@jupyter-widgets/controls",
          "model_name": "DescriptionStyleModel",
          "state": {
            "_view_name": "StyleView",
            "_model_name": "DescriptionStyleModel",
            "description_width": "",
            "_view_module": "@jupyter-widgets/base",
            "_model_module_version": "1.5.0",
            "_view_count": null,
            "_view_module_version": "1.2.0",
            "_model_module": "@jupyter-widgets/controls"
          }
        },
        "1b9cdfc271504d21b5ff8fce568a061d": {
          "model_module": "@jupyter-widgets/base",
          "model_name": "LayoutModel",
          "state": {
            "_view_name": "LayoutView",
            "grid_template_rows": null,
            "right": null,
            "justify_content": null,
            "_view_module": "@jupyter-widgets/base",
            "overflow": null,
            "_model_module_version": "1.2.0",
            "_view_count": null,
            "flex_flow": null,
            "width": null,
            "min_width": null,
            "border": null,
            "align_items": null,
            "bottom": null,
            "_model_module": "@jupyter-widgets/base",
            "top": null,
            "grid_column": null,
            "overflow_y": null,
            "overflow_x": null,
            "grid_auto_flow": null,
            "grid_area": null,
            "grid_template_columns": null,
            "flex": null,
            "_model_name": "LayoutModel",
            "justify_items": null,
            "grid_row": null,
            "max_height": null,
            "align_content": null,
            "visibility": null,
            "align_self": null,
            "height": null,
            "min_height": null,
            "padding": null,
            "grid_auto_rows": null,
            "grid_gap": null,
            "max_width": null,
            "order": null,
            "_view_module_version": "1.2.0",
            "grid_template_areas": null,
            "object_position": null,
            "object_fit": null,
            "grid_auto_columns": null,
            "margin": null,
            "display": null,
            "left": null
          }
        }
      }
    }
  },
  "cells": [
    {
      "cell_type": "markdown",
      "metadata": {
        "id": "view-in-github",
        "colab_type": "text"
      },
      "source": [
        "<a href=\"https://colab.research.google.com/github/woneuy01/Intro-To-TensorFlow-For-Deep-Learning/blob/master/l10c02_nlp_multiple_models_for_predicting_sentiment.ipynb\" target=\"_parent\"><img src=\"https://colab.research.google.com/assets/colab-badge.svg\" alt=\"Open In Colab\"/></a>"
      ]
    },
    {
      "cell_type": "markdown",
      "metadata": {
        "colab_type": "text",
        "id": "punL79CN7Ox6"
      },
      "source": [
        "##### Copyright 2020 The TensorFlow Authors."
      ]
    },
    {
      "cell_type": "code",
      "metadata": {
        "cellView": "form",
        "colab_type": "code",
        "id": "_ckMIh7O7s6D",
        "colab": {}
      },
      "source": [
        "#@title Licensed under the Apache License, Version 2.0 (the \"License\");\n",
        "# you may not use this file except in compliance with the License.\n",
        "# You may obtain a copy of the License at\n",
        "#\n",
        "# https://www.apache.org/licenses/LICENSE-2.0\n",
        "#\n",
        "# Unless required by applicable law or agreed to in writing, software\n",
        "# distributed under the License is distributed on an \"AS IS\" BASIS,\n",
        "# WITHOUT WARRANTIES OR CONDITIONS OF ANY KIND, either express or implied.\n",
        "# See the License for the specific language governing permissions and\n",
        "# limitations under the License."
      ],
      "execution_count": 0,
      "outputs": []
    },
    {
      "cell_type": "markdown",
      "metadata": {
        "colab_type": "text",
        "id": "hAclqSm3OOml"
      },
      "source": [
        "# Using LSTMs, CNNs, GRUs with a larger dataset"
      ]
    },
    {
      "cell_type": "markdown",
      "metadata": {
        "colab_type": "text",
        "id": "S5Uhzt6vVIB2"
      },
      "source": [
        "<table class=\"tfo-notebook-buttons\" align=\"left\">\n",
        "  <td>\n",
        "    <a target=\"_blank\" href=\"https://colab.research.google.com/github/tensorflow/examples/blob/master/courses/udacity_intro_to_tensorflow_for_deep_learning/l10c02_nlp_multiple_models_for_predicting_sentiment.ipynb\"><img src=\"https://www.tensorflow.org/images/colab_logo_32px.png\" />Run in Google Colab</a>\n",
        "  </td>\n",
        "  <td>\n",
        "    <a target=\"_blank\" href=\"https://github.com/tensorflow/examples/blob/master/courses/udacity_intro_to_tensorflow_for_deep_learning/l10c02_nlp_multiple_models_for_predicting_sentiment.ipynb\"><img src=\"https://www.tensorflow.org/images/GitHub-Mark-32px.png\" />View source on GitHub</a>\n",
        "  </td>\n",
        "</table>"
      ]
    },
    {
      "cell_type": "markdown",
      "metadata": {
        "colab_type": "text",
        "id": "fentd-GnIj-j"
      },
      "source": [
        "In this colab, you use different kinds of layers to see how they affect the model.\n",
        "\n",
        "You will use the glue/sst2 dataset, which is available through tensorflow_datasets. \n",
        "\n",
        "The General Language Understanding Evaluation (GLUE) benchmark (https://gluebenchmark.com/) is a collection of resources for training, evaluating, and analyzing natural language understanding systems.\n",
        "\n",
        "These resources include the Stanford Sentiment Treebank (SST) dataset that consists of sentences from movie reviews and human annotations of their sentiment. This colab uses version 2 of the SST dataset.\n",
        "\n",
        "The splits are:\n",
        "\n",
        "*   train\t67,349\n",
        "*   validation\t872\n",
        "\n",
        "\n",
        "and the column headings are:\n",
        "\n",
        "*   sentence\n",
        "*   label\n",
        "\n",
        "\n",
        "For more information about the dataset, see [https://www.tensorflow.org/datasets/catalog/glue#gluesst2](https://www.tensorflow.org/datasets/catalog/glue#gluesst2)"
      ]
    },
    {
      "cell_type": "code",
      "metadata": {
        "colab_type": "code",
        "id": "L62G7LTwNzoD",
        "colab": {}
      },
      "source": [
        "import tensorflow as tf\n",
        "import tensorflow_datasets as tfds\n",
        "\n",
        "import numpy as np"
      ],
      "execution_count": 0,
      "outputs": []
    },
    {
      "cell_type": "markdown",
      "metadata": {
        "colab_type": "text",
        "id": "o2P6xdtIJMyc"
      },
      "source": [
        "# Get the dataset\n"
      ]
    },
    {
      "cell_type": "code",
      "metadata": {
        "colab_type": "code",
        "id": "nCOtiRJZbxCH",
        "colab": {
          "base_uri": "https://localhost:8080/",
          "height": 565,
          "referenced_widgets": [
            "d09f777a44d14e898173f775c5659465",
            "8ddc82f1313447cbb29710d57e1dde72",
            "52e9d163ba3f467bafb3c29fbf087768",
            "b0d2908ef0da4011bf88d3afdbc3c5be",
            "0d9d166c9f084cfd94f9ef5d92eddb0c",
            "61594a24f935437499fbd8c8b822b2cb",
            "31ef0ca619184c89ae4c1428295be4f9",
            "69b611119886421282de23f9e27246ec",
            "540847ab8be1401e8865158b5d7d335b",
            "98719e500dac4859b311405433ac6fea",
            "a518904d4f2e4b9196664f20b66fddca",
            "dfc29b73f46344299646ac46a58b2de5",
            "4d6434f995194957b850fcc88cfffa2d",
            "83a898092fb541b8b49bb802b5d453ef",
            "d469cf4d3a714f34a28321cfb8e0f123",
            "0f913f044179476499a34e742ba5fbaa",
            "65a6f907d70f41c6a9acdc6732ca078c",
            "5d9b0b7b67f540f6aea8dfe11a092b76",
            "75b53570939544c39cfb148bff8fa0f3",
            "a35d6f997d4b4a3b826f571c78c73c51",
            "3d8def3de14b452a9051a6d947fb0d4a",
            "4a06aa3446114ab9aad2e208be36a21d",
            "854d67d2edeb4754ab82f9dd63fd22a5",
            "83f7b286383e41c489d33543f25c56b7",
            "ba139b48720743fca8e21e2dc00487c5",
            "192b2c34904648d8be1a6ae1e42a2cff",
            "ec456491831c44789b09a00a4b5c2289",
            "ef232d7877a64486ae8bb052383a62d6",
            "92cbc10a81a744df9753723b4b524be2",
            "1f29b7ca5c42437cb9c9c3a6887225ac",
            "80ec832a4385494ab256159f64329ca7",
            "77c73116b40649ed95c72866cb7d08fa",
            "ae4150a5d2af4f33b49d4db588b8bf83",
            "3fbce1a261564e0781673f4a147472f7",
            "f512d64dc0714621bd3044d9855b0ee7",
            "71dafea10c69459dadf168ebc2e6f727",
            "6274b1aaafef46bf8cf177ce099894c2",
            "ea1c54cb6dbb4c20a461f93848a268ff",
            "c2ea5e6436f648d5a600f630954c652a",
            "ffff2302091745279ffa03db7c113543",
            "75829d5556724d4f9f8cd64595e62c7d",
            "6c88da821bb64aba816927d10361cfa6",
            "bcd557d2e5cb469f92f5bc3c1ff81a00",
            "9539b5f1892b4a0b88c049df9f5c2db5",
            "1c4ac322988c4be9a314fb0a9ee3025a",
            "99408ccce149443cbe905095520cb9a8",
            "6304c66507164d1698a3c4c9011b2877",
            "ff578902417544a08cc01a60a7a9e54d",
            "66a1909fe427402085a5e5446d7f65ca",
            "48739420c16342eeb9a248fcef46e04f",
            "31559c8a9f564cb4bcfd548ae840bf97",
            "835f76401f764898af2624d5399ac8b1",
            "2bfef598dc7b455b9b1382c10cfaf8a3",
            "537149780ccd483aa21abea8a53f4509",
            "3a5a53b9da3b45ada1753119363fd32b",
            "191bda6b08c74efda60a4186c6ce9a49",
            "66ab3925afdb43ce848936500c769591",
            "2453acc2fbed431fa00a98dfbc203511",
            "8b3c5376b5a7477eb0ff3e046b11e58e",
            "a930a0c761174b1a94c6f675f68b58f5",
            "beff9e27239244a1a461c9caca0460b1",
            "ff600f95bde64bbbb745029f82289f3b",
            "ef0c9bad9f5a4b79a0f58e1b8035d94f",
            "9a7325f96c924a5388a97ac56d803157",
            "a11adce26ef249729158506b400b75d8",
            "61ff521fcde94bf5a1c72c6088760577",
            "1b80f7c9a72a43c882bd09f018ec61b1",
            "23c303fa33c747b3b00993d7d8d92966",
            "aac1a608145b44aea01a8fff6fcd355e",
            "5d8aaf8172704ebe84c82070a32a5dcb",
            "07a35c0093b94b1ca4eb806dba841c09",
            "1b9cdfc271504d21b5ff8fce568a061d"
          ]
        },
        "outputId": "541b8a6e-2c91-4d3d-ba11-468d804ba7ef"
      },
      "source": [
        "# Get the dataset.\n",
        "# It has 70000 items, so might take a while to download\n",
        "dataset, info = tfds.load('glue/sst2', with_info=True)\n",
        "print(info.features)\n",
        "print(info.features[\"label\"].num_classes)\n",
        "print(info.features[\"label\"].names)\n"
      ],
      "execution_count": 3,
      "outputs": [
        {
          "output_type": "stream",
          "text": [
            "\u001b[1mDownloading and preparing dataset glue/sst2/1.0.0 (download: 7.09 MiB, generated: Unknown size, total: 7.09 MiB) to /root/tensorflow_datasets/glue/sst2/1.0.0...\u001b[0m\n"
          ],
          "name": "stdout"
        },
        {
          "output_type": "display_data",
          "data": {
            "application/vnd.jupyter.widget-view+json": {
              "model_id": "d09f777a44d14e898173f775c5659465",
              "version_minor": 0,
              "version_major": 2
            },
            "text/plain": [
              "HBox(children=(IntProgress(value=1, bar_style='info', description='Dl Completed...', max=1, style=ProgressStyl…"
            ]
          },
          "metadata": {
            "tags": []
          }
        },
        {
          "output_type": "display_data",
          "data": {
            "application/vnd.jupyter.widget-view+json": {
              "model_id": "540847ab8be1401e8865158b5d7d335b",
              "version_minor": 0,
              "version_major": 2
            },
            "text/plain": [
              "HBox(children=(IntProgress(value=1, bar_style='info', description='Dl Size...', max=1, style=ProgressStyle(des…"
            ]
          },
          "metadata": {
            "tags": []
          }
        },
        {
          "output_type": "display_data",
          "data": {
            "application/vnd.jupyter.widget-view+json": {
              "model_id": "65a6f907d70f41c6a9acdc6732ca078c",
              "version_minor": 0,
              "version_major": 2
            },
            "text/plain": [
              "HBox(children=(IntProgress(value=1, bar_style='info', description='Extraction completed...', max=1, style=Prog…"
            ]
          },
          "metadata": {
            "tags": []
          }
        },
        {
          "output_type": "stream",
          "text": [
            "/usr/local/lib/python3.6/dist-packages/urllib3/connectionpool.py:847: InsecureRequestWarning: Unverified HTTPS request is being made. Adding certificate verification is strongly advised. See: https://urllib3.readthedocs.io/en/latest/advanced-usage.html#ssl-warnings\n",
            "  InsecureRequestWarning)\n"
          ],
          "name": "stderr"
        },
        {
          "output_type": "stream",
          "text": [
            "\n",
            "\n",
            "\n",
            "\n",
            "\n",
            "\n"
          ],
          "name": "stdout"
        },
        {
          "output_type": "display_data",
          "data": {
            "application/vnd.jupyter.widget-view+json": {
              "model_id": "ba139b48720743fca8e21e2dc00487c5",
              "version_minor": 0,
              "version_major": 2
            },
            "text/plain": [
              "HBox(children=(IntProgress(value=1, bar_style='info', max=1), HTML(value='')))"
            ]
          },
          "metadata": {
            "tags": []
          }
        },
        {
          "output_type": "stream",
          "text": [
            "\rShuffling and writing examples to /root/tensorflow_datasets/glue/sst2/1.0.0.incompleteGLUIPT/glue-train.tfrecord\n"
          ],
          "name": "stdout"
        },
        {
          "output_type": "display_data",
          "data": {
            "application/vnd.jupyter.widget-view+json": {
              "model_id": "ae4150a5d2af4f33b49d4db588b8bf83",
              "version_minor": 0,
              "version_major": 2
            },
            "text/plain": [
              "HBox(children=(IntProgress(value=0, max=67349), HTML(value='')))"
            ]
          },
          "metadata": {
            "tags": []
          }
        },
        {
          "output_type": "stream",
          "text": [
            "\r"
          ],
          "name": "stdout"
        },
        {
          "output_type": "display_data",
          "data": {
            "application/vnd.jupyter.widget-view+json": {
              "model_id": "75829d5556724d4f9f8cd64595e62c7d",
              "version_minor": 0,
              "version_major": 2
            },
            "text/plain": [
              "HBox(children=(IntProgress(value=1, bar_style='info', max=1), HTML(value='')))"
            ]
          },
          "metadata": {
            "tags": []
          }
        },
        {
          "output_type": "stream",
          "text": [
            "\rShuffling and writing examples to /root/tensorflow_datasets/glue/sst2/1.0.0.incompleteGLUIPT/glue-validation.tfrecord\n"
          ],
          "name": "stdout"
        },
        {
          "output_type": "display_data",
          "data": {
            "application/vnd.jupyter.widget-view+json": {
              "model_id": "66a1909fe427402085a5e5446d7f65ca",
              "version_minor": 0,
              "version_major": 2
            },
            "text/plain": [
              "HBox(children=(IntProgress(value=0, max=872), HTML(value='')))"
            ]
          },
          "metadata": {
            "tags": []
          }
        },
        {
          "output_type": "stream",
          "text": [
            "\r"
          ],
          "name": "stdout"
        },
        {
          "output_type": "display_data",
          "data": {
            "application/vnd.jupyter.widget-view+json": {
              "model_id": "66ab3925afdb43ce848936500c769591",
              "version_minor": 0,
              "version_major": 2
            },
            "text/plain": [
              "HBox(children=(IntProgress(value=1, bar_style='info', max=1), HTML(value='')))"
            ]
          },
          "metadata": {
            "tags": []
          }
        },
        {
          "output_type": "stream",
          "text": [
            "\rShuffling and writing examples to /root/tensorflow_datasets/glue/sst2/1.0.0.incompleteGLUIPT/glue-test.tfrecord\n"
          ],
          "name": "stdout"
        },
        {
          "output_type": "display_data",
          "data": {
            "application/vnd.jupyter.widget-view+json": {
              "model_id": "a11adce26ef249729158506b400b75d8",
              "version_minor": 0,
              "version_major": 2
            },
            "text/plain": [
              "HBox(children=(IntProgress(value=0, max=1821), HTML(value='')))"
            ]
          },
          "metadata": {
            "tags": []
          }
        },
        {
          "output_type": "stream",
          "text": [
            "\u001b[1mDataset glue downloaded and prepared to /root/tensorflow_datasets/glue/sst2/1.0.0. Subsequent calls will reuse this data.\u001b[0m\n",
            "FeaturesDict({\n",
            "    'idx': tf.int32,\n",
            "    'label': ClassLabel(shape=(), dtype=tf.int64, num_classes=2),\n",
            "    'sentence': Text(shape=(), dtype=tf.string),\n",
            "})\n",
            "2\n",
            "['negative', 'positive']\n"
          ],
          "name": "stdout"
        }
      ]
    },
    {
      "cell_type": "code",
      "metadata": {
        "colab_type": "code",
        "id": "yBMPhIdStAe2",
        "colab": {
          "base_uri": "https://localhost:8080/",
          "height": 34
        },
        "outputId": "3c40ba7c-46e0-44e0-e023-f26b26e421e9"
      },
      "source": [
        "# Get the training and validation datasets\n",
        "dataset_train, dataset_validation = dataset['train'], dataset['validation']\n",
        "dataset_train"
      ],
      "execution_count": 4,
      "outputs": [
        {
          "output_type": "stream",
          "text": [
            "\r"
          ],
          "name": "stdout"
        },
        {
          "output_type": "execute_result",
          "data": {
            "text/plain": [
              "<DatasetV1Adapter shapes: {idx: (), label: (), sentence: ()}, types: {idx: tf.int32, label: tf.int64, sentence: tf.string}>"
            ]
          },
          "metadata": {
            "tags": []
          },
          "execution_count": 4
        }
      ]
    },
    {
      "cell_type": "code",
      "metadata": {
        "colab_type": "code",
        "id": "jbZ-faiNWu1U",
        "colab": {
          "base_uri": "https://localhost:8080/",
          "height": 118
        },
        "outputId": "86204350-509e-4b3a-b30e-c25984a81ee5"
      },
      "source": [
        "# Print some of the entries\n",
        "for example in dataset_train.take(2):  \n",
        "  review, label = example[\"sentence\"], example[\"label\"]\n",
        "  print(\"Review:\", review)\n",
        "  print(\"Label: %d \\n\" % label.numpy())"
      ],
      "execution_count": 5,
      "outputs": [
        {
          "output_type": "stream",
          "text": [
            "Review: tf.Tensor(b'for the uninitiated plays better on video with the sound ', shape=(), dtype=string)\n",
            "Label: 0 \n",
            "\n",
            "Review: tf.Tensor(b'like a giant commercial for universal studios , where much of the action takes place ', shape=(), dtype=string)\n",
            "Label: 0 \n",
            "\n"
          ],
          "name": "stdout"
        }
      ]
    },
    {
      "cell_type": "code",
      "metadata": {
        "colab_type": "code",
        "id": "_fVZItTeZSbL",
        "colab": {
          "base_uri": "https://localhost:8080/",
          "height": 238
        },
        "outputId": "640140a3-4f26-44cb-ac0c-af8239cc2a19"
      },
      "source": [
        "# Get the sentences and the labels\n",
        "# for both the training and the validation sets\n",
        "training_reviews = []\n",
        "training_labels = []\n",
        " \n",
        "validation_reviews = []\n",
        "validation_labels = []\n",
        "\n",
        "# The dataset has 67,000 training entries, but that's a lot to process here!\n",
        "\n",
        "# If you want to take the entire dataset: WARNING: takes longer!!\n",
        "# for item in dataset_train.take(-1):\n",
        "\n",
        "# Take 10,000 reviews\n",
        "for item in dataset_train.take(10000):\n",
        "  review, label = item[\"sentence\"], item[\"label\"]\n",
        "  training_reviews.append(str(review.numpy()))\n",
        "  training_labels.append(label.numpy())\n",
        "\n",
        "print (\"\\nNumber of training reviews is: \", len(training_reviews))\n",
        "\n",
        "# print some of the reviews and labels\n",
        "for i in range(0, 2):\n",
        "  print (training_reviews[i])\n",
        "  print (training_labels[i])\n",
        "\n",
        "# Get the validation data\n",
        "# there's only about 800 items, so take them all\n",
        "for item in dataset_validation.take(-1):  \n",
        "  review, label = item[\"sentence\"], item[\"label\"]\n",
        "  validation_reviews.append(str(review.numpy()))\n",
        "  validation_labels.append(label.numpy())\n",
        "\n",
        "print (\"\\nNumber of validation reviews is: \", len(validation_reviews))\n",
        "\n",
        "# Print some of the validation reviews and labels\n",
        "for i in range(0, 2):\n",
        "  print (validation_reviews[i])\n",
        "  print (validation_labels[i])\n"
      ],
      "execution_count": 6,
      "outputs": [
        {
          "output_type": "stream",
          "text": [
            "\n",
            "Number of training reviews is:  10000\n",
            "b'for the uninitiated plays better on video with the sound '\n",
            "0\n",
            "b'like a giant commercial for universal studios , where much of the action takes place '\n",
            "0\n",
            "\n",
            "Number of validation reviews is:  872\n",
            "b'a valueless kiddie paean to pro basketball underwritten by the nba . '\n",
            "0\n",
            "b\"featuring a dangerously seductive performance from the great daniel auteuil , `` sade '' covers the same period as kaufmann 's `` quills '' with more unsettlingly realistic results . \"\n",
            "1\n"
          ],
          "name": "stdout"
        }
      ]
    },
    {
      "cell_type": "markdown",
      "metadata": {
        "colab_type": "text",
        "id": "BY4ZoptJO55o"
      },
      "source": [
        "# Tokenize the words and sequence the sentences\n"
      ]
    },
    {
      "cell_type": "code",
      "metadata": {
        "colab_type": "code",
        "id": "0TWLvXA1Oa_W",
        "colab": {}
      },
      "source": [
        "# There's a total of 21224 words in the reviews\n",
        "# but many of them are irrelevant like with, it, of, on.\n",
        "# If we take a subset of the training data, then the vocab\n",
        "# will be smaller.\n",
        "\n",
        "# A reasonable review might have about 50 words or so,\n",
        "# so we can set max_length to 50 (but feel free to change it as you like)\n",
        "\n",
        "vocab_size = 4000\n",
        "embedding_dim = 16\n",
        "max_length = 50\n",
        "trunc_type='post'\n",
        "pad_type='post'\n",
        "oov_tok = \"<OOV>\"\n",
        "\n",
        "from tensorflow.keras.preprocessing.text import Tokenizer\n",
        "from tensorflow.keras.preprocessing.sequence import pad_sequences\n",
        "\n",
        "tokenizer = Tokenizer(num_words = vocab_size, oov_token=oov_tok)\n",
        "tokenizer.fit_on_texts(training_reviews)\n",
        "word_index = tokenizer.word_index\n"
      ],
      "execution_count": 0,
      "outputs": []
    },
    {
      "cell_type": "markdown",
      "metadata": {
        "colab_type": "text",
        "id": "JV-Ff5N0ryWv"
      },
      "source": [
        "# Pad the sequences"
      ]
    },
    {
      "cell_type": "code",
      "metadata": {
        "colab_type": "code",
        "id": "B-3scEznH2Va",
        "colab": {}
      },
      "source": [
        "# Pad the sequences so that they are all the same length\n",
        "training_sequences = tokenizer.texts_to_sequences(training_reviews)\n",
        "training_padded = pad_sequences(training_sequences,maxlen=max_length, \n",
        "                                truncating=trunc_type, padding=pad_type)\n",
        "\n",
        "validation_sequences = tokenizer.texts_to_sequences(validation_reviews)\n",
        "validation_padded = pad_sequences(validation_sequences,maxlen=max_length)\n",
        "\n",
        "training_labels_final = np.array(training_labels)\n",
        "validation_labels_final = np.array(validation_labels)"
      ],
      "execution_count": 0,
      "outputs": []
    },
    {
      "cell_type": "markdown",
      "metadata": {
        "colab_type": "text",
        "id": "PahZm7YEQ8EI"
      },
      "source": [
        "# Create the model using an Embedding"
      ]
    },
    {
      "cell_type": "code",
      "metadata": {
        "colab_type": "code",
        "id": "c_nyQeI0RCCv",
        "colab": {
          "base_uri": "https://localhost:8080/",
          "height": 252
        },
        "outputId": "742dc182-499b-4bd5-c92d-207fd4c47350"
      },
      "source": [
        "model = tf.keras.Sequential([\n",
        "    tf.keras.layers.Embedding(vocab_size, embedding_dim, input_length=max_length),\n",
        "    tf.keras.layers.GlobalAveragePooling1D(),  \n",
        "    tf.keras.layers.Dense(1, activation='sigmoid')\n",
        "])\n",
        "model.compile(loss='binary_crossentropy',optimizer='adam',metrics=['accuracy'])\n",
        "model.summary()"
      ],
      "execution_count": 9,
      "outputs": [
        {
          "output_type": "stream",
          "text": [
            "Model: \"sequential\"\n",
            "_________________________________________________________________\n",
            "Layer (type)                 Output Shape              Param #   \n",
            "=================================================================\n",
            "embedding (Embedding)        (None, 50, 16)            64000     \n",
            "_________________________________________________________________\n",
            "global_average_pooling1d (Gl (None, 16)                0         \n",
            "_________________________________________________________________\n",
            "dense (Dense)                (None, 1)                 17        \n",
            "=================================================================\n",
            "Total params: 64,017\n",
            "Trainable params: 64,017\n",
            "Non-trainable params: 0\n",
            "_________________________________________________________________\n"
          ],
          "name": "stdout"
        }
      ]
    },
    {
      "cell_type": "markdown",
      "metadata": {
        "colab_type": "text",
        "id": "3WRXrx8BRO2L"
      },
      "source": [
        "# Train the model"
      ]
    },
    {
      "cell_type": "code",
      "metadata": {
        "colab_type": "code",
        "id": "oBKyVYvxRQ_9",
        "colab": {
          "base_uri": "https://localhost:8080/",
          "height": 689
        },
        "outputId": "c2862398-630f-4810-83e5-f5782c58e086"
      },
      "source": [
        "num_epochs = 20\n",
        "history = model.fit(training_padded, training_labels_final, epochs=num_epochs, \n",
        "                    validation_data=(validation_padded, validation_labels_final))\n"
      ],
      "execution_count": 10,
      "outputs": [
        {
          "output_type": "stream",
          "text": [
            "Epoch 1/20\n",
            "313/313 [==============================] - 1s 4ms/step - loss: 0.6848 - accuracy: 0.5498 - val_loss: 0.6917 - val_accuracy: 0.5115\n",
            "Epoch 2/20\n",
            "313/313 [==============================] - 1s 3ms/step - loss: 0.6738 - accuracy: 0.5687 - val_loss: 0.6778 - val_accuracy: 0.5734\n",
            "Epoch 3/20\n",
            "313/313 [==============================] - 1s 3ms/step - loss: 0.6548 - accuracy: 0.6174 - val_loss: 0.6536 - val_accuracy: 0.6376\n",
            "Epoch 4/20\n",
            "313/313 [==============================] - 1s 3ms/step - loss: 0.6263 - accuracy: 0.6657 - val_loss: 0.6226 - val_accuracy: 0.6881\n",
            "Epoch 5/20\n",
            "313/313 [==============================] - 1s 3ms/step - loss: 0.5924 - accuracy: 0.7058 - val_loss: 0.5917 - val_accuracy: 0.7156\n",
            "Epoch 6/20\n",
            "313/313 [==============================] - 1s 3ms/step - loss: 0.5588 - accuracy: 0.7369 - val_loss: 0.5636 - val_accuracy: 0.7362\n",
            "Epoch 7/20\n",
            "313/313 [==============================] - 1s 4ms/step - loss: 0.5270 - accuracy: 0.7644 - val_loss: 0.5420 - val_accuracy: 0.7557\n",
            "Epoch 8/20\n",
            "313/313 [==============================] - 1s 3ms/step - loss: 0.4977 - accuracy: 0.7901 - val_loss: 0.5236 - val_accuracy: 0.7603\n",
            "Epoch 9/20\n",
            "313/313 [==============================] - 1s 4ms/step - loss: 0.4714 - accuracy: 0.8055 - val_loss: 0.5133 - val_accuracy: 0.7615\n",
            "Epoch 10/20\n",
            "313/313 [==============================] - 1s 4ms/step - loss: 0.4483 - accuracy: 0.8186 - val_loss: 0.5023 - val_accuracy: 0.7649\n",
            "Epoch 11/20\n",
            "313/313 [==============================] - 1s 4ms/step - loss: 0.4276 - accuracy: 0.8266 - val_loss: 0.4982 - val_accuracy: 0.7580\n",
            "Epoch 12/20\n",
            "313/313 [==============================] - 1s 3ms/step - loss: 0.4087 - accuracy: 0.8340 - val_loss: 0.4966 - val_accuracy: 0.7603\n",
            "Epoch 13/20\n",
            "313/313 [==============================] - 1s 3ms/step - loss: 0.3921 - accuracy: 0.8421 - val_loss: 0.4968 - val_accuracy: 0.7603\n",
            "Epoch 14/20\n",
            "313/313 [==============================] - 1s 3ms/step - loss: 0.3768 - accuracy: 0.8462 - val_loss: 0.4943 - val_accuracy: 0.7695\n",
            "Epoch 15/20\n",
            "313/313 [==============================] - 1s 3ms/step - loss: 0.3629 - accuracy: 0.8535 - val_loss: 0.4975 - val_accuracy: 0.7695\n",
            "Epoch 16/20\n",
            "313/313 [==============================] - 1s 3ms/step - loss: 0.3505 - accuracy: 0.8541 - val_loss: 0.5080 - val_accuracy: 0.7569\n",
            "Epoch 17/20\n",
            "313/313 [==============================] - 1s 3ms/step - loss: 0.3392 - accuracy: 0.8603 - val_loss: 0.5093 - val_accuracy: 0.7718\n",
            "Epoch 18/20\n",
            "313/313 [==============================] - 1s 3ms/step - loss: 0.3286 - accuracy: 0.8650 - val_loss: 0.5134 - val_accuracy: 0.7787\n",
            "Epoch 19/20\n",
            "313/313 [==============================] - 1s 3ms/step - loss: 0.3193 - accuracy: 0.8648 - val_loss: 0.5201 - val_accuracy: 0.7764\n",
            "Epoch 20/20\n",
            "313/313 [==============================] - 1s 3ms/step - loss: 0.3099 - accuracy: 0.8665 - val_loss: 0.5358 - val_accuracy: 0.7592\n"
          ],
          "name": "stdout"
        }
      ]
    },
    {
      "cell_type": "markdown",
      "metadata": {
        "colab_type": "text",
        "id": "HhLPbUl2AZ0y"
      },
      "source": [
        "# Plot the accurracy and loss"
      ]
    },
    {
      "cell_type": "code",
      "metadata": {
        "colab_type": "code",
        "id": "jzBM1PpJAYfD",
        "colab": {
          "base_uri": "https://localhost:8080/",
          "height": 541
        },
        "outputId": "9e86b389-a8e4-40cd-f1cd-b5f7fa7800fb"
      },
      "source": [
        "import matplotlib.pyplot as plt\n",
        "\n",
        "\n",
        "def plot_graphs(history, string):\n",
        "  plt.plot(history.history[string])\n",
        "  plt.plot(history.history['val_'+string])\n",
        "  plt.xlabel(\"Epochs\")\n",
        "  plt.ylabel(string)\n",
        "  plt.legend([string, 'val_'+string])\n",
        "  plt.show()\n",
        "  \n",
        "plot_graphs(history, \"accuracy\")\n",
        "plot_graphs(history, \"loss\")"
      ],
      "execution_count": 11,
      "outputs": [
        {
          "output_type": "display_data",
          "data": {
            "image/png": "[encoded data removed]",
            "text/plain": [
              "<Figure size 432x288 with 1 Axes>"
            ]
          },
          "metadata": {
            "tags": [],
            "needs_background": "light"
          }
        },
        {
          "output_type": "display_data",
          "data": {
            "image/png": "[encoded data removed]",
            "text/plain": [
              "<Figure size 432x288 with 1 Axes>"
            ]
          },
          "metadata": {
            "tags": [],
            "needs_background": "light"
          }
        }
      ]
    },
    {
      "cell_type": "markdown",
      "metadata": {
        "colab_type": "text",
        "id": "HEbcMCVEKToB"
      },
      "source": [
        "# Write a function to predict the sentiment of reviews"
      ]
    },
    {
      "cell_type": "code",
      "metadata": {
        "colab_type": "code",
        "id": "K0nKY9M4xzWE",
        "colab": {}
      },
      "source": [
        "# Write some new reviews \n",
        "\n",
        "review1 = \"\"\"I loved this movie\"\"\"\n",
        "\n",
        "review2 = \"\"\"that was the worst movie I've ever seen\"\"\"\n",
        "\n",
        "review3 = \"\"\"too much violence even for a Bond film\"\"\"\n",
        "\n",
        "review4 = \"\"\"a captivating recounting of a cherished myth\"\"\"\n",
        "\n",
        "new_reviews = [review1, review2, review3, review4]\n"
      ],
      "execution_count": 0,
      "outputs": []
    },
    {
      "cell_type": "code",
      "metadata": {
        "colab_type": "code",
        "id": "Qg-maex27KPW",
        "colab": {
          "base_uri": "https://localhost:8080/",
          "height": 286
        },
        "outputId": "354fba0b-f5b5-4d24-84b1-4b011f16fdbc"
      },
      "source": [
        "# Define a function to prepare the new reviews for use with a model\n",
        "# and then use the model to predict the sentiment of the new reviews           \n",
        "\n",
        "def predict_review(model, reviews):\n",
        "  # Create the sequences\n",
        "  padding_type='post'\n",
        "  sample_sequences = tokenizer.texts_to_sequences(reviews)\n",
        "  reviews_padded = pad_sequences(sample_sequences, padding=padding_type, \n",
        "                                 maxlen=max_length) \n",
        "  classes = model.predict(reviews_padded)\n",
        "  for x in range(len(reviews_padded)):\n",
        "    print(reviews[x])\n",
        "    print(classes[x])\n",
        "    print('\\n')\n",
        "\n",
        "predict_review(model, new_reviews)\n"
      ],
      "execution_count": 13,
      "outputs": [
        {
          "output_type": "stream",
          "text": [
            "I loved this movie\n",
            "[0.45002577]\n",
            "\n",
            "\n",
            "that was the worst movie I've ever seen\n",
            "[0.13949896]\n",
            "\n",
            "\n",
            "too much violence even for a Bond film\n",
            "[0.03896962]\n",
            "\n",
            "\n",
            "a captivating recounting of a cherished myth\n",
            "[0.650754]\n",
            "\n",
            "\n"
          ],
          "name": "stdout"
        }
      ]
    },
    {
      "cell_type": "markdown",
      "metadata": {
        "colab_type": "text",
        "id": "ycJKbMq3K4iy"
      },
      "source": [
        "# Define a function to train and show the results of models with different layers"
      ]
    },
    {
      "cell_type": "code",
      "metadata": {
        "colab_type": "code",
        "id": "PevUcINXK3gn",
        "colab": {}
      },
      "source": [
        "def fit_model_and_show_results (model, reviews):\n",
        "  model.summary()\n",
        "  history = model.fit(training_padded, training_labels_final, epochs=num_epochs, \n",
        "                      validation_data=(validation_padded, validation_labels_final))\n",
        "  plot_graphs(history, \"accuracy\")\n",
        "  plot_graphs(history, \"loss\")\n",
        "  predict_review(model, reviews)"
      ],
      "execution_count": 0,
      "outputs": []
    },
    {
      "cell_type": "markdown",
      "metadata": {
        "colab_type": "text",
        "id": "W8jW-OLfTrDM"
      },
      "source": [
        "# Use a CNN"
      ]
    },
    {
      "cell_type": "code",
      "metadata": {
        "colab_type": "code",
        "id": "merAu9T3TtmQ",
        "colab": {
          "base_uri": "https://localhost:8080/",
          "height": 1000
        },
        "outputId": "bbe3bfcc-697d-477c-e5ec-bc0e4c84f08a"
      },
      "source": [
        "num_epochs = 30\n",
        "\n",
        "model_cnn = tf.keras.Sequential([\n",
        "    tf.keras.layers.Embedding(vocab_size, embedding_dim, input_length=max_length),\n",
        "    tf.keras.layers.Conv1D(16, 5, activation='relu'),\n",
        "    tf.keras.layers.GlobalMaxPooling1D(),\n",
        "    tf.keras.layers.Dense(1, activation='sigmoid')\n",
        "])\n",
        "\n",
        "# Default learning rate for the Adam optimizer is 0.001\n",
        "# Let's slow down the learning rate by 10.\n",
        "learning_rate = 0.0001\n",
        "model_cnn.compile(loss='binary_crossentropy',\n",
        "                  optimizer=tf.keras.optimizers.Adam(learning_rate), \n",
        "                  metrics=['accuracy'])\n",
        "\n",
        "fit_model_and_show_results(model_cnn, new_reviews)"
      ],
      "execution_count": 15,
      "outputs": [
        {
          "output_type": "stream",
          "text": [
            "Model: \"sequential_1\"\n",
            "_________________________________________________________________\n",
            "Layer (type)                 Output Shape              Param #   \n",
            "=================================================================\n",
            "embedding_1 (Embedding)      (None, 50, 16)            64000     \n",
            "_________________________________________________________________\n",
            "conv1d (Conv1D)              (None, 46, 16)            1296      \n",
            "_________________________________________________________________\n",
            "global_max_pooling1d (Global (None, 16)                0         \n",
            "_________________________________________________________________\n",
            "dense_1 (Dense)              (None, 1)                 17        \n",
            "=================================================================\n",
            "Total params: 65,313\n",
            "Trainable params: 65,313\n",
            "Non-trainable params: 0\n",
            "_________________________________________________________________\n",
            "Epoch 1/30\n",
            "313/313 [==============================] - 1s 4ms/step - loss: 0.6877 - accuracy: 0.5589 - val_loss: 0.6937 - val_accuracy: 0.5092\n",
            "Epoch 2/30\n",
            "313/313 [==============================] - 1s 4ms/step - loss: 0.6826 - accuracy: 0.5590 - val_loss: 0.6933 - val_accuracy: 0.5092\n",
            "Epoch 3/30\n",
            "313/313 [==============================] - 1s 4ms/step - loss: 0.6789 - accuracy: 0.5590 - val_loss: 0.6911 - val_accuracy: 0.5092\n",
            "Epoch 4/30\n",
            "313/313 [==============================] - 1s 4ms/step - loss: 0.6738 - accuracy: 0.5593 - val_loss: 0.6871 - val_accuracy: 0.5195\n",
            "Epoch 5/30\n",
            "313/313 [==============================] - 1s 4ms/step - loss: 0.6661 - accuracy: 0.5771 - val_loss: 0.6804 - val_accuracy: 0.6009\n",
            "Epoch 6/30\n",
            "313/313 [==============================] - 1s 4ms/step - loss: 0.6545 - accuracy: 0.6117 - val_loss: 0.6700 - val_accuracy: 0.6995\n",
            "Epoch 7/30\n",
            "313/313 [==============================] - 1s 4ms/step - loss: 0.6375 - accuracy: 0.6670 - val_loss: 0.6562 - val_accuracy: 0.6961\n",
            "Epoch 8/30\n",
            "313/313 [==============================] - 1s 4ms/step - loss: 0.6150 - accuracy: 0.7112 - val_loss: 0.6400 - val_accuracy: 0.6938\n",
            "Epoch 9/30\n",
            "313/313 [==============================] - 1s 4ms/step - loss: 0.5880 - accuracy: 0.7464 - val_loss: 0.6236 - val_accuracy: 0.7156\n",
            "Epoch 10/30\n",
            "313/313 [==============================] - 1s 4ms/step - loss: 0.5579 - accuracy: 0.7759 - val_loss: 0.6069 - val_accuracy: 0.7259\n",
            "Epoch 11/30\n",
            "313/313 [==============================] - 1s 4ms/step - loss: 0.5263 - accuracy: 0.7977 - val_loss: 0.5911 - val_accuracy: 0.7271\n",
            "Epoch 12/30\n",
            "313/313 [==============================] - 1s 4ms/step - loss: 0.4950 - accuracy: 0.8111 - val_loss: 0.5745 - val_accuracy: 0.7351\n",
            "Epoch 13/30\n",
            "313/313 [==============================] - 1s 4ms/step - loss: 0.4649 - accuracy: 0.8212 - val_loss: 0.5605 - val_accuracy: 0.7408\n",
            "Epoch 14/30\n",
            "313/313 [==============================] - 1s 4ms/step - loss: 0.4370 - accuracy: 0.8317 - val_loss: 0.5458 - val_accuracy: 0.7420\n",
            "Epoch 15/30\n",
            "313/313 [==============================] - 1s 4ms/step - loss: 0.4119 - accuracy: 0.8384 - val_loss: 0.5365 - val_accuracy: 0.7397\n",
            "Epoch 16/30\n",
            "313/313 [==============================] - 1s 4ms/step - loss: 0.3890 - accuracy: 0.8483 - val_loss: 0.5258 - val_accuracy: 0.7534\n",
            "Epoch 17/30\n",
            "313/313 [==============================] - 1s 4ms/step - loss: 0.3686 - accuracy: 0.8544 - val_loss: 0.5197 - val_accuracy: 0.7511\n",
            "Epoch 18/30\n",
            "313/313 [==============================] - 1s 4ms/step - loss: 0.3502 - accuracy: 0.8617 - val_loss: 0.5123 - val_accuracy: 0.7580\n",
            "Epoch 19/30\n",
            "313/313 [==============================] - 1s 4ms/step - loss: 0.3338 - accuracy: 0.8648 - val_loss: 0.5105 - val_accuracy: 0.7569\n",
            "Epoch 20/30\n",
            "313/313 [==============================] - 1s 4ms/step - loss: 0.3195 - accuracy: 0.8693 - val_loss: 0.5069 - val_accuracy: 0.7592\n",
            "Epoch 21/30\n",
            "313/313 [==============================] - 1s 4ms/step - loss: 0.3058 - accuracy: 0.8740 - val_loss: 0.5057 - val_accuracy: 0.7638\n",
            "Epoch 22/30\n",
            "313/313 [==============================] - 1s 4ms/step - loss: 0.2938 - accuracy: 0.8785 - val_loss: 0.5062 - val_accuracy: 0.7649\n",
            "Epoch 23/30\n",
            "313/313 [==============================] - 1s 4ms/step - loss: 0.2826 - accuracy: 0.8831 - val_loss: 0.5066 - val_accuracy: 0.7649\n",
            "Epoch 24/30\n",
            "313/313 [==============================] - 1s 4ms/step - loss: 0.2730 - accuracy: 0.8865 - val_loss: 0.5112 - val_accuracy: 0.7592\n",
            "Epoch 25/30\n",
            "313/313 [==============================] - 1s 4ms/step - loss: 0.2630 - accuracy: 0.8905 - val_loss: 0.5135 - val_accuracy: 0.7557\n",
            "Epoch 26/30\n",
            "313/313 [==============================] - 1s 4ms/step - loss: 0.2547 - accuracy: 0.8928 - val_loss: 0.5192 - val_accuracy: 0.7546\n",
            "Epoch 27/30\n",
            "313/313 [==============================] - 1s 4ms/step - loss: 0.2471 - accuracy: 0.8963 - val_loss: 0.5255 - val_accuracy: 0.7580\n",
            "Epoch 28/30\n",
            "313/313 [==============================] - 1s 4ms/step - loss: 0.2394 - accuracy: 0.8995 - val_loss: 0.5305 - val_accuracy: 0.7580\n",
            "Epoch 29/30\n",
            "313/313 [==============================] - 1s 4ms/step - loss: 0.2323 - accuracy: 0.9022 - val_loss: 0.5350 - val_accuracy: 0.7546\n",
            "Epoch 30/30\n",
            "313/313 [==============================] - 1s 4ms/step - loss: 0.2257 - accuracy: 0.9046 - val_loss: 0.5425 - val_accuracy: 0.7523\n"
          ],
          "name": "stdout"
        },
        {
          "output_type": "display_data",
          "data": {
            "image/png": "[encoded data removed]",
            "text/plain": [
              "<Figure size 432x288 with 1 Axes>"
            ]
          },
          "metadata": {
            "tags": [],
            "needs_background": "light"
          }
        },
        {
          "output_type": "display_data",
          "data": {
            "image/png": "[encoded data removed]",
            "text/plain": [
              "<Figure size 432x288 with 1 Axes>"
            ]
          },
          "metadata": {
            "tags": [],
            "needs_background": "light"
          }
        },
        {
          "output_type": "stream",
          "text": [
            "I loved this movie\n",
            "[0.8515806]\n",
            "\n",
            "\n",
            "that was the worst movie I've ever seen\n",
            "[0.02626081]\n",
            "\n",
            "\n",
            "too much violence even for a Bond film\n",
            "[0.01114443]\n",
            "\n",
            "\n",
            "a captivating recounting of a cherished myth\n",
            "[0.64901596]\n",
            "\n",
            "\n"
          ],
          "name": "stdout"
        }
      ]
    },
    {
      "cell_type": "markdown",
      "metadata": {
        "colab_type": "text",
        "id": "tXnoq0zITmSM"
      },
      "source": [
        "# Use a GRU"
      ]
    },
    {
      "cell_type": "code",
      "metadata": {
        "colab_type": "code",
        "id": "6jP6KAzZTpQ6",
        "colab": {
          "base_uri": "https://localhost:8080/",
          "height": 1000
        },
        "outputId": "3d124130-a9cb-40ce-f94f-9eedda2864c2"
      },
      "source": [
        "num_epochs = 30\n",
        "\n",
        "model_gru = tf.keras.Sequential([\n",
        "    tf.keras.layers.Embedding(vocab_size, embedding_dim, input_length=max_length),\n",
        "    tf.keras.layers.Bidirectional(tf.keras.layers.GRU(32)),\n",
        "    tf.keras.layers.Dense(1, activation='sigmoid')\n",
        "])\n",
        "\n",
        "learning_rate = 0.00003 # slower than the default learning rate\n",
        "model_gru.compile(loss='binary_crossentropy',\n",
        "                  optimizer=tf.keras.optimizers.Adam(learning_rate),\n",
        "                  metrics=['accuracy'])\n",
        "\n",
        "fit_model_and_show_results(model_gru, new_reviews)"
      ],
      "execution_count": 16,
      "outputs": [
        {
          "output_type": "stream",
          "text": [
            "Model: \"sequential_2\"\n",
            "_________________________________________________________________\n",
            "Layer (type)                 Output Shape              Param #   \n",
            "=================================================================\n",
            "embedding_2 (Embedding)      (None, 50, 16)            64000     \n",
            "_________________________________________________________________\n",
            "bidirectional (Bidirectional (None, 64)                9600      \n",
            "_________________________________________________________________\n",
            "dense_2 (Dense)              (None, 1)                 65        \n",
            "=================================================================\n",
            "Total params: 73,665\n",
            "Trainable params: 73,665\n",
            "Non-trainable params: 0\n",
            "_________________________________________________________________\n",
            "Epoch 1/30\n",
            "313/313 [==============================] - 3s 10ms/step - loss: 0.6893 - accuracy: 0.5590 - val_loss: 0.6938 - val_accuracy: 0.5092\n",
            "Epoch 2/30\n",
            "313/313 [==============================] - 2s 8ms/step - loss: 0.6866 - accuracy: 0.5590 - val_loss: 0.6949 - val_accuracy: 0.5092\n",
            "Epoch 3/30\n",
            "313/313 [==============================] - 3s 8ms/step - loss: 0.6855 - accuracy: 0.5590 - val_loss: 0.6960 - val_accuracy: 0.5092\n",
            "Epoch 4/30\n",
            "313/313 [==============================] - 3s 8ms/step - loss: 0.6847 - accuracy: 0.5590 - val_loss: 0.6967 - val_accuracy: 0.5092\n",
            "Epoch 5/30\n",
            "313/313 [==============================] - 3s 8ms/step - loss: 0.6837 - accuracy: 0.5590 - val_loss: 0.6975 - val_accuracy: 0.5092\n",
            "Epoch 6/30\n",
            "313/313 [==============================] - 3s 8ms/step - loss: 0.6821 - accuracy: 0.5590 - val_loss: 0.6985 - val_accuracy: 0.5092\n",
            "Epoch 7/30\n",
            "313/313 [==============================] - 3s 8ms/step - loss: 0.6798 - accuracy: 0.5590 - val_loss: 0.7001 - val_accuracy: 0.5092\n",
            "Epoch 8/30\n",
            "313/313 [==============================] - 3s 8ms/step - loss: 0.6758 - accuracy: 0.5590 - val_loss: 0.7023 - val_accuracy: 0.5092\n",
            "Epoch 9/30\n",
            "313/313 [==============================] - 2s 8ms/step - loss: 0.6696 - accuracy: 0.5632 - val_loss: 0.7092 - val_accuracy: 0.5092\n",
            "Epoch 10/30\n",
            "313/313 [==============================] - 3s 8ms/step - loss: 0.6593 - accuracy: 0.5852 - val_loss: 0.7209 - val_accuracy: 0.5092\n",
            "Epoch 11/30\n",
            "313/313 [==============================] - 2s 8ms/step - loss: 0.6443 - accuracy: 0.6250 - val_loss: 0.7294 - val_accuracy: 0.5092\n",
            "Epoch 12/30\n",
            "313/313 [==============================] - 3s 8ms/step - loss: 0.6241 - accuracy: 0.6528 - val_loss: 0.7136 - val_accuracy: 0.5080\n",
            "Epoch 13/30\n",
            "313/313 [==============================] - 3s 8ms/step - loss: 0.5947 - accuracy: 0.6762 - val_loss: 0.6664 - val_accuracy: 0.5149\n",
            "Epoch 14/30\n",
            "313/313 [==============================] - 3s 8ms/step - loss: 0.5622 - accuracy: 0.7050 - val_loss: 0.6241 - val_accuracy: 0.5321\n",
            "Epoch 15/30\n",
            "313/313 [==============================] - 2s 8ms/step - loss: 0.5392 - accuracy: 0.7333 - val_loss: 0.6176 - val_accuracy: 0.5872\n",
            "Epoch 16/30\n",
            "313/313 [==============================] - 3s 8ms/step - loss: 0.5190 - accuracy: 0.7518 - val_loss: 0.6135 - val_accuracy: 0.6101\n",
            "Epoch 17/30\n",
            "313/313 [==============================] - 3s 8ms/step - loss: 0.4990 - accuracy: 0.7644 - val_loss: 0.5984 - val_accuracy: 0.6858\n",
            "Epoch 18/30\n",
            "313/313 [==============================] - 3s 8ms/step - loss: 0.4804 - accuracy: 0.7775 - val_loss: 0.5763 - val_accuracy: 0.7305\n",
            "Epoch 19/30\n",
            "313/313 [==============================] - 2s 8ms/step - loss: 0.4629 - accuracy: 0.7900 - val_loss: 0.5657 - val_accuracy: 0.7294\n",
            "Epoch 20/30\n",
            "313/313 [==============================] - 2s 8ms/step - loss: 0.4493 - accuracy: 0.7959 - val_loss: 0.5672 - val_accuracy: 0.7397\n",
            "Epoch 21/30\n",
            "313/313 [==============================] - 2s 8ms/step - loss: 0.4381 - accuracy: 0.8061 - val_loss: 0.5622 - val_accuracy: 0.7443\n",
            "Epoch 22/30\n",
            "313/313 [==============================] - 3s 8ms/step - loss: 0.4271 - accuracy: 0.8100 - val_loss: 0.5541 - val_accuracy: 0.7431\n",
            "Epoch 23/30\n",
            "313/313 [==============================] - 3s 8ms/step - loss: 0.4189 - accuracy: 0.8162 - val_loss: 0.5481 - val_accuracy: 0.7489\n",
            "Epoch 24/30\n",
            "313/313 [==============================] - 3s 8ms/step - loss: 0.4093 - accuracy: 0.8212 - val_loss: 0.5504 - val_accuracy: 0.7569\n",
            "Epoch 25/30\n",
            "313/313 [==============================] - 3s 9ms/step - loss: 0.4010 - accuracy: 0.8242 - val_loss: 0.5583 - val_accuracy: 0.7661\n",
            "Epoch 26/30\n",
            "313/313 [==============================] - 3s 9ms/step - loss: 0.3918 - accuracy: 0.8298 - val_loss: 0.5680 - val_accuracy: 0.7638\n",
            "Epoch 27/30\n",
            "313/313 [==============================] - 3s 8ms/step - loss: 0.3858 - accuracy: 0.8352 - val_loss: 0.5588 - val_accuracy: 0.7683\n",
            "Epoch 28/30\n",
            "313/313 [==============================] - 2s 8ms/step - loss: 0.3785 - accuracy: 0.8384 - val_loss: 0.5920 - val_accuracy: 0.7569\n",
            "Epoch 29/30\n",
            "313/313 [==============================] - 3s 8ms/step - loss: 0.3706 - accuracy: 0.8437 - val_loss: 0.5786 - val_accuracy: 0.7706\n",
            "Epoch 30/30\n",
            "313/313 [==============================] - 3s 8ms/step - loss: 0.3653 - accuracy: 0.8450 - val_loss: 0.5799 - val_accuracy: 0.7661\n"
          ],
          "name": "stdout"
        },
        {
          "output_type": "display_data",
          "data": {
            "image/png": "[encoded data removed]",
            "text/plain": [
              "<Figure size 432x288 with 1 Axes>"
            ]
          },
          "metadata": {
            "tags": [],
            "needs_background": "light"
          }
        },
        {
          "output_type": "display_data",
          "data": {
            "image/png": "[encoded data removed]",
            "text/plain": [
              "<Figure size 432x288 with 1 Axes>"
            ]
          },
          "metadata": {
            "tags": [],
            "needs_background": "light"
          }
        },
        {
          "output_type": "stream",
          "text": [
            "I loved this movie\n",
            "[0.42164946]\n",
            "\n",
            "\n",
            "that was the worst movie I've ever seen\n",
            "[0.13832195]\n",
            "\n",
            "\n",
            "too much violence even for a Bond film\n",
            "[0.17882891]\n",
            "\n",
            "\n",
            "a captivating recounting of a cherished myth\n",
            "[0.5314735]\n",
            "\n",
            "\n"
          ],
          "name": "stdout"
        }
      ]
    },
    {
      "cell_type": "markdown",
      "metadata": {
        "colab_type": "text",
        "id": "U13JBiJUG1oq"
      },
      "source": [
        "# Add a bidirectional LSTM"
      ]
    },
    {
      "cell_type": "code",
      "metadata": {
        "colab_type": "code",
        "id": "scTUsFPAG4zP",
        "colab": {
          "base_uri": "https://localhost:8080/",
          "height": 1000
        },
        "outputId": "2fbdeac9-59e1-452a-82b6-9ea6a6f1794d"
      },
      "source": [
        "num_epochs = 30\n",
        "\n",
        "model_bidi_lstm = tf.keras.Sequential([\n",
        "    tf.keras.layers.Embedding(vocab_size, embedding_dim, input_length=max_length),\n",
        "    tf.keras.layers.Bidirectional(tf.keras.layers.LSTM(embedding_dim)), \n",
        "    tf.keras.layers.Dense(1, activation='sigmoid')\n",
        "])\n",
        "\n",
        "learning_rate = 0.00003\n",
        "model_bidi_lstm.compile(loss='binary_crossentropy',\n",
        "                        optimizer=tf.keras.optimizers.Adam(learning_rate),\n",
        "                        metrics=['accuracy'])\n",
        "fit_model_and_show_results(model_bidi_lstm, new_reviews)"
      ],
      "execution_count": 17,
      "outputs": [
        {
          "output_type": "stream",
          "text": [
            "Model: \"sequential_3\"\n",
            "_________________________________________________________________\n",
            "Layer (type)                 Output Shape              Param #   \n",
            "=================================================================\n",
            "embedding_3 (Embedding)      (None, 50, 16)            64000     \n",
            "_________________________________________________________________\n",
            "bidirectional_1 (Bidirection (None, 32)                4224      \n",
            "_________________________________________________________________\n",
            "dense_3 (Dense)              (None, 1)                 33        \n",
            "=================================================================\n",
            "Total params: 68,257\n",
            "Trainable params: 68,257\n",
            "Non-trainable params: 0\n",
            "_________________________________________________________________\n",
            "Epoch 1/30\n",
            "313/313 [==============================] - 3s 10ms/step - loss: 0.6912 - accuracy: 0.5571 - val_loss: 0.6940 - val_accuracy: 0.5092\n",
            "Epoch 2/30\n",
            "313/313 [==============================] - 3s 8ms/step - loss: 0.6881 - accuracy: 0.5590 - val_loss: 0.6950 - val_accuracy: 0.5092\n",
            "Epoch 3/30\n",
            "313/313 [==============================] - 3s 8ms/step - loss: 0.6861 - accuracy: 0.5590 - val_loss: 0.6965 - val_accuracy: 0.5092\n",
            "Epoch 4/30\n",
            "313/313 [==============================] - 3s 8ms/step - loss: 0.6846 - accuracy: 0.5590 - val_loss: 0.6981 - val_accuracy: 0.5092\n",
            "Epoch 5/30\n",
            "313/313 [==============================] - 3s 8ms/step - loss: 0.6832 - accuracy: 0.5590 - val_loss: 0.6996 - val_accuracy: 0.5092\n",
            "Epoch 6/30\n",
            "313/313 [==============================] - 3s 9ms/step - loss: 0.6817 - accuracy: 0.5590 - val_loss: 0.7016 - val_accuracy: 0.5092\n",
            "Epoch 7/30\n",
            "313/313 [==============================] - 3s 8ms/step - loss: 0.6798 - accuracy: 0.5590 - val_loss: 0.7036 - val_accuracy: 0.5092\n",
            "Epoch 8/30\n",
            "313/313 [==============================] - 3s 8ms/step - loss: 0.6772 - accuracy: 0.5590 - val_loss: 0.7069 - val_accuracy: 0.5092\n",
            "Epoch 9/30\n",
            "313/313 [==============================] - 3s 8ms/step - loss: 0.6740 - accuracy: 0.5590 - val_loss: 0.7098 - val_accuracy: 0.5092\n",
            "Epoch 10/30\n",
            "313/313 [==============================] - 3s 8ms/step - loss: 0.6698 - accuracy: 0.5621 - val_loss: 0.7130 - val_accuracy: 0.5092\n",
            "Epoch 11/30\n",
            "313/313 [==============================] - 3s 8ms/step - loss: 0.6648 - accuracy: 0.5778 - val_loss: 0.7231 - val_accuracy: 0.5092\n",
            "Epoch 12/30\n",
            "313/313 [==============================] - 3s 8ms/step - loss: 0.6588 - accuracy: 0.5981 - val_loss: 0.7252 - val_accuracy: 0.5092\n",
            "Epoch 13/30\n",
            "313/313 [==============================] - 3s 8ms/step - loss: 0.6513 - accuracy: 0.6175 - val_loss: 0.7229 - val_accuracy: 0.5092\n",
            "Epoch 14/30\n",
            "313/313 [==============================] - 3s 8ms/step - loss: 0.6423 - accuracy: 0.6333 - val_loss: 0.7240 - val_accuracy: 0.5092\n",
            "Epoch 15/30\n",
            "313/313 [==============================] - 3s 8ms/step - loss: 0.6295 - accuracy: 0.6471 - val_loss: 0.7257 - val_accuracy: 0.5069\n",
            "Epoch 16/30\n",
            "313/313 [==============================] - 3s 8ms/step - loss: 0.6125 - accuracy: 0.6626 - val_loss: 0.7054 - val_accuracy: 0.5103\n",
            "Epoch 17/30\n",
            "313/313 [==============================] - 3s 8ms/step - loss: 0.5919 - accuracy: 0.6816 - val_loss: 0.6779 - val_accuracy: 0.5115\n",
            "Epoch 18/30\n",
            "313/313 [==============================] - 3s 8ms/step - loss: 0.5737 - accuracy: 0.7026 - val_loss: 0.6498 - val_accuracy: 0.5929\n",
            "Epoch 19/30\n",
            "313/313 [==============================] - 3s 8ms/step - loss: 0.5592 - accuracy: 0.7187 - val_loss: 0.6253 - val_accuracy: 0.6261\n",
            "Epoch 20/30\n",
            "313/313 [==============================] - 3s 8ms/step - loss: 0.5462 - accuracy: 0.7346 - val_loss: 0.6166 - val_accuracy: 0.6365\n",
            "Epoch 21/30\n",
            "313/313 [==============================] - 3s 8ms/step - loss: 0.5350 - accuracy: 0.7446 - val_loss: 0.6164 - val_accuracy: 0.6617\n",
            "Epoch 22/30\n",
            "313/313 [==============================] - 2s 8ms/step - loss: 0.5248 - accuracy: 0.7576 - val_loss: 0.6055 - val_accuracy: 0.6697\n",
            "Epoch 23/30\n",
            "313/313 [==============================] - 3s 8ms/step - loss: 0.5144 - accuracy: 0.7668 - val_loss: 0.6023 - val_accuracy: 0.6789\n",
            "Epoch 24/30\n",
            "313/313 [==============================] - 3s 8ms/step - loss: 0.5059 - accuracy: 0.7720 - val_loss: 0.5985 - val_accuracy: 0.6812\n",
            "Epoch 25/30\n",
            "313/313 [==============================] - 3s 8ms/step - loss: 0.4976 - accuracy: 0.7781 - val_loss: 0.5945 - val_accuracy: 0.6846\n",
            "Epoch 26/30\n",
            "313/313 [==============================] - 3s 8ms/step - loss: 0.4886 - accuracy: 0.7866 - val_loss: 0.5859 - val_accuracy: 0.6686\n",
            "Epoch 27/30\n",
            "313/313 [==============================] - 3s 8ms/step - loss: 0.4806 - accuracy: 0.7900 - val_loss: 0.5837 - val_accuracy: 0.6881\n",
            "Epoch 28/30\n",
            "313/313 [==============================] - 3s 8ms/step - loss: 0.4730 - accuracy: 0.7952 - val_loss: 0.5872 - val_accuracy: 0.6869\n",
            "Epoch 29/30\n",
            "313/313 [==============================] - 3s 8ms/step - loss: 0.4658 - accuracy: 0.8010 - val_loss: 0.5748 - val_accuracy: 0.6972\n",
            "Epoch 30/30\n",
            "313/313 [==============================] - 3s 8ms/step - loss: 0.4586 - accuracy: 0.8051 - val_loss: 0.5750 - val_accuracy: 0.6892\n"
          ],
          "name": "stdout"
        },
        {
          "output_type": "display_data",
          "data": {
            "image/png": "[encoded data removed]",
            "text/plain": [
              "<Figure size 432x288 with 1 Axes>"
            ]
          },
          "metadata": {
            "tags": [],
            "needs_background": "light"
          }
        },
        {
          "output_type": "display_data",
          "data": {
            "image/png": "[encoded data removed]",
            "text/plain": [
              "<Figure size 432x288 with 1 Axes>"
            ]
          },
          "metadata": {
            "tags": [],
            "needs_background": "light"
          }
        },
        {
          "output_type": "stream",
          "text": [
            "I loved this movie\n",
            "[0.48622695]\n",
            "\n",
            "\n",
            "that was the worst movie I've ever seen\n",
            "[0.2840587]\n",
            "\n",
            "\n",
            "too much violence even for a Bond film\n",
            "[0.47429806]\n",
            "\n",
            "\n",
            "a captivating recounting of a cherished myth\n",
            "[0.54627347]\n",
            "\n",
            "\n"
          ],
          "name": "stdout"
        }
      ]
    },
    {
      "cell_type": "markdown",
      "metadata": {
        "colab_type": "text",
        "id": "QsxKPbCnPJTj"
      },
      "source": [
        "# Use multiple bidirectional LSTMs"
      ]
    },
    {
      "cell_type": "code",
      "metadata": {
        "colab_type": "code",
        "id": "3N6Zul47PMED",
        "colab": {
          "base_uri": "https://localhost:8080/",
          "height": 1000
        },
        "outputId": "ac0cbb13-a468-4a51-cb0f-706b80ddcbaa"
      },
      "source": [
        "num_epochs = 30\n",
        "\n",
        "model_multiple_bidi_lstm = tf.keras.Sequential([\n",
        "    tf.keras.layers.Embedding(vocab_size, embedding_dim, input_length=max_length),\n",
        "    tf.keras.layers.Bidirectional(tf.keras.layers.LSTM(embedding_dim, \n",
        "                                                       return_sequences=True)),\n",
        "    tf.keras.layers.Bidirectional(tf.keras.layers.LSTM(embedding_dim)),\n",
        "    tf.keras.layers.Dense(1, activation='sigmoid')\n",
        "])\n",
        "\n",
        "learning_rate = 0.0003\n",
        "model_multiple_bidi_lstm.compile(loss='binary_crossentropy',\n",
        "                                 optimizer=tf.keras.optimizers.Adam(learning_rate),\n",
        "                                 metrics=['accuracy'])\n",
        "fit_model_and_show_results(model_multiple_bidi_lstm, new_reviews)"
      ],
      "execution_count": 18,
      "outputs": [
        {
          "output_type": "stream",
          "text": [
            "Model: \"sequential_4\"\n",
            "_________________________________________________________________\n",
            "Layer (type)                 Output Shape              Param #   \n",
            "=================================================================\n",
            "embedding_4 (Embedding)      (None, 50, 16)            64000     \n",
            "_________________________________________________________________\n",
            "bidirectional_2 (Bidirection (None, 50, 32)            4224      \n",
            "_________________________________________________________________\n",
            "bidirectional_3 (Bidirection (None, 32)                6272      \n",
            "_________________________________________________________________\n",
            "dense_4 (Dense)              (None, 1)                 33        \n",
            "=================================================================\n",
            "Total params: 74,529\n",
            "Trainable params: 74,529\n",
            "Non-trainable params: 0\n",
            "_________________________________________________________________\n",
            "Epoch 1/30\n",
            "313/313 [==============================] - 5s 16ms/step - loss: 0.6798 - accuracy: 0.5654 - val_loss: 0.7167 - val_accuracy: 0.5080\n",
            "Epoch 2/30\n",
            "313/313 [==============================] - 4s 13ms/step - loss: 0.4830 - accuracy: 0.7554 - val_loss: 0.6876 - val_accuracy: 0.5333\n",
            "Epoch 3/30\n",
            "313/313 [==============================] - 4s 13ms/step - loss: 0.3515 - accuracy: 0.8369 - val_loss: 0.6606 - val_accuracy: 0.6468\n",
            "Epoch 4/30\n",
            "313/313 [==============================] - 4s 13ms/step - loss: 0.3047 - accuracy: 0.8625 - val_loss: 0.6601 - val_accuracy: 0.7087\n",
            "Epoch 5/30\n",
            "313/313 [==============================] - 4s 13ms/step - loss: 0.2701 - accuracy: 0.8739 - val_loss: 0.6692 - val_accuracy: 0.5952\n",
            "Epoch 6/30\n",
            "313/313 [==============================] - 4s 13ms/step - loss: 0.2492 - accuracy: 0.8855 - val_loss: 0.6771 - val_accuracy: 0.5401\n",
            "Epoch 7/30\n",
            "313/313 [==============================] - 4s 13ms/step - loss: 0.2313 - accuracy: 0.8921 - val_loss: 0.6610 - val_accuracy: 0.6479\n",
            "Epoch 8/30\n",
            "313/313 [==============================] - 4s 13ms/step - loss: 0.2186 - accuracy: 0.8954 - val_loss: 0.6547 - val_accuracy: 0.6307\n",
            "Epoch 9/30\n",
            "313/313 [==============================] - 4s 13ms/step - loss: 0.2063 - accuracy: 0.8999 - val_loss: 0.6694 - val_accuracy: 0.5998\n",
            "Epoch 10/30\n",
            "313/313 [==============================] - 4s 13ms/step - loss: 0.2020 - accuracy: 0.9040 - val_loss: 0.6783 - val_accuracy: 0.5826\n",
            "Epoch 11/30\n",
            "313/313 [==============================] - 4s 13ms/step - loss: 0.1949 - accuracy: 0.9049 - val_loss: 0.7272 - val_accuracy: 0.5367\n",
            "Epoch 12/30\n",
            "313/313 [==============================] - 4s 13ms/step - loss: 0.1847 - accuracy: 0.9097 - val_loss: 0.8504 - val_accuracy: 0.4828\n",
            "Epoch 13/30\n",
            "313/313 [==============================] - 4s 13ms/step - loss: 0.1793 - accuracy: 0.9127 - val_loss: 0.8460 - val_accuracy: 0.3979\n",
            "Epoch 14/30\n",
            "313/313 [==============================] - 4s 13ms/step - loss: 0.1729 - accuracy: 0.9145 - val_loss: 1.0342 - val_accuracy: 0.4197\n",
            "Epoch 15/30\n",
            "313/313 [==============================] - 4s 13ms/step - loss: 0.1676 - accuracy: 0.9181 - val_loss: 1.0304 - val_accuracy: 0.3922\n",
            "Epoch 16/30\n",
            "313/313 [==============================] - 4s 13ms/step - loss: 0.1651 - accuracy: 0.9179 - val_loss: 1.1743 - val_accuracy: 0.3956\n",
            "Epoch 17/30\n",
            "313/313 [==============================] - 4s 13ms/step - loss: 0.1585 - accuracy: 0.9203 - val_loss: 1.2787 - val_accuracy: 0.3956\n",
            "Epoch 18/30\n",
            "313/313 [==============================] - 4s 13ms/step - loss: 0.1496 - accuracy: 0.9236 - val_loss: 1.3936 - val_accuracy: 0.3899\n",
            "Epoch 19/30\n",
            "313/313 [==============================] - 4s 13ms/step - loss: 0.1475 - accuracy: 0.9261 - val_loss: 1.5161 - val_accuracy: 0.4335\n",
            "Epoch 20/30\n",
            "313/313 [==============================] - 4s 13ms/step - loss: 0.1429 - accuracy: 0.9261 - val_loss: 1.6092 - val_accuracy: 0.4404\n",
            "Epoch 21/30\n",
            "313/313 [==============================] - 4s 13ms/step - loss: 0.1425 - accuracy: 0.9273 - val_loss: 1.5059 - val_accuracy: 0.4415\n",
            "Epoch 22/30\n",
            "313/313 [==============================] - 4s 13ms/step - loss: 0.1379 - accuracy: 0.9275 - val_loss: 1.6945 - val_accuracy: 0.4610\n",
            "Epoch 23/30\n",
            "313/313 [==============================] - 4s 13ms/step - loss: 0.1337 - accuracy: 0.9274 - val_loss: 1.4444 - val_accuracy: 0.4415\n",
            "Epoch 24/30\n",
            "313/313 [==============================] - 4s 13ms/step - loss: 0.1297 - accuracy: 0.9331 - val_loss: 1.5993 - val_accuracy: 0.4186\n",
            "Epoch 25/30\n",
            "313/313 [==============================] - 4s 13ms/step - loss: 0.1291 - accuracy: 0.9331 - val_loss: 1.7342 - val_accuracy: 0.4128\n",
            "Epoch 26/30\n",
            "313/313 [==============================] - 4s 13ms/step - loss: 0.1257 - accuracy: 0.9338 - val_loss: 1.6009 - val_accuracy: 0.4484\n",
            "Epoch 27/30\n",
            "313/313 [==============================] - 4s 13ms/step - loss: 0.1284 - accuracy: 0.9306 - val_loss: 1.6321 - val_accuracy: 0.4897\n",
            "Epoch 28/30\n",
            "313/313 [==============================] - 4s 13ms/step - loss: 0.1238 - accuracy: 0.9356 - val_loss: 1.7015 - val_accuracy: 0.4679\n",
            "Epoch 29/30\n",
            "313/313 [==============================] - 4s 13ms/step - loss: 0.1228 - accuracy: 0.9340 - val_loss: 1.7688 - val_accuracy: 0.4966\n",
            "Epoch 30/30\n",
            "313/313 [==============================] - 4s 13ms/step - loss: 0.1195 - accuracy: 0.9341 - val_loss: 1.8057 - val_accuracy: 0.5000\n"
          ],
          "name": "stdout"
        },
        {
          "output_type": "display_data",
          "data": {
            "image/png": "[encoded data removed]",
            "text/plain": [
              "<Figure size 432x288 with 1 Axes>"
            ]
          },
          "metadata": {
            "tags": [],
            "needs_background": "light"
          }
        },
        {
          "output_type": "display_data",
          "data": {
            "image/png": "[encoded data removed]",
            "text/plain": [
              "<Figure size 432x288 with 1 Axes>"
            ]
          },
          "metadata": {
            "tags": [],
            "needs_background": "light"
          }
        },
        {
          "output_type": "stream",
          "text": [
            "I loved this movie\n",
            "[0.6251305]\n",
            "\n",
            "\n",
            "that was the worst movie I've ever seen\n",
            "[0.20549403]\n",
            "\n",
            "\n",
            "too much violence even for a Bond film\n",
            "[0.00383405]\n",
            "\n",
            "\n",
            "a captivating recounting of a cherished myth\n",
            "[0.99818724]\n",
            "\n",
            "\n"
          ],
          "name": "stdout"
        }
      ]
    },
    {
      "cell_type": "markdown",
      "metadata": {
        "colab_type": "text",
        "id": "gdN2tdW4YYJ1"
      },
      "source": [
        "# Try some more reviews"
      ]
    },
    {
      "cell_type": "code",
      "metadata": {
        "colab_type": "code",
        "id": "e45UQxQl_QAI",
        "colab": {}
      },
      "source": [
        "# Write some new reviews \n",
        "\n",
        "review1 = \"\"\"I loved this movie\"\"\"\n",
        "\n",
        "review2 = \"\"\"that was the worst movie I've ever seen\"\"\"\n",
        "\n",
        "review3 = \"\"\"too much violence even for a Bond film\"\"\"\n",
        "\n",
        "review4 = \"\"\"a captivating recounting of a cherished myth\"\"\"\n",
        "\n",
        "review5 = \"\"\"I saw this movie yesterday and I was feeling low to start with,\n",
        " but it was such a wonderful movie that it lifted my spirits and brightened \n",
        " my day, you can\\'t go wrong with a movie with Whoopi Goldberg in it.\"\"\"\n",
        "\n",
        "review6 = \"\"\"I don\\'t understand why it received an oscar recommendation\n",
        " for best movie, it was long and boring\"\"\"\n",
        "\n",
        "review7 = \"\"\"the scenery was magnificent, the CGI of the dogs was so realistic I\n",
        " thought they were played by real dogs even though they talked!\"\"\"\n",
        "\n",
        "review8 = \"\"\"The ending was so sad and yet so uplifting at the same time. \n",
        " I'm looking for an excuse to see it again\"\"\"\n",
        "\n",
        "review9 = \"\"\"I had expected so much more from a movie made by the director \n",
        " who made my most favorite movie ever, I was very disappointed in the tedious \n",
        " story\"\"\"\n",
        "\n",
        "review10 = \"I wish I could watch this movie every day for the rest of my life\"\n",
        "\n",
        "more_reviews = [review1, review2, review3, review4, review5, review6, review7, \n",
        "               review8, review9, review10]\n"
      ],
      "execution_count": 0,
      "outputs": []
    },
    {
      "cell_type": "code",
      "metadata": {
        "colab_type": "code",
        "id": "cQ4YZHOjYXQ2",
        "colab": {
          "base_uri": "https://localhost:8080/",
          "height": 857
        },
        "outputId": "b9a8d293-9296-4aff-e4e7-5fc5767371df"
      },
      "source": [
        "print(\"============================\\n\",\"Embeddings only:\\n\", \"============================\")\n",
        "predict_review(model, more_reviews)"
      ],
      "execution_count": 20,
      "outputs": [
        {
          "output_type": "stream",
          "text": [
            "============================\n",
            " Embeddings only:\n",
            " ============================\n",
            "I loved this movie\n",
            "[0.45002577]\n",
            "\n",
            "\n",
            "that was the worst movie I've ever seen\n",
            "[0.13949896]\n",
            "\n",
            "\n",
            "too much violence even for a Bond film\n",
            "[0.03896962]\n",
            "\n",
            "\n",
            "a captivating recounting of a cherished myth\n",
            "[0.650754]\n",
            "\n",
            "\n",
            "I saw this movie yesterday and I was feeling low to start with,\n",
            " but it was such a wonderful movie that it lifted my spirits and brightened \n",
            " my day, you can't go wrong with a movie with Whoopi Goldberg in it.\n",
            "[0.2708573]\n",
            "\n",
            "\n",
            "I don't understand why it received an oscar recommendation\n",
            " for best movie, it was long and boring\n",
            "[0.51341414]\n",
            "\n",
            "\n",
            "the scenery was magnificent, the CGI of the dogs was so realistic I\n",
            " thought they were played by real dogs even though they talked!\n",
            "[0.28219533]\n",
            "\n",
            "\n",
            "The ending was so sad and yet so uplifting at the same time. \n",
            " I'm looking for an excuse to see it again\n",
            "[0.53356963]\n",
            "\n",
            "\n",
            "I had expected so much more from a movie made by the director \n",
            " who made my most favorite movie ever, I was very disappointed in the tedious \n",
            " story\n",
            "[0.01217441]\n",
            "\n",
            "\n",
            "I wish I could watch this movie every day for the rest of my life\n",
            "[0.34962356]\n",
            "\n",
            "\n"
          ],
          "name": "stdout"
        }
      ]
    },
    {
      "cell_type": "code",
      "metadata": {
        "colab_type": "code",
        "id": "NI04noTAHK5t",
        "colab": {
          "base_uri": "https://localhost:8080/",
          "height": 857
        },
        "outputId": "5e366ea4-a2fe-4c9c-ee61-2a268e2dc706"
      },
      "source": [
        "print(\"============================\\n\",\"With CNN\\n\", \"============================\")\n",
        "predict_review(model_cnn, more_reviews)"
      ],
      "execution_count": 21,
      "outputs": [
        {
          "output_type": "stream",
          "text": [
            "============================\n",
            " With CNN\n",
            " ============================\n",
            "I loved this movie\n",
            "[0.8515806]\n",
            "\n",
            "\n",
            "that was the worst movie I've ever seen\n",
            "[0.02626081]\n",
            "\n",
            "\n",
            "too much violence even for a Bond film\n",
            "[0.01114443]\n",
            "\n",
            "\n",
            "a captivating recounting of a cherished myth\n",
            "[0.64901596]\n",
            "\n",
            "\n",
            "I saw this movie yesterday and I was feeling low to start with,\n",
            " but it was such a wonderful movie that it lifted my spirits and brightened \n",
            " my day, you can't go wrong with a movie with Whoopi Goldberg in it.\n",
            "[0.23087718]\n",
            "\n",
            "\n",
            "I don't understand why it received an oscar recommendation\n",
            " for best movie, it was long and boring\n",
            "[0.50549304]\n",
            "\n",
            "\n",
            "the scenery was magnificent, the CGI of the dogs was so realistic I\n",
            " thought they were played by real dogs even though they talked!\n",
            "[0.24693689]\n",
            "\n",
            "\n",
            "The ending was so sad and yet so uplifting at the same time. \n",
            " I'm looking for an excuse to see it again\n",
            "[0.8093167]\n",
            "\n",
            "\n",
            "I had expected so much more from a movie made by the director \n",
            " who made my most favorite movie ever, I was very disappointed in the tedious \n",
            " story\n",
            "[0.06346472]\n",
            "\n",
            "\n",
            "I wish I could watch this movie every day for the rest of my life\n",
            "[0.4151608]\n",
            "\n",
            "\n"
          ],
          "name": "stdout"
        }
      ]
    },
    {
      "cell_type": "code",
      "metadata": {
        "colab_type": "code",
        "id": "vGJ32sRUHNu6",
        "colab": {
          "base_uri": "https://localhost:8080/",
          "height": 857
        },
        "outputId": "e04650e9-d9cc-4dfa-c337-91c86db6a851"
      },
      "source": [
        "print(\"===========================\\n\",\"With bidirectional GRU\\n\", \"============================\")\n",
        "predict_review(model_gru, more_reviews)"
      ],
      "execution_count": 22,
      "outputs": [
        {
          "output_type": "stream",
          "text": [
            "===========================\n",
            " With bidirectional GRU\n",
            " ============================\n",
            "I loved this movie\n",
            "[0.42164946]\n",
            "\n",
            "\n",
            "that was the worst movie I've ever seen\n",
            "[0.13832195]\n",
            "\n",
            "\n",
            "too much violence even for a Bond film\n",
            "[0.17882891]\n",
            "\n",
            "\n",
            "a captivating recounting of a cherished myth\n",
            "[0.5314735]\n",
            "\n",
            "\n",
            "I saw this movie yesterday and I was feeling low to start with,\n",
            " but it was such a wonderful movie that it lifted my spirits and brightened \n",
            " my day, you can't go wrong with a movie with Whoopi Goldberg in it.\n",
            "[0.10741158]\n",
            "\n",
            "\n",
            "I don't understand why it received an oscar recommendation\n",
            " for best movie, it was long and boring\n",
            "[0.13025026]\n",
            "\n",
            "\n",
            "the scenery was magnificent, the CGI of the dogs was so realistic I\n",
            " thought they were played by real dogs even though they talked!\n",
            "[0.14067665]\n",
            "\n",
            "\n",
            "The ending was so sad and yet so uplifting at the same time. \n",
            " I'm looking for an excuse to see it again\n",
            "[0.1671475]\n",
            "\n",
            "\n",
            "I had expected so much more from a movie made by the director \n",
            " who made my most favorite movie ever, I was very disappointed in the tedious \n",
            " story\n",
            "[0.07509361]\n",
            "\n",
            "\n",
            "I wish I could watch this movie every day for the rest of my life\n",
            "[0.29335555]\n",
            "\n",
            "\n"
          ],
          "name": "stdout"
        }
      ]
    },
    {
      "cell_type": "code",
      "metadata": {
        "colab_type": "code",
        "id": "IFw9Q0iQHP2P",
        "colab": {
          "base_uri": "https://localhost:8080/",
          "height": 857
        },
        "outputId": "f3913d83-f872-4f47-e8e7-f465c6589e39"
      },
      "source": [
        "print(\"===========================\\n\", \"With a single bidirectional LSTM:\\n\", \"===========================\")\n",
        "predict_review(model_bidi_lstm, more_reviews)"
      ],
      "execution_count": 23,
      "outputs": [
        {
          "output_type": "stream",
          "text": [
            "===========================\n",
            " With a single bidirectional LSTM:\n",
            " ===========================\n",
            "I loved this movie\n",
            "[0.48622695]\n",
            "\n",
            "\n",
            "that was the worst movie I've ever seen\n",
            "[0.2840587]\n",
            "\n",
            "\n",
            "too much violence even for a Bond film\n",
            "[0.474298]\n",
            "\n",
            "\n",
            "a captivating recounting of a cherished myth\n",
            "[0.54627347]\n",
            "\n",
            "\n",
            "I saw this movie yesterday and I was feeling low to start with,\n",
            " but it was such a wonderful movie that it lifted my spirits and brightened \n",
            " my day, you can't go wrong with a movie with Whoopi Goldberg in it.\n",
            "[0.19557269]\n",
            "\n",
            "\n",
            "I don't understand why it received an oscar recommendation\n",
            " for best movie, it was long and boring\n",
            "[0.25784397]\n",
            "\n",
            "\n",
            "the scenery was magnificent, the CGI of the dogs was so realistic I\n",
            " thought they were played by real dogs even though they talked!\n",
            "[0.20463645]\n",
            "\n",
            "\n",
            "The ending was so sad and yet so uplifting at the same time. \n",
            " I'm looking for an excuse to see it again\n",
            "[0.28464726]\n",
            "\n",
            "\n",
            "I had expected so much more from a movie made by the director \n",
            " who made my most favorite movie ever, I was very disappointed in the tedious \n",
            " story\n",
            "[0.16401774]\n",
            "\n",
            "\n",
            "I wish I could watch this movie every day for the rest of my life\n",
            "[0.7671656]\n",
            "\n",
            "\n"
          ],
          "name": "stdout"
        }
      ]
    },
    {
      "cell_type": "code",
      "metadata": {
        "colab_type": "code",
        "id": "zaw7fEVQHSWK",
        "colab": {
          "base_uri": "https://localhost:8080/",
          "height": 857
        },
        "outputId": "5171a56f-58e8-4b49-b747-158bd0920a99"
      },
      "source": [
        "print(\"===========================\\n\", \"With multiple bidirectional LSTM:\\n\", \"==========================\")\n",
        "predict_review(model_multiple_bidi_lstm, more_reviews)"
      ],
      "execution_count": 24,
      "outputs": [
        {
          "output_type": "stream",
          "text": [
            "===========================\n",
            " With multiple bidirectional LSTM:\n",
            " ==========================\n",
            "I loved this movie\n",
            "[0.6251305]\n",
            "\n",
            "\n",
            "that was the worst movie I've ever seen\n",
            "[0.20549399]\n",
            "\n",
            "\n",
            "too much violence even for a Bond film\n",
            "[0.00383405]\n",
            "\n",
            "\n",
            "a captivating recounting of a cherished myth\n",
            "[0.99818724]\n",
            "\n",
            "\n",
            "I saw this movie yesterday and I was feeling low to start with,\n",
            " but it was such a wonderful movie that it lifted my spirits and brightened \n",
            " my day, you can't go wrong with a movie with Whoopi Goldberg in it.\n",
            "[0.99334866]\n",
            "\n",
            "\n",
            "I don't understand why it received an oscar recommendation\n",
            " for best movie, it was long and boring\n",
            "[0.99858946]\n",
            "\n",
            "\n",
            "the scenery was magnificent, the CGI of the dogs was so realistic I\n",
            " thought they were played by real dogs even though they talked!\n",
            "[0.20781504]\n",
            "\n",
            "\n",
            "The ending was so sad and yet so uplifting at the same time. \n",
            " I'm looking for an excuse to see it again\n",
            "[0.9992545]\n",
            "\n",
            "\n",
            "I had expected so much more from a movie made by the director \n",
            " who made my most favorite movie ever, I was very disappointed in the tedious \n",
            " story\n",
            "[0.00539702]\n",
            "\n",
            "\n",
            "I wish I could watch this movie every day for the rest of my life\n",
            "[0.00591737]\n",
            "\n",
            "\n"
          ],
          "name": "stdout"
        }
      ]
    }
  ]
}